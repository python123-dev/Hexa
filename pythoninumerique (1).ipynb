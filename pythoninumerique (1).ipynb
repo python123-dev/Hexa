{
 "cells": [
  {
   "cell_type": "code",
   "execution_count": null,
   "metadata": {
    "colab": {
     "base_uri": "https://localhost:8080/"
    },
    "executionInfo": {
     "elapsed": 2316,
     "status": "ok",
     "timestamp": 1616996110742,
     "user": {
      "displayName": "LuckyFish Vlog",
      "photoUrl": "",
      "userId": "12188633397091826884"
     },
     "user_tz": -330
    },
    "id": "UzZHI7FqFSDV",
    "outputId": "5f09125b-2bcc-4c4b-8579-c2140653176e"
   },
   "outputs": [
    {
     "name": "stdout",
     "output_type": "stream",
     "text": [
      "hello world\n"
     ]
    }
   ],
   "source": [
    "print(\"hello world\")"
   ]
  },
  {
   "cell_type": "code",
   "execution_count": null,
   "metadata": {},
   "outputs": [],
   "source": [
    "'BCA24001'\n",
    "'[A-Za-z]{3,}'+'24'+'[0-9]{3,}'"
   ]
  },
  {
   "cell_type": "code",
   "execution_count": 14,
   "metadata": {
    "id": "BzR-dyWxPfww"
   },
   "outputs": [
    {
     "name": "stdout",
     "output_type": "stream",
     "text": [
      "enter ur name:24\n",
      "<class 'int'>\n"
     ]
    }
   ],
   "source": [
    "age=int(input('enter ur name:'))\n",
    "print(type(age))\n",
    "  \n",
    "  \n"
   ]
  },
  {
   "cell_type": "code",
   "execution_count": 15,
   "metadata": {},
   "outputs": [
    {
     "name": "stdout",
     "output_type": "stream",
     "text": [
      "Twinkle, twinkle, little star, \n",
      "\tHow I wonder what you are! \n",
      "\t\tUp above the world so high, \n",
      "\t\tLike a diamond in the sky. \n",
      "Twinkle, twinkle, little star, \n",
      "\tHow I wonder what you are!\n"
     ]
    }
   ],
   "source": [
    "print(\"Twinkle, twinkle, little star, \\n\\tHow I wonder what you are! \\n\\t\\tUp above the world so high, \\n\\t\\tLike a diamond in the sky. \\nTwinkle, twinkle, little star, \\n\\tHow I wonder what you are!\")\n"
   ]
  },
  {
   "cell_type": "code",
   "execution_count": 20,
   "metadata": {},
   "outputs": [
    {
     "name": "stdout",
     "output_type": "stream",
     "text": [
      "simple interest 200.0\n",
      "200.0\n"
     ]
    }
   ],
   "source": [
    "def simpleinterest(p,n,r):\n",
    "    si=p*n*r/100\n",
    "    print(\"simple interest\",si)\n",
    "    return si\n",
    "\n",
    "simple=simpleinterest(1000,2,10)\n",
    "print(simple)"
   ]
  },
  {
   "cell_type": "code",
   "execution_count": 4,
   "metadata": {},
   "outputs": [
    {
     "name": "stdout",
     "output_type": "stream",
     "text": [
      "abc\n"
     ]
    }
   ],
   "source": [
    "print(name)"
   ]
  },
  {
   "cell_type": "code",
   "execution_count": 9,
   "metadata": {},
   "outputs": [
    {
     "name": "stdout",
     "output_type": "stream",
     "text": [
      "1$2$3$4/\n",
      "hello\n"
     ]
    }
   ],
   "source": [
    "print(1,2,3,4,sep='$',end='/')\n",
    "print()\n",
    "print('hello')\n"
   ]
  },
  {
   "cell_type": "code",
   "execution_count": 13,
   "metadata": {},
   "outputs": [
    {
     "name": "stdout",
     "output_type": "stream",
     "text": [
      "\t\n",
      "hello\n"
     ]
    }
   ],
   "source": [
    "print('hello')"
   ]
  },
  {
   "cell_type": "code",
   "execution_count": null,
   "metadata": {
    "colab": {
     "base_uri": "https://localhost:8080/"
    },
    "executionInfo": {
     "elapsed": 323,
     "status": "ok",
     "timestamp": 1631270829123,
     "user": {
      "displayName": "LuckyFish Vlog",
      "photoUrl": "https://lh3.googleusercontent.com/a/default-user=s64",
      "userId": "12188633397091826884"
     },
     "user_tz": -330
    },
    "id": "Ify02H2yZ_5m",
    "outputId": "e88a4d98-862c-4876-ae23-f208bc3c0e80"
   },
   "outputs": [
    {
     "name": "stdout",
     "output_type": "stream",
     "text": [
      "true\n"
     ]
    }
   ],
   "source": [
    "#this is a demo\n",
    "'''this\n",
    "thi is if\n",
    "and else'''\n",
    "if True:\n",
    " print(\"true\")\n",
    "else:\n",
    " print(\"false\")"
   ]
  },
  {
   "cell_type": "code",
   "execution_count": null,
   "metadata": {
    "collapsed": true
   },
   "outputs": [],
   "source": []
  },
  {
   "cell_type": "code",
   "execution_count": null,
   "metadata": {
    "colab": {
     "base_uri": "https://localhost:8080/"
    },
    "executionInfo": {
     "elapsed": 326,
     "status": "ok",
     "timestamp": 1631271212244,
     "user": {
      "displayName": "LuckyFish Vlog",
      "photoUrl": "https://lh3.googleusercontent.com/a/default-user=s64",
      "userId": "12188633397091826884"
     },
     "user_tz": -330
    },
    "id": "FR2sslNea6z3",
    "outputId": "526f4fc4-fcc6-4ce4-b640-66998ff2bd19"
   },
   "outputs": [
    {
     "name": "stdout",
     "output_type": "stream",
     "text": [
      "<class 'float'>\n"
     ]
    }
   ],
   "source": [
    "name=\"xyz\"\n",
    "age=20\n",
    "height=5.9\n",
    " \n",
    "print(type(height))"
   ]
  },
  {
   "cell_type": "code",
   "execution_count": null,
   "metadata": {
    "colab": {
     "base_uri": "https://localhost:8080/"
    },
    "executionInfo": {
     "elapsed": 330,
     "status": "ok",
     "timestamp": 1631271639660,
     "user": {
      "displayName": "LuckyFish Vlog",
      "photoUrl": "https://lh3.googleusercontent.com/a/default-user=s64",
      "userId": "12188633397091826884"
     },
     "user_tz": -330
    },
    "id": "VeaddwVObcyF",
    "outputId": "49bed537-f677-48b9-a5e5-342546ff61b0"
   },
   "outputs": [
    {
     "name": "stdout",
     "output_type": "stream",
     "text": [
      "['False', 'None', 'True', 'and', 'as', 'assert', 'async', 'await', 'break', 'class', 'continue', 'def', 'del', 'elif', 'else', 'except', 'finally', 'for', 'from', 'global', 'if', 'import', 'in', 'is', 'lambda', 'nonlocal', 'not', 'or', 'pass', 'raise', 'return', 'try', 'while', 'with', 'yield']\n"
     ]
    }
   ],
   "source": [
    "import keyword as kd\n",
    "import pandas as pd\n",
    "from math import pi\n",
    "\n",
    "print(kd.kwlist)"
   ]
  },
  {
   "cell_type": "code",
   "execution_count": null,
   "metadata": {
    "colab": {
     "base_uri": "https://localhost:8080/"
    },
    "executionInfo": {
     "elapsed": 448,
     "status": "ok",
     "timestamp": 1628486446795,
     "user": {
      "displayName": "LuckyFish Vlog",
      "photoUrl": "",
      "userId": "12188633397091826884"
     },
     "user_tz": -330
    },
    "id": "xs1DxYKZNm9s",
    "outputId": "40d59e88-3ff5-4ce8-a81c-b8b69fa696c2"
   },
   "outputs": [
    {
     "name": "stdout",
     "output_type": "stream",
     "text": [
      "hello world\n"
     ]
    }
   ],
   "source": [
    "# this is an single line comment\n",
    "\n",
    "\n",
    "# this is hello world program\n",
    "\n",
    "'''welcome \n",
    "to python class\n",
    "today'''\n",
    "print(\"hello world\")"
   ]
  },
  {
   "cell_type": "code",
   "execution_count": null,
   "metadata": {
    "colab": {
     "base_uri": "https://localhost:8080/"
    },
    "executionInfo": {
     "elapsed": 958,
     "status": "ok",
     "timestamp": 1615254040843,
     "user": {
      "displayName": "LuckyFish Vlog",
      "photoUrl": "",
      "userId": "12188633397091826884"
     },
     "user_tz": -330
    },
    "id": "lpzywlrANoT0",
    "outputId": "6805b8f3-b6f0-48a3-b9f3-52946eccb701"
   },
   "outputs": [
    {
     "name": "stdout",
     "output_type": "stream",
     "text": [
      "hello\n"
     ]
    }
   ],
   "source": [
    "''' this \n",
    "is a multi line\n",
    "comment'''\n",
    "print(\"hello\")"
   ]
  },
  {
   "cell_type": "code",
   "execution_count": null,
   "metadata": {
    "colab": {
     "base_uri": "https://localhost:8080/"
    },
    "executionInfo": {
     "elapsed": 3127,
     "status": "ok",
     "timestamp": 1631272316240,
     "user": {
      "displayName": "LuckyFish Vlog",
      "photoUrl": "https://lh3.googleusercontent.com/a/default-user=s64",
      "userId": "12188633397091826884"
     },
     "user_tz": -330
    },
    "id": "jhlMM2paWFiO",
    "outputId": "ccb1661a-3ed8-4717-cb9a-fb5e880983da"
   },
   "outputs": [
    {
     "name": "stdout",
     "output_type": "stream",
     "text": [
      "12\n"
     ]
    }
   ],
   "source": [
    "num=float(input())"
   ]
  },
  {
   "cell_type": "code",
   "execution_count": null,
   "metadata": {
    "colab": {
     "base_uri": "https://localhost:8080/"
    },
    "executionInfo": {
     "elapsed": 336,
     "status": "ok",
     "timestamp": 1631271381916,
     "user": {
      "displayName": "LuckyFish Vlog",
      "photoUrl": "https://lh3.googleusercontent.com/a/default-user=s64",
      "userId": "12188633397091826884"
     },
     "user_tz": -330
    },
    "id": "wnHWSCdkWPUp",
    "outputId": "d8876e24-90f1-4a0f-98f2-efe092aa190b"
   },
   "outputs": [
    {
     "data": {
      "text/plain": [
       "float"
      ]
     },
     "execution_count": 11,
     "metadata": {},
     "output_type": "execute_result"
    }
   ],
   "source": [
    "type(num)"
   ]
  },
  {
   "cell_type": "code",
   "execution_count": null,
   "metadata": {
    "colab": {
     "base_uri": "https://localhost:8080/"
    },
    "executionInfo": {
     "elapsed": 11933,
     "status": "ok",
     "timestamp": 1631272341875,
     "user": {
      "displayName": "LuckyFish Vlog",
      "photoUrl": "https://lh3.googleusercontent.com/a/default-user=s64",
      "userId": "12188633397091826884"
     },
     "user_tz": -330
    },
    "id": "dhFXeeQwdTIP",
    "outputId": "f98dde5b-b40d-436b-aa4a-e3d270c9b214"
   },
   "outputs": [
    {
     "name": "stdout",
     "output_type": "stream",
     "text": [
      "enter the number26\n"
     ]
    }
   ],
   "source": [
    "number=input(\"enter the number\")"
   ]
  },
  {
   "cell_type": "code",
   "execution_count": null,
   "metadata": {
    "colab": {
     "base_uri": "https://localhost:8080/"
    },
    "executionInfo": {
     "elapsed": 2957,
     "status": "ok",
     "timestamp": 1631272385109,
     "user": {
      "displayName": "LuckyFish Vlog",
      "photoUrl": "https://lh3.googleusercontent.com/a/default-user=s64",
      "userId": "12188633397091826884"
     },
     "user_tz": -330
    },
    "id": "ixzBA0_fdmXr",
    "outputId": "121a8f28-92f3-494b-cf57-39edda89ff8e"
   },
   "outputs": [
    {
     "name": "stdout",
     "output_type": "stream",
     "text": [
      "enter number1  = 36\n"
     ]
    }
   ],
   "source": [
    "number1=int(input(\"enter number1  = \"))\n"
   ]
  },
  {
   "cell_type": "code",
   "execution_count": null,
   "metadata": {
    "colab": {
     "base_uri": "https://localhost:8080/"
    },
    "executionInfo": {
     "elapsed": 736,
     "status": "ok",
     "timestamp": 1631272425354,
     "user": {
      "displayName": "LuckyFish Vlog",
      "photoUrl": "https://lh3.googleusercontent.com/a/default-user=s64",
      "userId": "12188633397091826884"
     },
     "user_tz": -330
    },
    "id": "kzPj_xR-eFJa",
    "outputId": "66377a4e-6242-467d-803d-f12e6c8c986f"
   },
   "outputs": [
    {
     "name": "stdout",
     "output_type": "stream",
     "text": [
      "<class 'int'>\n"
     ]
    }
   ],
   "source": [
    "print(type(number1))"
   ]
  },
  {
   "cell_type": "code",
   "execution_count": null,
   "metadata": {
    "colab": {
     "base_uri": "https://localhost:8080/"
    },
    "executionInfo": {
     "elapsed": 8,
     "status": "ok",
     "timestamp": 1631272604393,
     "user": {
      "displayName": "LuckyFish Vlog",
      "photoUrl": "https://lh3.googleusercontent.com/a/default-user=s64",
      "userId": "12188633397091826884"
     },
     "user_tz": -330
    },
    "id": "6H6DdreegMwQ",
    "outputId": "69bb1921-9cf0-49cd-ab27-144cda1889fe"
   },
   "outputs": [
    {
     "name": "stdout",
     "output_type": "stream",
     "text": [
      "1 2 3 4 5\n",
      "1,2,3,4,5\n",
      "1*2*3*4*5/"
     ]
    }
   ],
   "source": [
    "print(1,2,3,4,5)\n",
    "print(1,2,3,4,5,sep=',')\n",
    "print(1,2,3,4,5,sep='*',end='/')"
   ]
  },
  {
   "cell_type": "code",
   "execution_count": 1,
   "metadata": {
    "colab": {
     "base_uri": "https://localhost:8080/"
    },
    "executionInfo": {
     "elapsed": 345,
     "status": "ok",
     "timestamp": 1631273288103,
     "user": {
      "displayName": "LuckyFish Vlog",
      "photoUrl": "https://lh3.googleusercontent.com/a/default-user=s64",
      "userId": "12188633397091826884"
     },
     "user_tz": -330
    },
    "id": "VQQwBWY1hr_V",
    "outputId": "329135bb-7850-444a-af70-13f148b3e20f"
   },
   "outputs": [
    {
     "name": "stdout",
     "output_type": "stream",
     "text": [
      "x + y = 19\n",
      "x - y = 11\n",
      "x * y = 60\n",
      "x / y = 3.75\n",
      "x // y = 3\n",
      "x ** y = 50625\n"
     ]
    }
   ],
   "source": [
    "x = 15\n",
    "y = 4\n",
    "\n",
    "\n",
    "print('x + y =',x+y)\n",
    "\n",
    "\n",
    "print('x - y =',x-y)\n",
    "\n",
    "\n",
    "print('x * y =',x*y)\n",
    "\n",
    "\n",
    "print('x / y =',x/y)\n",
    "\n",
    "\n",
    "print('x // y =',x//y)\n",
    "\n",
    "\n",
    "print('x ** y =',x**y)\n"
   ]
  },
  {
   "cell_type": "code",
   "execution_count": null,
   "metadata": {
    "colab": {
     "base_uri": "https://localhost:8080/"
    },
    "executionInfo": {
     "elapsed": 383,
     "status": "ok",
     "timestamp": 1622694997545,
     "user": {
      "displayName": "LuckyFish Vlog",
      "photoUrl": "",
      "userId": "12188633397091826884"
     },
     "user_tz": -330
    },
    "id": "Mx9XtQQoKCC5",
    "outputId": "e05f61ab-0f97-44d7-ff2b-f789d303bad2"
   },
   "outputs": [
    {
     "data": {
      "text/plain": [
       "20.0"
      ]
     },
     "execution_count": 2,
     "metadata": {
      "tags": []
     },
     "output_type": "execute_result"
    }
   ],
   "source": [
    "100/5\n"
   ]
  },
  {
   "cell_type": "code",
   "execution_count": null,
   "metadata": {
    "colab": {
     "base_uri": "https://localhost:8080/",
     "height": 126
    },
    "executionInfo": {
     "elapsed": 1002,
     "status": "ok",
     "timestamp": 1598274460910,
     "user": {
      "displayName": "Gautham Velayutham",
      "photoUrl": "",
      "userId": "05764642726617643049"
     },
     "user_tz": -330
    },
    "id": "6RxLzvUVkjpw",
    "outputId": "745ba3c7-00c3-4d9d-b7f6-ae9b8bc9502c"
   },
   "outputs": [
    {
     "name": "stdout",
     "output_type": "stream",
     "text": [
      "x > y is False\n",
      "x < y is True\n",
      "x == y is False\n",
      "x != y is True\n",
      "x >= y is False\n",
      "x <= y is True\n"
     ]
    }
   ],
   "source": [
    "x = 10\n",
    "y = 12\n",
    "\n",
    "\n",
    "print('x > y is',x>y)\n",
    "\n",
    "\n",
    "print('x < y is',x<y)\n",
    "\n",
    "\n",
    "print('x == y is',x==y)\n",
    "\n",
    "\n",
    "print('x != y is',x!=y)\n",
    "\n",
    "\n",
    "print('x >= y is',x>=y)\n",
    "\n",
    "\n",
    "print('x <= y is',x<=y)"
   ]
  },
  {
   "cell_type": "code",
   "execution_count": null,
   "metadata": {
    "colab": {
     "base_uri": "https://localhost:8080/",
     "height": 72
    },
    "executionInfo": {
     "elapsed": 934,
     "status": "ok",
     "timestamp": 1598274709393,
     "user": {
      "displayName": "Gautham Velayutham",
      "photoUrl": "",
      "userId": "05764642726617643049"
     },
     "user_tz": -330
    },
    "id": "aQEV4kxHllJO",
    "outputId": "fb44ea49-9e7c-483d-aa6c-e505a984b0fd"
   },
   "outputs": [
    {
     "name": "stdout",
     "output_type": "stream",
     "text": [
      "x and y is False\n",
      "x or y is True\n",
      "not x is True\n"
     ]
    }
   ],
   "source": [
    "x = True\n",
    "y = False\n",
    "\n",
    "print('x and y is',x and y)\n",
    "\n",
    "print('x or y is',x or y)\n",
    "\n",
    "print('not y is',not y)"
   ]
  },
  {
   "cell_type": "code",
   "execution_count": null,
   "metadata": {
    "colab": {
     "base_uri": "https://localhost:8080/"
    },
    "executionInfo": {
     "elapsed": 1407,
     "status": "ok",
     "timestamp": 1617168197295,
     "user": {
      "displayName": "LuckyFish Vlog",
      "photoUrl": "",
      "userId": "12188633397091826884"
     },
     "user_tz": -330
    },
    "id": "j1zMq8Z57G1F",
    "outputId": "18ed8644-4d9b-4102-97ca-312263a5179c"
   },
   "outputs": [
    {
     "name": "stdout",
     "output_type": "stream",
     "text": [
      "3 is a positive number.\n",
      "This is always printed.\n",
      "This is also always printed.\n"
     ]
    }
   ],
   "source": [
    "# If the number is positive, we print an appropriate message\n",
    "\n",
    "num = 3\n",
    "if num > 0:\n",
    "  print(num, \"is a positive number.\")\n",
    "print(\"This is always printed.\")\n",
    "\n",
    "num = -1\n",
    "if num > 0:\n",
    "    print(num, \"is a negative number.\")\n",
    "print(\"This is also always printed.\")"
   ]
  },
  {
   "cell_type": "code",
   "execution_count": 21,
   "metadata": {
    "colab": {
     "base_uri": "https://localhost:8080/"
    },
    "executionInfo": {
     "elapsed": 508,
     "status": "ok",
     "timestamp": 1631683418729,
     "user": {
      "displayName": "LuckyFish Vlog",
      "photoUrl": "https://lh3.googleusercontent.com/a/default-user=s64",
      "userId": "12188633397091826884"
     },
     "user_tz": -330
    },
    "id": "CUDm6sG27tc4",
    "outputId": "8d046b33-cab4-463a-a8ec-11deb058dd2e"
   },
   "outputs": [
    {
     "name": "stdout",
     "output_type": "stream",
     "text": [
      "Positive or Zero\n"
     ]
    }
   ],
   "source": [
    "# Program checks if the number is positive or negative\n",
    "# And displays an appropriate message\n",
    "\n",
    "num = 3\n",
    "\n",
    "#Try these two variations as well. \n",
    "num = -5\n",
    "num = -12\n",
    "\n",
    "if num >= 0:\n",
    "    print(\"Positive or Zero\")\n",
    "else:\n",
    "    print(\"Negative number\")"
   ]
  },
  {
   "cell_type": "code",
   "execution_count": null,
   "metadata": {
    "collapsed": true,
    "id": "oNNkSkjP7_y0"
   },
   "outputs": [],
   "source": [
    "'''In this program, \n",
    "we check if the number is positive or\n",
    "negative or zero and \n",
    "display an appropriate message'''\n",
    "\n",
    "num = 3.4\n",
    "\n",
    "# Try these two variations as well:\n",
    "num = 0\n",
    "num = -4.5\n",
    "\n",
    "if num > 0:\n",
    "    print(\"Positive number\")\n",
    "elif num == 0:\n",
    "    print(\"Zero\")\n",
    "else:\n",
    "    #print(\"Negative number\")"
   ]
  },
  {
   "cell_type": "code",
   "execution_count": null,
   "metadata": {
    "colab": {
     "base_uri": "https://localhost:8080/"
    },
    "executionInfo": {
     "elapsed": 4031,
     "status": "ok",
     "timestamp": 1628658050680,
     "user": {
      "displayName": "LuckyFish Vlog",
      "photoUrl": "",
      "userId": "12188633397091826884"
     },
     "user_tz": -330
    },
    "id": "TZnPE7KsIoAX",
    "outputId": "516f2b29-4469-45a5-90bf-49840f77a80c"
   },
   "outputs": [
    {
     "name": "stdout",
     "output_type": "stream",
     "text": [
      "Enter a number: 3\n",
      "Positive number\n"
     ]
    }
   ],
   "source": [
    "'''In this program, we input a number\n",
    "check if the number is positive or\n",
    "negative or zero and display\n",
    "an appropriate message\n",
    "This time we use nested if statement'''\n",
    "\n",
    "num = float(input(\"Enter a number: \"))\n",
    "if num >= 0:\n",
    "    if num == 0:\n",
    "        print(\"Zero\")\n",
    "    else:\n",
    "        print(\"Positive number\")\n",
    "else:\n",
    "    print(\"Negative number\")"
   ]
  },
  {
   "cell_type": "code",
   "execution_count": null,
   "metadata": {
    "collapsed": true
   },
   "outputs": [],
   "source": [
    "mark=60\n",
    "if mark>50 or mark>70 or mark>90:\n",
    "    print(\"average\")\n",
    "    "
   ]
  },
  {
   "cell_type": "code",
   "execution_count": 27,
   "metadata": {},
   "outputs": [
    {
     "name": "stdout",
     "output_type": "stream",
     "text": [
      "97\n",
      "0b1100001\n"
     ]
    }
   ],
   "source": [
    "a=ord('a')\n",
    "print(a)\n",
    "b=bin(a)\n",
    "print(b)"
   ]
  },
  {
   "cell_type": "code",
   "execution_count": 29,
   "metadata": {},
   "outputs": [
    {
     "data": {
      "text/plain": [
       "'f'"
      ]
     },
     "execution_count": 29,
     "metadata": {},
     "output_type": "execute_result"
    }
   ],
   "source": [
    "a='ksbvaklshdvklcb'\n",
    "chr(a)"
   ]
  },
  {
   "cell_type": "code",
   "execution_count": 30,
   "metadata": {},
   "outputs": [
    {
     "name": "stdout",
     "output_type": "stream",
     "text": [
      "30\n"
     ]
    }
   ],
   "source": [
    "a=10\n",
    "b=20\n",
    "c=30\n",
    "if a>b and a>c:\n",
    "    print( a)\n",
    "    \n",
    "elif b>a and b>c:\n",
    "    print(b)\n",
    "elif c>b and c > a:\n",
    "    print(c)"
   ]
  },
  {
   "cell_type": "code",
   "execution_count": 32,
   "metadata": {},
   "outputs": [
    {
     "name": "stdout",
     "output_type": "stream",
     "text": [
      "enter a char:c\n",
      "user entered a consonent\n"
     ]
    }
   ],
   "source": [
    "u=input(\"enter a char:\")\n",
    "if (u=='a'or u=='A')or u=='e' or u=='i' or u=='o' or u=='u':\n",
    "    print('user entered a vowel')\n",
    "else:\n",
    "    print(\"user entered a consonent\")"
   ]
  },
  {
   "cell_type": "code",
   "execution_count": null,
   "metadata": {
    "colab": {
     "base_uri": "https://localhost:8080/"
    },
    "executionInfo": {
     "elapsed": 8,
     "status": "ok",
     "timestamp": 1622782349845,
     "user": {
      "displayName": "LuckyFish Vlog",
      "photoUrl": "",
      "userId": "12188633397091826884"
     },
     "user_tz": -330
    },
    "id": "xk_3mOgLKwQW",
    "outputId": "630d4896-8d9c-4c5b-a10f-7934622bcafb"
   },
   "outputs": [
    {
     "name": "stdout",
     "output_type": "stream",
     "text": [
      "North\n",
      "East\n",
      "West\n",
      "South\n"
     ]
    }
   ],
   "source": [
    "directions = ['North','East','West','South']\n",
    "for pole in directions:\n",
    "    print(pole)"
   ]
  },
  {
   "cell_type": "code",
   "execution_count": 2,
   "metadata": {
    "colab": {
     "base_uri": "https://localhost:8080/"
    },
    "executionInfo": {
     "elapsed": 509,
     "status": "ok",
     "timestamp": 1631684548663,
     "user": {
      "displayName": "LuckyFish Vlog",
      "photoUrl": "https://lh3.googleusercontent.com/a/default-user=s64",
      "userId": "12188633397091826884"
     },
     "user_tz": -330
    },
    "id": "1DXSbd8yLMkV",
    "outputId": "8505dab4-debc-4c1e-e57c-f75f72bd2536"
   },
   "outputs": [
    {
     "name": "stdout",
     "output_type": "stream",
     "text": [
      "hello\n",
      "hello\n",
      "hello\n",
      "hello\n",
      "hello\n"
     ]
    }
   ],
   "source": [
    "# for range(stop)\n",
    "\n",
    "for n in range(5):\n",
    "    print('hello')"
   ]
  },
  {
   "cell_type": "code",
   "execution_count": 3,
   "metadata": {
    "colab": {
     "base_uri": "https://localhost:8080/"
    },
    "executionInfo": {
     "elapsed": 452,
     "status": "ok",
     "timestamp": 1631684745315,
     "user": {
      "displayName": "LuckyFish Vlog",
      "photoUrl": "https://lh3.googleusercontent.com/a/default-user=s64",
      "userId": "12188633397091826884"
     },
     "user_tz": -330
    },
    "id": "WWnfQkRALcqV",
    "outputId": "e95578ef-05d0-41d8-d633-7bc81674f30b"
   },
   "outputs": [
    {
     "name": "stdout",
     "output_type": "stream",
     "text": [
      "5\n",
      "6\n",
      "7\n",
      "8\n",
      "9\n",
      "10\n",
      "11\n",
      "12\n",
      "13\n",
      "14\n",
      "15\n",
      "16\n",
      "17\n",
      "18\n",
      "19\n",
      "20\n"
     ]
    }
   ],
   "source": [
    "# for range(start,stop)\n",
    "for n in range(5,20):\n",
    "    print(n)"
   ]
  },
  {
   "cell_type": "code",
   "execution_count": null,
   "metadata": {
    "colab": {
     "base_uri": "https://localhost:8080/",
     "height": 199
    },
    "executionInfo": {
     "elapsed": 825,
     "status": "ok",
     "timestamp": 1598774008080,
     "user": {
      "displayName": "Gautham Velayutham",
      "photoUrl": "",
      "userId": "05764642726617643049"
     },
     "user_tz": -330
    },
    "id": "27f-8rWxLsu3",
    "outputId": "1446a505-c32d-42a7-bef0-82907e419df6"
   },
   "outputs": [
    {
     "name": "stdout",
     "output_type": "stream",
     "text": [
      "0\n",
      "2\n",
      "4\n",
      "6\n",
      "8\n",
      "10\n",
      "12\n",
      "14\n",
      "16\n",
      "18\n"
     ]
    }
   ],
   "source": [
    "#for range(start,stop,step)\n",
    "for n in range(0,20,2):\n",
    "    print(n)"
   ]
  },
  {
   "cell_type": "code",
   "execution_count": null,
   "metadata": {
    "colab": {
     "base_uri": "https://localhost:8080/",
     "height": 90
    },
    "executionInfo": {
     "elapsed": 971,
     "status": "ok",
     "timestamp": 1598774046635,
     "user": {
      "displayName": "Gautham Velayutham",
      "photoUrl": "",
      "userId": "05764642726617643049"
     },
     "user_tz": -330
    },
    "id": "v7udRhKdMHE2",
    "outputId": "d0a0161f-6859-408e-bb25-c5ee92a1cb83"
   },
   "outputs": [
    {
     "name": "stdout",
     "output_type": "stream",
     "text": [
      "0\n",
      "1\n",
      "5\n",
      "No items left.\n"
     ]
    }
   ],
   "source": [
    "#for else\n",
    "digits = [0, 1, 5]\n",
    "\n",
    "for i in digits:\n",
    "    print(i)\n",
    "else:\n",
    "    print(\"No items left.\")"
   ]
  },
  {
   "cell_type": "code",
   "execution_count": null,
   "metadata": {
    "colab": {
     "base_uri": "https://localhost:8080/"
    },
    "executionInfo": {
     "elapsed": 469,
     "status": "ok",
     "timestamp": 1628743194500,
     "user": {
      "displayName": "LuckyFish Vlog",
      "photoUrl": "",
      "userId": "12188633397091826884"
     },
     "user_tz": -330
    },
    "id": "HhrGa8SRMScD",
    "outputId": "08730407-ba18-4d41-e006-0574051e2a88"
   },
   "outputs": [
    {
     "name": "stdout",
     "output_type": "stream",
     "text": [
      "1 2 3 4 \n",
      "2 4 6 8 \n",
      "3 6 9 12 \n",
      "4 8 12 16 \n"
     ]
    }
   ],
   "source": [
    "#nested for\n",
    "for outer in range(1,5):\n",
    "   for nested in range(1,5):\n",
    "      res = outer*nested\n",
    "      print (res, end=' ')\n",
    "   print()"
   ]
  },
  {
   "cell_type": "code",
   "execution_count": null,
   "metadata": {
    "colab": {
     "base_uri": "https://localhost:8080/"
    },
    "executionInfo": {
     "elapsed": 632,
     "status": "ok",
     "timestamp": 1631685596986,
     "user": {
      "displayName": "LuckyFish Vlog",
      "photoUrl": "https://lh3.googleusercontent.com/a/default-user=s64",
      "userId": "12188633397091826884"
     },
     "user_tz": -330
    },
    "id": "YoqPMHnLeMvF",
    "outputId": "9f934b5a-a522-498e-cf21-0c845fe60387"
   },
   "outputs": [
    {
     "name": "stdout",
     "output_type": "stream",
     "text": [
      "(0, 120)\n",
      "(1, 130)\n",
      "(2, 140)\n",
      "(3, 130)\n"
     ]
    }
   ],
   "source": [
    "price = [120,130,140,130]\n",
    "for i in enumerate(price):\n",
    "    print(i)\n",
    "    #print(i[0])\n",
    "    #print(i[1])\n",
    "    #print(\"################\") \n",
    "\n",
    "#print(price[2])"
   ]
  },
  {
   "cell_type": "code",
   "execution_count": null,
   "metadata": {
    "colab": {
     "base_uri": "https://localhost:8080/"
    },
    "executionInfo": {
     "elapsed": 340,
     "status": "ok",
     "timestamp": 1628659321062,
     "user": {
      "displayName": "LuckyFish Vlog",
      "photoUrl": "",
      "userId": "12188633397091826884"
     },
     "user_tz": -330
    },
    "id": "QIQGha7rh9hr",
    "outputId": "73178210-e4c0-480f-ab28-06079f1d56af"
   },
   "outputs": [
    {
     "name": "stdout",
     "output_type": "stream",
     "text": [
      "The square root of 4.000 is 2.000\n"
     ]
    }
   ],
   "source": [
    "# Python Program to calculate the square root\n",
    "\n",
    "# Note: change this value for a different result\n",
    "num =4  \n",
    "\n",
    "# To take the input from the user\n",
    "#num = float(input('Enter a number: '))\n",
    "\n",
    "num_sqrt = num ** 0.5\n",
    "print('The square root of %0.3f is %0.3f'%(num ,num_sqrt))"
   ]
  },
  {
   "cell_type": "code",
   "execution_count": null,
   "metadata": {
    "colab": {
     "base_uri": "https://localhost:8080/"
    },
    "executionInfo": {
     "elapsed": 4535,
     "status": "ok",
     "timestamp": 1628659754261,
     "user": {
      "displayName": "LuckyFish Vlog",
      "photoUrl": "",
      "userId": "12188633397091826884"
     },
     "user_tz": -330
    },
    "id": "3sY96_gSZ_eY",
    "outputId": "268bb7b1-262b-4973-ed5e-b17f6ffd43e1"
   },
   "outputs": [
    {
     "name": "stdout",
     "output_type": "stream",
     "text": [
      "Enter n: 10\n",
      "The sum is 55\n"
     ]
    }
   ],
   "source": [
    "# Program to add natural\n",
    "# numbers up to \n",
    "# sum = 1+2+3+...+n\n",
    " \n",
    "# To take input from the user,\n",
    "n = int(input(\"Enter n: \"))\n",
    " \n",
    "#n = 10\n",
    " \n",
    "# initialize sum and counter\n",
    "sum = 0\n",
    "i = 1\n",
    " \n",
    "while i <= n:\n",
    "    sum = sum + i\n",
    "    i = i+1    # update counter\n",
    " \n",
    "# print the sum\n",
    "print(\"The sum is\", sum)"
   ]
  },
  {
   "cell_type": "code",
   "execution_count": null,
   "metadata": {
    "colab": {
     "base_uri": "https://localhost:8080/"
    },
    "executionInfo": {
     "elapsed": 379,
     "status": "ok",
     "timestamp": 1622783651078,
     "user": {
      "displayName": "LuckyFish Vlog",
      "photoUrl": "",
      "userId": "12188633397091826884"
     },
     "user_tz": -330
    },
    "id": "L5mKppGIaVmy",
    "outputId": "8d34d88b-de9d-476d-98d1-fa5e1bbb7bd7"
   },
   "outputs": [
    {
     "name": "stdout",
     "output_type": "stream",
     "text": [
      "Inside loop\n",
      "Inside loop\n",
      "Inside loop\n",
      "outside else\n"
     ]
    }
   ],
   "source": [
    "'''Example to illustrate\n",
    "the use of else statement\n",
    "with the while loop'''\n",
    " \n",
    "counter = 0\n",
    " \n",
    "while counter < 3:\n",
    "    print(\"Inside loop\")\n",
    "    counter = counter + 1\n",
    "else:\n",
    "    print(\"outside else\")"
   ]
  },
  {
   "cell_type": "code",
   "execution_count": null,
   "metadata": {
    "colab": {
     "base_uri": "https://localhost:8080/"
    },
    "executionInfo": {
     "elapsed": 449,
     "status": "ok",
     "timestamp": 1628660370438,
     "user": {
      "displayName": "LuckyFish Vlog",
      "photoUrl": "",
      "userId": "12188633397091826884"
     },
     "user_tz": -330
    },
    "id": "nX3SjCvffjbk",
    "outputId": "30076930-ec74-4777-b960-7010d5a0d36a"
   },
   "outputs": [
    {
     "name": "stdout",
     "output_type": "stream",
     "text": [
      "Current character: P\n",
      "Current character: y\n",
      "Current character: t\n",
      "Current character: h\n",
      "Current character: n\n"
     ]
    }
   ],
   "source": [
    "#continue\n",
    "for char in 'Python':\n",
    "      if (char == 'o'):\n",
    "           continue\n",
    "      print('Current character:', char)"
   ]
  },
  {
   "cell_type": "code",
   "execution_count": 20,
   "metadata": {},
   "outputs": [
    {
     "name": "stdout",
     "output_type": "stream",
     "text": [
      "e\n"
     ]
    }
   ],
   "source": []
  },
  {
   "cell_type": "code",
   "execution_count": null,
   "metadata": {
    "collapsed": true
   },
   "outputs": [],
   "source": []
  },
  {
   "cell_type": "code",
   "execution_count": null,
   "metadata": {
    "colab": {
     "base_uri": "https://localhost:8080/",
     "height": 72
    },
    "executionInfo": {
     "elapsed": 1216,
     "status": "ok",
     "timestamp": 1598776742731,
     "user": {
      "displayName": "Gautham Velayutham",
      "photoUrl": "",
      "userId": "05764642726617643049"
     },
     "user_tz": -330
    },
    "id": "MoG2kXA5f4mA",
    "outputId": "f62fe7ff-cde1-4136-d35a-9ae39729eaa8"
   },
   "outputs": [
    {
     "name": "stdout",
     "output_type": "stream",
     "text": [
      "Current character:  P\n",
      "Current character:  y\n",
      "Current character:  t\n"
     ]
    }
   ],
   "source": [
    "#break\n",
    "for char in 'Python':\n",
    "       if (char == 'h'):\n",
    "           break\n",
    "       print('Current character: ', char)"
   ]
  },
  {
   "cell_type": "code",
   "execution_count": null,
   "metadata": {
    "colab": {
     "base_uri": "https://localhost:8080/",
     "height": 126
    },
    "executionInfo": {
     "elapsed": 934,
     "status": "ok",
     "timestamp": 1598776832220,
     "user": {
      "displayName": "Gautham Velayutham",
      "photoUrl": "",
      "userId": "05764642726617643049"
     },
     "user_tz": -330
    },
    "id": "lD_OKX8xgKKQ",
    "outputId": "566c2751-756c-436d-9c8f-3a81b27ae5d3"
   },
   "outputs": [
    {
     "name": "stdout",
     "output_type": "stream",
     "text": [
      "Current character:  P\n",
      "Current character:  y\n",
      "Current character:  t\n",
      "Current character:  h\n",
      "Current character:  o\n",
      "Current character:  n\n"
     ]
    }
   ],
   "source": [
    "#pass\n",
    "for char in 'Python':\n",
    "       if (char == 'h'):\n",
    "           pass\n",
    "       print('Current character: ', char)"
   ]
  },
  {
   "cell_type": "code",
   "execution_count": 6,
   "metadata": {},
   "outputs": [
    {
     "name": "stdout",
     "output_type": "stream",
     "text": [
      "0\n",
      "1\n",
      "1\n",
      "2\n",
      "3\n",
      "5\n",
      "8\n",
      "13\n",
      "21\n",
      "34\n"
     ]
    }
   ],
   "source": [
    "count=0\n",
    "nterms=10\n",
    "n1,n2=0,1\n",
    "while count < nterms:\n",
    "       print(n1)\n",
    "       nth = n1 + n2\n",
    "       # update values\n",
    "       n1 = n2  \n",
    "       #print(n1,\"test\")\n",
    "       n2 = nth  \n",
    "       #print(n2,'test')\n",
    "       count += 1"
   ]
  },
  {
   "cell_type": "code",
   "execution_count": null,
   "metadata": {
    "collapsed": true,
    "id": "3oqFGh-9FkES"
   },
   "outputs": [],
   "source": [
    "i=10\n",
    "if i<0:\n",
    "  pass"
   ]
  },
  {
   "cell_type": "code",
   "execution_count": null,
   "metadata": {
    "colab": {
     "base_uri": "https://localhost:8080/",
     "height": 244
    },
    "executionInfo": {
     "elapsed": 341,
     "status": "error",
     "timestamp": 1628660957347,
     "user": {
      "displayName": "LuckyFish Vlog",
      "photoUrl": "",
      "userId": "12188633397091826884"
     },
     "user_tz": -330
    },
    "id": "J3iBImP7uZiU",
    "outputId": "e3511e0c-b2d4-4a07-a84b-5ee617b7004e"
   },
   "outputs": [
    {
     "name": "stdout",
     "output_type": "stream",
     "text": [
      "115\n",
      "110\n"
     ]
    },
    {
     "ename": "TypeError",
     "evalue": "ignored",
     "output_type": "error",
     "traceback": [
      "\u001b[0;31m---------------------------------------------------------------------------\u001b[0m",
      "\u001b[0;31mTypeError\u001b[0m                                 Traceback (most recent call last)",
      "\u001b[0;32m<ipython-input-33-a771e18c3f19>\u001b[0m in \u001b[0;36m<module>\u001b[0;34m()\u001b[0m\n\u001b[1;32m      4\u001b[0m \u001b[0mupdate\u001b[0m\u001b[0;34m=\u001b[0m\u001b[0mascii\u001b[0m\u001b[0;34m-\u001b[0m\u001b[0;36m5\u001b[0m\u001b[0;34m\u001b[0m\u001b[0;34m\u001b[0m\u001b[0m\n\u001b[1;32m      5\u001b[0m \u001b[0mprint\u001b[0m\u001b[0;34m(\u001b[0m\u001b[0mupdate\u001b[0m\u001b[0;34m)\u001b[0m\u001b[0;34m\u001b[0m\u001b[0;34m\u001b[0m\u001b[0m\n\u001b[0;32m----> 6\u001b[0;31m \u001b[0mnew\u001b[0m\u001b[0;34m=\u001b[0m\u001b[0mchr\u001b[0m\u001b[0;34m(\u001b[0m\u001b[0;36m110\u001b[0m\u001b[0;34m)\u001b[0m\u001b[0;34m\u001b[0m\u001b[0;34m\u001b[0m\u001b[0m\n\u001b[0m",
      "\u001b[0;31mTypeError\u001b[0m: 'str' object is not callable"
     ]
    }
   ],
   "source": [
    "ch='s'\n",
    "ascii=ord(ch)\n",
    "print(ascii)\n",
    "update=ascii-5\n",
    "print(update)\n",
    "new=chr(110)\n"
   ]
  },
  {
   "cell_type": "code",
   "execution_count": null,
   "metadata": {
    "colab": {
     "base_uri": "https://localhost:8080/",
     "height": 171
    },
    "executionInfo": {
     "elapsed": 551,
     "status": "error",
     "timestamp": 1628660985272,
     "user": {
      "displayName": "LuckyFish Vlog",
      "photoUrl": "",
      "userId": "12188633397091826884"
     },
     "user_tz": -330
    },
    "id": "qCIOTJWMwlKR",
    "outputId": "ca7910d0-cfdb-45fa-a911-0c27cf2b2e47"
   },
   "outputs": [
    {
     "ename": "TypeError",
     "evalue": "ignored",
     "output_type": "error",
     "traceback": [
      "\u001b[0;31m---------------------------------------------------------------------------\u001b[0m",
      "\u001b[0;31mTypeError\u001b[0m                                 Traceback (most recent call last)",
      "\u001b[0;32m<ipython-input-34-90c538b78025>\u001b[0m in \u001b[0;36m<module>\u001b[0;34m()\u001b[0m\n\u001b[0;32m----> 1\u001b[0;31m \u001b[0mchr\u001b[0m\u001b[0;34m(\u001b[0m\u001b[0;36m120\u001b[0m\u001b[0;34m)\u001b[0m\u001b[0;34m\u001b[0m\u001b[0;34m\u001b[0m\u001b[0m\n\u001b[0m",
      "\u001b[0;31mTypeError\u001b[0m: 'str' object is not callable"
     ]
    }
   ],
   "source": [
    "chr(120)"
   ]
  },
  {
   "cell_type": "markdown",
   "metadata": {
    "id": "365fSyXOy3AF"
   },
   "source": [
    "![python-list-index.png](data:image/png;base64,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)"
   ]
  },
  {
   "cell_type": "code",
   "execution_count": null,
   "metadata": {
    "colab": {
     "base_uri": "https://localhost:8080/",
     "height": 170
    },
    "executionInfo": {
     "elapsed": 1296,
     "status": "ok",
     "timestamp": 1598934082429,
     "user": {
      "displayName": "Gautham Velayutham",
      "photoUrl": "",
      "userId": "05764642726617643049"
     },
     "user_tz": -330
    },
    "id": "DeLZUVc9x1Wr",
    "outputId": "b602e7fe-a16d-47ef-d741-e17d48f792cd"
   },
   "outputs": [
    {
     "name": "stdout",
     "output_type": "stream",
     "text": [
      "[120, 130, 140, 130, 150]\n",
      "120\n",
      "130\n",
      "150\n",
      "130\n",
      "[130, 140, 130]\n",
      "5\n",
      "3\n",
      "2\n"
     ]
    }
   ],
   "source": [
    "# list\n",
    "price = [120,130,140,130,150]\n",
    " \n",
    "print(price)\n",
    "print(price[0])\n",
    "print(price[3])\n",
    "print(price[-1])\n",
    "print(price[-2])\n",
    "print(price[1:4]) #price[starting index : ending index]\n",
    "print(len(price))\n",
    "print(len(price[1:4]))\n",
    "print(price.count(130))"
   ]
  },
  {
   "cell_type": "code",
   "execution_count": 2,
   "metadata": {
    "colab": {
     "base_uri": "https://localhost:8080/"
    },
    "executionInfo": {
     "elapsed": 418,
     "status": "ok",
     "timestamp": 1631789789968,
     "user": {
      "displayName": "LuckyFish Vlog",
      "photoUrl": "https://lh3.googleusercontent.com/a/default-user=s64",
      "userId": "12188633397091826884"
     },
     "user_tz": -330
    },
    "id": "9CwykOdrzENp",
    "outputId": "980dc663-c809-452c-ae06-d13a95e16cce"
   },
   "outputs": [
    {
     "name": "stdout",
     "output_type": "stream",
     "text": [
      "['Chennai', 'Delhi', 'Mumbai']\n",
      "Chennai\n",
      "Mumbai\n",
      "Mumbai\n",
      "3\n",
      "i\n",
      "7\n",
      "hen\n",
      "['Chennai', 'Delhi', 'Mumbai']\n",
      "['Chennai', 'Delhi']\n",
      "['Delhi', 'Mumbai']\n",
      "['Mumbai', 'Delhi', 'Chennai']\n"
     ]
    }
   ],
   "source": [
    "city = ['Chennai','Delhi','Mumbai']\n",
    "\n",
    "#### Printing lists\n",
    "# \t0\t1\t2\t3\t4\t5\t6\n",
    "# 0\tC\th\te\tn\tn\ta\ti\n",
    "# 1\tD\te\tl\th\ti\n",
    "# 2\tM\tu\tm\tb\ta\ti\n",
    "\n",
    "print(city)\n",
    "print(city[0])\n",
    "print(city[2])\n",
    "print(city[-1])\n",
    "print(len(city))\n",
    "print(city[1][4])\n",
    "print(len(city[0]))\n",
    "print(city[0][1:4])\n",
    "print(city[:])\n",
    "print(city[:2])\n",
    "print(city[1:])\n",
    "print(city[::-1])"
   ]
  },
  {
   "cell_type": "code",
   "execution_count": null,
   "metadata": {
    "collapsed": true,
    "id": "Jzkf09P_Px5D"
   },
   "outputs": [],
   "source": []
  },
  {
   "cell_type": "code",
   "execution_count": null,
   "metadata": {
    "collapsed": true,
    "id": "3ZS9vghKPtFN"
   },
   "outputs": [],
   "source": []
  },
  {
   "cell_type": "code",
   "execution_count": 3,
   "metadata": {
    "colab": {
     "base_uri": "https://localhost:8080/"
    },
    "executionInfo": {
     "elapsed": 382,
     "status": "ok",
     "timestamp": 1631790010947,
     "user": {
      "displayName": "LuckyFish Vlog",
      "photoUrl": "https://lh3.googleusercontent.com/a/default-user=s64",
      "userId": "12188633397091826884"
     },
     "user_tz": -330
    },
    "id": "TXtffaL6zrmS",
    "outputId": "b4f81352-0791-4f5a-ce21-0abf41a17b60"
   },
   "outputs": [
    {
     "name": "stdout",
     "output_type": "stream",
     "text": [
      "[120, 130, 140, 130]\n",
      "[120, 130, 140, 130, 120]\n",
      "2\n",
      "[130, 140, 130, 120]\n",
      "Inserted [130, 140, 130, 309, 120]\n",
      "[130, 140, 130, 120]\n",
      "[120, 130, 130, 140]\n",
      "1\n",
      "4\n"
     ]
    }
   ],
   "source": [
    "price = [120,130,140,130]\n",
    "#### Other List Operations\n",
    "print(price)\n",
    "price.append(120) # Add at the last\n",
    "print(price)\n",
    "\n",
    "print(price.index(140)) #### returns the index of the first occurance\n",
    "\n",
    "price.remove(120)\n",
    "\n",
    "print(price) ### removes the first occurance\n",
    "\n",
    "price.insert(3,309) # 120 which is in the third index is shifted right\n",
    "\n",
    "print('Inserted', price)\n",
    "\n",
    "price.pop(-2) #### remove the nth value from the last\n",
    "\n",
    "print(price)\n",
    "\n",
    "price.sort(reverse=False)\n",
    "\n",
    "print(price)\n",
    "\n",
    "print(price.count(120))\n",
    "\n",
    "print(len(price))\n"
   ]
  },
  {
   "cell_type": "code",
   "execution_count": null,
   "metadata": {
    "colab": {
     "base_uri": "https://localhost:8080/"
    },
    "executionInfo": {
     "elapsed": 834,
     "status": "ok",
     "timestamp": 1617254462710,
     "user": {
      "displayName": "LuckyFish Vlog",
      "photoUrl": "",
      "userId": "12188633397091826884"
     },
     "user_tz": -330
    },
    "id": "2sHkS74T00jY",
    "outputId": "eb2f521b-4eb8-4a32-8887-10daa125c9db"
   },
   "outputs": [
    {
     "name": "stdout",
     "output_type": "stream",
     "text": [
      "[1, 4, 6, 8, 10]\n",
      "[1, 3, 5, 7, 10]\n"
     ]
    }
   ],
   "source": [
    "# Change or Add items to list\n",
    "odd = [2, 4, 6, 8,10]\n",
    "odd[0] = 1            \n",
    "print(odd)\n",
    "odd[1:4] = [3, 5, 7,]  \n",
    "print(odd)    "
   ]
  },
  {
   "cell_type": "code",
   "execution_count": null,
   "metadata": {
    "colab": {
     "base_uri": "https://localhost:8080/",
     "height": 51
    },
    "executionInfo": {
     "elapsed": 1111,
     "status": "ok",
     "timestamp": 1598934494760,
     "user": {
      "displayName": "Gautham Velayutham",
      "photoUrl": "",
      "userId": "05764642726617643049"
     },
     "user_tz": -330
    },
    "id": "9SYD1wRV09WW",
    "outputId": "cc0e24cf-a1b2-4cef-b14e-5782ef02bef2"
   },
   "outputs": [
    {
     "name": "stdout",
     "output_type": "stream",
     "text": [
      "[1, 3, 5, 7]\n",
      "[1, 3, 5, 7, 9, 11, 13]\n"
     ]
    }
   ],
   "source": [
    "# append or extend\n",
    "odd = [1, 3, 5]\n",
    "odd.append(7)\n",
    "print(odd)\n",
    "odd.extend([9, 11, 13])\n",
    "print(odd)"
   ]
  },
  {
   "cell_type": "code",
   "execution_count": null,
   "metadata": {
    "colab": {
     "base_uri": "https://localhost:8080/",
     "height": 51
    },
    "executionInfo": {
     "elapsed": 1032,
     "status": "ok",
     "timestamp": 1598934506802,
     "user": {
      "displayName": "Gautham Velayutham",
      "photoUrl": "",
      "userId": "05764642726617643049"
     },
     "user_tz": -330
    },
    "id": "RuA-bc9-1FW2",
    "outputId": "2467df9e-22a9-4b7b-938a-56c628f8432f"
   },
   "outputs": [
    {
     "name": "stdout",
     "output_type": "stream",
     "text": [
      "[1, 3, 5, 9, 7, 5]\n",
      "['re', 're', 're', 're', 're']\n"
     ]
    }
   ],
   "source": [
    "# + operator and * operator\n",
    "odd = [1, 3, 5]\n",
    "print(odd + [9, 7, 5])\n",
    "print([\"re\"] * 5)"
   ]
  },
  {
   "cell_type": "code",
   "execution_count": null,
   "metadata": {
    "colab": {
     "base_uri": "https://localhost:8080/",
     "height": 68
    },
    "executionInfo": {
     "elapsed": 1170,
     "status": "ok",
     "timestamp": 1598934545303,
     "user": {
      "displayName": "Gautham Velayutham",
      "photoUrl": "",
      "userId": "05764642726617643049"
     },
     "user_tz": -330
    },
    "id": "4l-2bRJ-1U6x",
    "outputId": "0119acae-c259-49a0-8e6d-013302782742"
   },
   "outputs": [
    {
     "name": "stdout",
     "output_type": "stream",
     "text": [
      "[1, 2, 3, 2, 2, 2, 3, 4]\n",
      "[2, 2, 2, 2]\n",
      "[1, 3, 3, 4]\n"
     ]
    }
   ],
   "source": [
    "# list comprehension\n",
    "x1 = [1,2,3,2,2,2,3,4]\n",
    "print(x1)\n",
    "\n",
    "x1 = [1,2,3,2,2,2,3,4]\n",
    "x2 = [n for n in x1 if n == 2]\n",
    "print(x2)\n",
    "\n",
    "x3 = [n for n in x1 if n != 2]\n",
    "print(x3)"
   ]
  },
  {
   "cell_type": "code",
   "execution_count": 6,
   "metadata": {
    "collapsed": true,
    "executionInfo": {
     "elapsed": 317,
     "status": "ok",
     "timestamp": 1631790678426,
     "user": {
      "displayName": "LuckyFish Vlog",
      "photoUrl": "https://lh3.googleusercontent.com/a/default-user=s64",
      "userId": "12188633397091826884"
     },
     "user_tz": -330
    },
    "id": "kNCI3OAbA8mP"
   },
   "outputs": [],
   "source": [
    "input=[1,2,3,4,5,6,7,8,9,10]\n",
    "#output=[1,2,3,4,5,10,9,8,7,6]"
   ]
  },
  {
   "cell_type": "code",
   "execution_count": 9,
   "metadata": {
    "colab": {
     "base_uri": "https://localhost:8080/"
    },
    "executionInfo": {
     "elapsed": 327,
     "status": "ok",
     "timestamp": 1631790712804,
     "user": {
      "displayName": "LuckyFish Vlog",
      "photoUrl": "https://lh3.googleusercontent.com/a/default-user=s64",
      "userId": "12188633397091826884"
     },
     "user_tz": -330
    },
    "id": "6IpWOvSt40M-",
    "outputId": "c9f69d03-88c3-4b20-f068-d3c182be7293"
   },
   "outputs": [
    {
     "name": "stdout",
     "output_type": "stream",
     "text": [
      "[1, 2, 3, 4, 5, 10, 9, 8, 7, 6]\n"
     ]
    }
   ],
   "source": [
    "mid=len(input)/2\n",
    "output=[]\n",
    "for i in range(1,len(input)):\n",
    "  if i < mid+1:\n",
    "    output.append(i)\n",
    "  else:\n",
    "    for j in input[::-1]:\n",
    "      if j!=mid:\n",
    "        output.append(j)\n",
    "        continue\n",
    "      break\n",
    "    break\n",
    "print(output)"
   ]
  },
  {
   "cell_type": "code",
   "execution_count": null,
   "metadata": {
    "colab": {
     "base_uri": "https://localhost:8080/"
    },
    "executionInfo": {
     "elapsed": 632,
     "status": "ok",
     "timestamp": 1623045264324,
     "user": {
      "displayName": "LuckyFish Vlog",
      "photoUrl": "",
      "userId": "12188633397091826884"
     },
     "user_tz": -330
    },
    "id": "HFASH9bZBKt7",
    "outputId": "cb5e3fbe-21e4-4d64-8981-73aef8515653"
   },
   "outputs": [
    {
     "name": "stdout",
     "output_type": "stream",
     "text": [
      "[1, 2, 3, 4, 5, 10, 9, 8, 7, 6]\n"
     ]
    }
   ],
   "source": [
    "mid=len(input)/2\n",
    "output=[]\n",
    "for i in range(1,len(input)):\n",
    "  if i < mid+1:\n",
    "    output.append(i)\n",
    "  else:\n",
    "    for j in input[::-1]:\n",
    "      if j!=5:\n",
    "        output.append(j)\n",
    "        continue\n",
    "      break\n",
    "    break\n",
    "print(output)\n",
    "  "
   ]
  },
  {
   "cell_type": "code",
   "execution_count": null,
   "metadata": {
    "colab": {
     "base_uri": "https://localhost:8080/"
    },
    "executionInfo": {
     "elapsed": 872,
     "status": "ok",
     "timestamp": 1617254875845,
     "user": {
      "displayName": "LuckyFish Vlog",
      "photoUrl": "",
      "userId": "12188633397091826884"
     },
     "user_tz": -330
    },
    "id": "j8-X8w4j1cvl",
    "outputId": "039e9705-ac74-4cfa-d8c8-0d05248d9b20"
   },
   "outputs": [
    {
     "name": "stdout",
     "output_type": "stream",
     "text": [
      "1\n",
      "[3, 1, 6, 0, 8, 4]\n",
      "4\n",
      "1\n",
      "[3, 1, 6, 0, 8, 4]\n",
      "6\n",
      "[0, 1, 3, 4, 6, 8]\n",
      "[8, 6, 4, 3, 1, 0]\n"
     ]
    }
   ],
   "source": [
    "my_list = [3, 8, 1, 6, 0, 8, 4]\n",
    "print(my_list.index(8)) # Returns the index of the first matched item\n",
    "del my_list[1]\n",
    "print(my_list)\n",
    "print(my_list.index(8))\n",
    "print(my_list.count(8)) # Returns the count of number of items passed as an argument\n",
    "print (my_list)\n",
    "\n",
    "print(len(my_list))\n",
    "\n",
    "my_list.sort()\n",
    "print(my_list)\n",
    "\n",
    "my_list.reverse()\n",
    "print(my_list)"
   ]
  },
  {
   "cell_type": "code",
   "execution_count": null,
   "metadata": {
    "colab": {
     "base_uri": "https://localhost:8080/"
    },
    "executionInfo": {
     "elapsed": 531,
     "status": "ok",
     "timestamp": 1628830633476,
     "user": {
      "displayName": "LuckyFish Vlog",
      "photoUrl": "",
      "userId": "12188633397091826884"
     },
     "user_tz": -330
    },
    "id": "ROTe8FB41Umh",
    "outputId": "90b82d86-039b-4ef3-ebed-b4805575546f"
   },
   "outputs": [
    {
     "name": "stdout",
     "output_type": "stream",
     "text": [
      "512\n"
     ]
    }
   ],
   "source": [
    "print(2**3**2)"
   ]
  },
  {
   "cell_type": "code",
   "execution_count": null,
   "metadata": {
    "colab": {
     "base_uri": "https://localhost:8080/"
    },
    "executionInfo": {
     "elapsed": 466,
     "status": "ok",
     "timestamp": 1628830448957,
     "user": {
      "displayName": "LuckyFish Vlog",
      "photoUrl": "",
      "userId": "12188633397091826884"
     },
     "user_tz": -330
    },
    "id": "mZeB0Ome2q8M",
    "outputId": "3378293f-67f6-40a0-8b1e-8188fcc2ae31"
   },
   "outputs": [
    {
     "name": "stdout",
     "output_type": "stream",
     "text": [
      "[10, 20, 30, 40]\n",
      "[10, 20, 30, 40]\n"
     ]
    }
   ],
   "source": [
    "a=[10,20]\n",
    "b=a\n",
    "b+=[30,40]\n",
    "print(b)\n",
    "print(a)\n"
   ]
  },
  {
   "cell_type": "code",
   "execution_count": null,
   "metadata": {
    "colab": {
     "base_uri": "https://localhost:8080/"
    },
    "executionInfo": {
     "elapsed": 2457,
     "status": "ok",
     "timestamp": 1605849022700,
     "user": {
      "displayName": "Gautham Velayutham",
      "photoUrl": "",
      "userId": "05764642726617643049"
     },
     "user_tz": -330
    },
    "id": "J7BAU5p-BK6U",
    "outputId": "6e75ee67-c3c6-4da9-97f9-484046553cb3"
   },
   "outputs": [
    {
     "name": "stdout",
     "output_type": "stream",
     "text": [
      "()\n",
      "(1, 2, 3)\n",
      "(1, 'Hello', 3.4)\n",
      "('mouse', [8, 4, 6], (1, 2, 3))\n"
     ]
    }
   ],
   "source": [
    "# tuple\n",
    "# Different types of tuples\n",
    "\n",
    "# Empty tuple\n",
    "my_tuple = ()\n",
    "print(my_tuple)\n",
    "\n",
    "# Tuple having integers\n",
    "my_tuple = (1, 2, 3)\n",
    "print(my_tuple)\n",
    "\n",
    "# tuple with mixed datatypes\n",
    "my_tuple = (1, \"Hello\", 3.4)\n",
    "print(my_tuple)\n",
    "\n",
    "# nested tuple\n",
    "my_tuple = (\"mouse\", [8, 4, 6], (1, 2, 3))\n",
    "print(my_tuple)"
   ]
  },
  {
   "cell_type": "code",
   "execution_count": null,
   "metadata": {
    "colab": {
     "base_uri": "https://localhost:8080/"
    },
    "executionInfo": {
     "elapsed": 388,
     "status": "ok",
     "timestamp": 1623128873639,
     "user": {
      "displayName": "LuckyFish Vlog",
      "photoUrl": "",
      "userId": "12188633397091826884"
     },
     "user_tz": -330
    },
    "id": "Kmwa858kBvYD",
    "outputId": "20f89d67-4310-4e6a-c68a-b34b28820957"
   },
   "outputs": [
    {
     "name": "stdout",
     "output_type": "stream",
     "text": [
      "p\n",
      "t\n",
      "s\n",
      "4\n"
     ]
    }
   ],
   "source": [
    "# Accessing tuple elements using indexing\n",
    "my_tuple = ('p','e','r','m','i','t')\n",
    "\n",
    "print(my_tuple[0])   # 'p' \n",
    "print(my_tuple[5])   # 't'\n",
    "\n",
    "# IndexError: list index out of range\n",
    "# print(my_tuple[6])\n",
    "\n",
    "# Index must be an integer\n",
    "# TypeError: list indices must be integers, not float\n",
    "# my_tuple[2.0]\n",
    "\n",
    "# nested tuple\n",
    "tuple = (\"mouse\", [8, 4, 6], (1, 2, 3))\n",
    "\n",
    "# nested index\n",
    "print(tuple[0][3])       # 's'\n",
    "print(tuple[1][1])       # 4\n"
   ]
  },
  {
   "cell_type": "code",
   "execution_count": null,
   "metadata": {
    "colab": {
     "base_uri": "https://localhost:8080/",
     "height": 50
    },
    "executionInfo": {
     "elapsed": 2153,
     "status": "ok",
     "timestamp": 1601948269110,
     "user": {
      "displayName": "Gautham Velayutham",
      "photoUrl": "",
      "userId": "05764642726617643049"
     },
     "user_tz": -330
    },
    "id": "RY7z5MPNB7O5",
    "outputId": "2266dd64-8054-4d8f-cc3d-093dfaeede27"
   },
   "outputs": [
    {
     "name": "stdout",
     "output_type": "stream",
     "text": [
      "t\n",
      "p\n"
     ]
    }
   ],
   "source": [
    "# Negative indexing for accessing tuple elements\n",
    "my_tuple = ('p', 'e', 'r', 'm', 'i', 't')\n",
    " \n",
    "# Output: 't'\n",
    "print(my_tuple[-1])\n",
    " \n",
    "# Output: 'p'\n",
    "print(my_tuple[-6])"
   ]
  },
  {
   "cell_type": "code",
   "execution_count": null,
   "metadata": {
    "colab": {
     "base_uri": "https://localhost:8080/",
     "height": 84
    },
    "executionInfo": {
     "elapsed": 2069,
     "status": "ok",
     "timestamp": 1601948302057,
     "user": {
      "displayName": "Gautham Velayutham",
      "photoUrl": "",
      "userId": "05764642726617643049"
     },
     "user_tz": -330
    },
    "id": "IeTIY_U4CC2p",
    "outputId": "baac2ddc-8d81-4fae-feba-2a0176d06e37"
   },
   "outputs": [
    {
     "name": "stdout",
     "output_type": "stream",
     "text": [
      "('r', 'o', 'g')\n",
      "('p', 'r')\n",
      "('i', 'z')\n",
      "('p', 'r', 'o', 'g', 'r', 'a', 'm', 'i', 'z')\n"
     ]
    }
   ],
   "source": [
    "# Accessing tuple elements using slicing\n",
    "my_tuple = ('p','r','o','g','r','a','m','i','z')\n",
    "\n",
    "# elements 2nd to 4th\n",
    "# Output: ('r', 'o', 'g')\n",
    "print(my_tuple[1:4])\n",
    "\n",
    "# elements beginning to 2nd\n",
    "# Output: ('p', 'r')\n",
    "print(my_tuple[:-7])\n",
    "\n",
    "# elements 8th to end\n",
    "# Output: ('i', 'z')\n",
    "print(my_tuple[7:])\n",
    "\n",
    "# elements beginning to end\n",
    "# Output: ('p', 'r', 'o', 'g', 'r', 'a', 'm', 'i', 'z')\n",
    "print(my_tuple[:])"
   ]
  },
  {
   "cell_type": "code",
   "execution_count": null,
   "metadata": {
    "colab": {
     "base_uri": "https://localhost:8080/",
     "height": 195
    },
    "executionInfo": {
     "elapsed": 385,
     "status": "error",
     "timestamp": 1623128157208,
     "user": {
      "displayName": "LuckyFish Vlog",
      "photoUrl": "",
      "userId": "12188633397091826884"
     },
     "user_tz": -330
    },
    "id": "PFKEriskCLFx",
    "outputId": "ec9302d8-1c14-4e82-bc9c-f319225f83b2"
   },
   "outputs": [
    {
     "ename": "NameError",
     "evalue": "ignored",
     "output_type": "error",
     "traceback": [
      "\u001b[0;31m---------------------------------------------------------------------------\u001b[0m",
      "\u001b[0;31mNameError\u001b[0m                                 Traceback (most recent call last)",
      "\u001b[0;32m<ipython-input-11-6f26679a5e16>\u001b[0m in \u001b[0;36m<module>\u001b[0;34m()\u001b[0m\n\u001b[1;32m     10\u001b[0m \u001b[0;34m\u001b[0m\u001b[0m\n\u001b[1;32m     11\u001b[0m \u001b[0;31m# NameError: name 'my_tuple' is not defined\u001b[0m\u001b[0;34m\u001b[0m\u001b[0;34m\u001b[0m\u001b[0;34m\u001b[0m\u001b[0m\n\u001b[0;32m---> 12\u001b[0;31m \u001b[0mprint\u001b[0m\u001b[0;34m(\u001b[0m\u001b[0mmy_tuple\u001b[0m\u001b[0;34m)\u001b[0m\u001b[0;34m\u001b[0m\u001b[0;34m\u001b[0m\u001b[0m\n\u001b[0m",
      "\u001b[0;31mNameError\u001b[0m: name 'my_tuple' is not defined"
     ]
    }
   ],
   "source": [
    "## Deleting tuples\n",
    "my_tuple = ('p', 'r', 'o', 'g', 'r', 'a', 'm', 'i', 'z')\n",
    "\n",
    "# can't delete items\n",
    "# TypeError: 'tuple' object doesn't support item deletion\n",
    "# del my_tuple[3]\n",
    "\n",
    "# Can delete an entire tuple\n",
    "del my_tuple\n",
    "\n",
    "# NameError: name 'my_tuple' is not defined\n",
    "print(my_tuple)"
   ]
  },
  {
   "cell_type": "code",
   "execution_count": null,
   "metadata": {
    "colab": {
     "base_uri": "https://localhost:8080/"
    },
    "executionInfo": {
     "elapsed": 1018,
     "status": "ok",
     "timestamp": 1617338513344,
     "user": {
      "displayName": "LuckyFish Vlog",
      "photoUrl": "",
      "userId": "12188633397091826884"
     },
     "user_tz": -330
    },
    "id": "9fpX5HKuCPKU",
    "outputId": "ace32505-1cd5-45cc-88d0-38debf4b9553"
   },
   "outputs": [
    {
     "name": "stdout",
     "output_type": "stream",
     "text": [
      "2\n",
      "1\n"
     ]
    }
   ],
   "source": [
    "my_tuple = ('a', 'p', 'p', 'l', 'e',)\n",
    "\n",
    "print(my_tuple.count('p'))  # Output: 2\n",
    "print(my_tuple.index('p'))  # Output: 3"
   ]
  },
  {
   "cell_type": "code",
   "execution_count": null,
   "metadata": {
    "colab": {
     "base_uri": "https://localhost:8080/",
     "height": 67
    },
    "executionInfo": {
     "elapsed": 1500,
     "status": "ok",
     "timestamp": 1601948360217,
     "user": {
      "displayName": "Gautham Velayutham",
      "photoUrl": "",
      "userId": "05764642726617643049"
     },
     "user_tz": -330
    },
    "id": "tFgk2FykCWL-",
    "outputId": "4ee37484-5b1f-4dbe-a5ac-22f4005cc628"
   },
   "outputs": [
    {
     "name": "stdout",
     "output_type": "stream",
     "text": [
      "True\n",
      "False\n",
      "True\n"
     ]
    }
   ],
   "source": [
    "# Membership test in tuple\n",
    "my_tuple = ('a', 'p', 'p', 'l', 'e',)\n",
    "\n",
    "# In operation\n",
    "print('a' in my_tuple)\n",
    "print('b' in my_tuple)\n",
    "\n",
    "# Not in operation\n",
    "print('g' not in my_tuple)"
   ]
  },
  {
   "cell_type": "code",
   "execution_count": null,
   "metadata": {
    "colab": {
     "base_uri": "https://localhost:8080/",
     "height": 51
    },
    "executionInfo": {
     "elapsed": 1182,
     "status": "ok",
     "timestamp": 1598941086578,
     "user": {
      "displayName": "Gautham Velayutham",
      "photoUrl": "",
      "userId": "05764642726617643049"
     },
     "user_tz": -330
    },
    "id": "nu5ROVfWNjhk",
    "outputId": "8bb44ccf-53ea-46ad-86ed-d884bdff6083"
   },
   "outputs": [
    {
     "name": "stdout",
     "output_type": "stream",
     "text": [
      "Jack\n",
      "26\n"
     ]
    }
   ],
   "source": [
    "# Dictionary\n",
    "my_dict = {'name':'Jack', 'age': 26}\n",
    "\n",
    "# Output: Jack\n",
    "print(my_dict['name'])\n",
    "\n",
    "# Output: 26\n",
    "print(my_dict.get('age'))\n"
   ]
  },
  {
   "cell_type": "code",
   "execution_count": null,
   "metadata": {
    "colab": {
     "base_uri": "https://localhost:8080/"
    },
    "executionInfo": {
     "elapsed": 3515,
     "status": "ok",
     "timestamp": 1617945293959,
     "user": {
      "displayName": "LuckyFish Vlog",
      "photoUrl": "",
      "userId": "12188633397091826884"
     },
     "user_tz": -330
    },
    "id": "A1cFETnQCtsV",
    "outputId": "bc40e427-8e69-4735-8253-881b46a4069e"
   },
   "outputs": [
    {
     "name": "stdout",
     "output_type": "stream",
     "text": [
      "{'mumbai': 97.7, 'delhi': 81.68, 'chennai': 91.4}\n"
     ]
    }
   ],
   "source": [
    "celcius={'mumbai':36.5,'delhi':27.6,'chennai':33}\n",
    "fahrenheit={key:value*(9/5)+32 for key,value in celcius.items()}\n",
    "print(fahrenheit)"
   ]
  },
  {
   "cell_type": "code",
   "execution_count": null,
   "metadata": {
    "collapsed": true,
    "id": "_pCM2bmqEdlt"
   },
   "outputs": [],
   "source": []
  },
  {
   "cell_type": "code",
   "execution_count": null,
   "metadata": {
    "colab": {
     "base_uri": "https://localhost:8080/"
    },
    "executionInfo": {
     "elapsed": 21,
     "status": "ok",
     "timestamp": 1623213931568,
     "user": {
      "displayName": "LuckyFish Vlog",
      "photoUrl": "",
      "userId": "12188633397091826884"
     },
     "user_tz": -330
    },
    "id": "tbaNTjcqNnLQ",
    "outputId": "20c8eec3-1ab5-4b43-c856-25bc957ff447"
   },
   "outputs": [
    {
     "name": "stdout",
     "output_type": "stream",
     "text": [
      "{'name': 'Jack', 'age': 27}\n",
      "{'name': 'Jack', 'age': 27, 'address': 'Downtown'}\n"
     ]
    }
   ],
   "source": [
    "my_dict = {'name':'Jack', 'age': 26}\n",
    "\n",
    "# update value\n",
    "my_dict['age'] = 27\n",
    "\n",
    "#Output: {'age': 27, 'name': 'Jack'}\n",
    "print(my_dict)\n",
    "\n",
    "# add item\n",
    "my_dict['address'] = 'Downtown'  \n",
    "\n",
    "# Output: {'address': 'Downtown', 'age': 27, 'name': 'Jack'}\n",
    "print(my_dict)"
   ]
  },
  {
   "cell_type": "code",
   "execution_count": null,
   "metadata": {
    "colab": {
     "base_uri": "https://localhost:8080/"
    },
    "executionInfo": {
     "elapsed": 498,
     "status": "ok",
     "timestamp": 1623214152774,
     "user": {
      "displayName": "LuckyFish Vlog",
      "photoUrl": "",
      "userId": "12188633397091826884"
     },
     "user_tz": -330
    },
    "id": "JxNWqeO4NsVk",
    "outputId": "237048a2-46f8-43d2-85d9-a28afeffbe40"
   },
   "outputs": [
    {
     "name": "stdout",
     "output_type": "stream",
     "text": [
      "16\n",
      "{1: 1, 2: 4, 3: 9, 5: 25, 6: 36}\n",
      "(6, 36)\n",
      "{1: 1, 2: 4, 3: 9, 5: 25}\n",
      "{1: 1, 2: 4, 3: 9}\n",
      "{}\n"
     ]
    }
   ],
   "source": [
    "                                                     # create a dictionary\n",
    "squares = {1:1, 2:4, 3:9, 4:16, 5:25,6:36}  \n",
    "\n",
    "                                                # remove a particular item\n",
    "                                                    # Output: 16\n",
    "print(squares.pop(4))  \n",
    "\n",
    "                                                # Output: {1: 1, 2: 4, 3: 9, 5: 25}\n",
    "print(squares)\n",
    "\n",
    "                                                   # remove an arbitrary item\n",
    "                                             # Output: (6, 36) removes the last item\n",
    "print(squares.popitem())\n",
    "\n",
    "                                       # Output: {2: 4, 3: 9, 5: 25}\n",
    "print(squares)\n",
    "\n",
    "                          # delete a particular item\n",
    "del squares[5]  \n",
    "\n",
    "                       # Output: {2: 4, 3: 9}\n",
    "print(squares)\n",
    "\n",
    "                           # remove all items\n",
    "squares.clear()\n",
    "\n",
    "                             # Output: {}\n",
    "print(squares)\n",
    "\n",
    "                               # delete the dictionary itself\n",
    "del squares\n",
    "\n",
    "# Throws Error\n",
    "#print(squares)"
   ]
  },
  {
   "cell_type": "code",
   "execution_count": null,
   "metadata": {
    "colab": {
     "base_uri": "https://localhost:8080/",
     "height": 51
    },
    "executionInfo": {
     "elapsed": 1188,
     "status": "ok",
     "timestamp": 1598941328368,
     "user": {
      "displayName": "Gautham Velayutham",
      "photoUrl": "",
      "userId": "05764642726617643049"
     },
     "user_tz": -330
    },
    "id": "7q9Su5RtNzcu",
    "outputId": "37330cf4-4675-432d-f8ed-1b020cbd6c47"
   },
   "outputs": [
    {
     "name": "stdout",
     "output_type": "stream",
     "text": [
      "{0: 0, 1: 1, 2: 4, 3: 9, 4: 16, 5: 25}\n",
      "{0: 0, 1: 1, 2: 4, 3: 9, 4: 16, 5: 25}\n"
     ]
    }
   ],
   "source": [
    "#Dic comprehension\n",
    "squares = {x: x*x for x in range(6)}\n",
    "\n",
    "# Output: {0: 0, 1: 1, 2: 4, 3: 9, 4: 16, 5: 25}\n",
    "print(squares)\n",
    "\n",
    "squares1 = {}\n",
    "for x in range(6):\n",
    "   squares1[x] = x*x\n",
    "    \n",
    "print(squares1)"
   ]
  },
  {
   "cell_type": "code",
   "execution_count": null,
   "metadata": {
    "colab": {
     "base_uri": "https://localhost:8080/",
     "height": 34
    },
    "executionInfo": {
     "elapsed": 2437,
     "status": "ok",
     "timestamp": 1598953317645,
     "user": {
      "displayName": "Gautham Velayutham",
      "photoUrl": "",
      "userId": "05764642726617643049"
     },
     "user_tz": -330
    },
    "id": "lEX5g4FNN-Ns",
    "outputId": "b15f99fb-248b-4757-b039-c2c236e2f42f"
   },
   "outputs": [
    {
     "name": "stdout",
     "output_type": "stream",
     "text": [
      "{1: {'name': 'John', 'age': '27', 'sex': 'Male'}, 2: {'name': 'Marie', 'age': '22', 'sex': 'Female'}}\n"
     ]
    }
   ],
   "source": [
    "#nested dict\n",
    "people = {1: {'name': 'John', 'age': '27', 'sex': 'Male'},\n",
    "          2: {'name': 'Marie', 'age': '22', 'sex': 'Female'}}\n",
    "\n",
    "print(people)"
   ]
  },
  {
   "cell_type": "code",
   "execution_count": null,
   "metadata": {
    "colab": {
     "base_uri": "https://localhost:8080/",
     "height": 68
    },
    "executionInfo": {
     "elapsed": 1468,
     "status": "ok",
     "timestamp": 1598953318947,
     "user": {
      "displayName": "Gautham Velayutham",
      "photoUrl": "",
      "userId": "05764642726617643049"
     },
     "user_tz": -330
    },
    "id": "F2byjWltOBjs",
    "outputId": "213e55ed-4e9c-49a3-f83b-12206a4c3348"
   },
   "outputs": [
    {
     "name": "stdout",
     "output_type": "stream",
     "text": [
      "John\n",
      "27\n",
      "Male\n"
     ]
    }
   ],
   "source": [
    "people = {1: {'name': 'John', 'age': '27', 'sex': 'Male'},\n",
    "          2: {'name': 'Marie', 'age': '22', 'sex': 'Female'}}\n",
    "\n",
    "print(people[1]['name'])\n",
    "print(people[1]['age'])\n",
    "print(people[1]['sex'])"
   ]
  },
  {
   "cell_type": "code",
   "execution_count": null,
   "metadata": {
    "colab": {
     "base_uri": "https://localhost:8080/",
     "height": 71
    },
    "executionInfo": {
     "elapsed": 2715,
     "status": "ok",
     "timestamp": 1598953347673,
     "user": {
      "displayName": "Gautham Velayutham",
      "photoUrl": "",
      "userId": "05764642726617643049"
     },
     "user_tz": -330
    },
    "id": "D9LYMItYOKi9",
    "outputId": "467cce13-d1f1-4a9d-efa0-1af0900fe800"
   },
   "outputs": [
    {
     "name": "stdout",
     "output_type": "stream",
     "text": [
      "{'name': 'Luna', 'age': '24', 'sex': 'Female', 'married': 'No'}\n",
      "{1: {'name': 'John', 'age': '27', 'sex': 'Male'}, 2: {'name': 'Marie', 'age': '22', 'sex': 'Female'}, 3: {'name': 'Luna', 'age': '24', 'sex': 'Female', 'married': 'No'}}\n"
     ]
    }
   ],
   "source": [
    "people = {1: {'name': 'John', 'age': '27', 'sex': 'Male'},\n",
    "          2: {'name': 'Marie', 'age': '22', 'sex': 'Female'}}\n",
    "\n",
    "people[3] = {}\n",
    "\n",
    "people[3]['name'] = 'Luna'\n",
    "people[3]['age'] = '24'\n",
    "people[3]['sex'] = 'Female'\n",
    "people[3]['married'] = 'No'\n",
    "\n",
    "print(people[3])\n",
    "print(people)"
   ]
  },
  {
   "cell_type": "code",
   "execution_count": null,
   "metadata": {
    "colab": {
     "base_uri": "https://localhost:8080/",
     "height": 34
    },
    "executionInfo": {
     "elapsed": 944,
     "status": "ok",
     "timestamp": 1598953382011,
     "user": {
      "displayName": "Gautham Velayutham",
      "photoUrl": "",
      "userId": "05764642726617643049"
     },
     "user_tz": -330
    },
    "id": "1gyZhGiAOPqW",
    "outputId": "60e04497-e94c-43cb-da53-ce0f5354f852"
   },
   "outputs": [
    {
     "name": "stdout",
     "output_type": "stream",
     "text": [
      "{1: {'name': 'John', 'age': '27', 'sex': 'Male'}, 2: {'name': 'Marie', 'age': '22', 'sex': 'Female'}}\n"
     ]
    }
   ],
   "source": [
    "#del\n",
    "people = {1: {'name': 'John', 'age': '27', 'sex': 'Male'},\n",
    "          2: {'name': 'Marie', 'age': '22', 'sex': 'Female'},\n",
    "          3: {'name': 'Luna', 'age': '24', 'sex': 'Female'},\n",
    "          4: {'name': 'Peter', 'age': '29', 'sex': 'Male'}}\n",
    "\n",
    "del people[3], people[4]\n",
    "print(people)"
   ]
  },
  {
   "cell_type": "markdown",
   "metadata": {
    "id": "c0juW8x5EQpQ"
   },
   "source": [
    "![set.JPG](data:image/jpeg;base64,/9j/4AAQSkZJRgABAQEAYABgAAD/4REERXhpZgAATU0AKgAAAAgABAE7AAIAAAATAAAISodpAAQAAAABAAAIXpydAAEAAAAmAAAQ1uocAAcAAAgMAAAAPgAAAAAc6gAAAAgAAAAAAAAAAAAAAAAAAAAAAAAAAAAAAAAAAAAAAAAAAAAAAAAAAAAAAAAAAAAAAAAAAAAAAAAAAAAAAAAAAAAAAAAAAAAAAAAAAAAAAAAAAAAAAAAAAAAAAAAAAAAAAAAAAAAAAAAAAAAAAAAAAAAAAAAAAAAAAAAAAAAAAAAAAAAAAAAAAAAAAAAAAAAAAAAAAAAAAAAAAAAAAAAAAAAAAAAAAAAAAAAAAAAAAAAAAAAAAAAAAAAAAAAAAAAAAAAAAAAAAAAAAAAAAAAAAAAAAAAAAAAAAAAAAAAAAAAAAAAAAAAAAAAAAAAAAAAAAAAAAAAAAAAAAAAAAAAAAAAAAAAAAAAAAAAAAAAAAAAAAAAAAAAAAAAAAAAAAAAAAAAAAAAAAAAAAAAAAAAAAAAAAAAAAAAAAAAAAAAAAAAAAAAAAAAAAAAAAAAAAAAAAAAAAAAAAAAAAAAAAAAAAAAAAAAAAAAAAAAAAAAAAAAAAAAAAAAAAAAAAAAAAAAAAAAAAAAAAAAAAAAAAAAAAAAAAAAAAAAAAAAAAAAAAAAAAAAAAAAAAAAAAAAAAAAAAAAAAAAAAAAAAAAAAAAAAAAAAAAAAAAAAAAAAAAAAAAAAAAAAAAAAAAAAAAAAAAAAAAAAAAAAAAAAAAAAAAAAAAAAAAAAAAAAAAAAAAAAAAAAAAAAAAAAAAAAAAAAAAAAAAAAAAAAAAAAAAAAAAAAAAAAAAAAAAAAAAAAAAAAAAAAAAAAAAAAAAAAAAAAAAAAAAAAAAAAAAAAAAAAAAAAAAAAAAAAAAAAAAAAAAAAAAAAAAAAAAAAAAAAAAAAAAAAAAAAAAAAAAAAAAAAAAAAAAAAAAAAAAAAAAAAAAAAAAAAAAAAAAAAAAAAAAAAAAAAAAAAAAAAAAAAAAAAAAAAAAAAAAAAAAAAAAAAAAAAAAAAAAAAAAAAAAAAAAAAAAAAAAAAAAAAAAAAAAAAAAAAAAAAAAAAAAAAAAAAAAAAAAAAAAAAAAAAAAAAAAAAAAAAAAAAAAAAAAAAAAAAAAAAAAAAAAAAAAAAAAAAAAAAAAAAAAAAAAAAAAAAAAAAAAAAAAAAAAAAAAAAAAAAAAAAAAAAAAAAAAAAAAAAAAAAAAAAAAAAAAAAAAAAAAAAAAAAAAAAAAAAAAAAAAAAAAAAAAAAAAAAAAAAAAAAAAAAAAAAAAAAAAAAAAAAAAAAAAAAAAAAAAAAAAAAAAAAAAAAAAAAAAAAAAAAAAAAAAAAAAAAAAAAAAAAAAAAAAAAAAAAAAAAAAAAAAAAAAAAAAAAAAAAAAAAAAAAAAAAAAAAAAAAAAAAAAAAAAAAAAAAAAAAAAAAAAAAAAAAAAAAAAAAAAAAAAAAAAAAAAAAAAAAAAAAAAAAAAAAAAAAAAAAAAAAAAAAAAAAAAAAAAAAAAAAAAAAAAAAAAAAAAAAAAAAAAAAAAAAAAAAAAAAAAAAAAAAAAAAAAAAAAAAAAAAAAAAAAAAAAAAAAAAAAAAAAAAAAAAAAAAAAAAAAAAAAAAAAAAAAAAAAAAAAAAAAAAAAAAAAAAAAAAAAAAAAAAAAAAAAAAAAAAAAAAAAAAAAAAAAAAAAAAAAAAAAAAAAAAAAAAAAAAAAAAAAAAAAAAAAAAAAAAAAAAAAAAAAAAAAAAAAAAAAAAAAAAAAAAAAAAAAAAAAAAAAAAAAAAAAAAAAAAAAAAAAAAAAAAAAAAAAAAAAAAAAAAAAAAAAAAAAAAAAAAAAAAAAAAAAAAAAAAAAAAAAAAAAAAAAAAAAAAAAAAAAAAAAAAAAAAAAAAAAAAAAAAAAAAAAAAAAAAAAAAAAAAAAAAAAAAAAAAAAAAAAAAAAAAAAAAAAAAAAAAAAAAAAAAAAAAAAAAAAAAAAAAAAAAAAAAAAAAAAAAAAAAAAAAAAAAAAAAAAAAAAAAAAAAAAAAAAAAAAAAAAAAAAAAAAAAAAAAAAAAAAAAAAAAAAAAAAAAAAAAAAAAAAAAAAAAAAAAAAAAAAAAAAAAAAAAAAAAAAAAAAAAAAAAAAAAAAAAAAAAAAAAAAAAAAAAAAAAAAAAAAAAAAAAAAAAAAAAAAAAAAAAAAAAAAAAAAAAAAAAAAAAAAAAAAAAAAAAAAAAAAAAAAAAAAAAAAAAAAAAAAAAAAAAAAAAAAAAAAAAAAAAAAAAAAAAAAAAAAAAAAAAAAAAAAAAAAAAAAAAAAAAAAAAAAAAAAAAAAAAAAAAAAAAAAAAAAAAAAAAAAAAAAAAAAAAAAAAAAAAAAAAAAAAAAAAAAAAAAAAAAAAAAAAAAAAAAAAAAAAAAAAAAAAAAAAAAAAAAAAAAAAAAAAAAAAAAAAAAAAAAAAAAAAAAAAAAAAAAAAAAAAAAAAAAAAAAAAAAAAAAAAAAAAAAAAAAAAAAAAAAAAAAAAAAAAAAAAAAAAAAAAAAAAAAAAAAAAAAAAAAAAAAAAAAAAAAAAAAAAAAAAAAAAAAAAAAAAAAAAAAAAAAAAAAAAAAAAAAAAAAAAAAAAAAAAAAAAAAAAAAAAAAAAAAAAAAAAAAAAAAAAAAAAAAAAAAAAAAAAAAAAAAAAAAAAAAAAAAAAAAAAAAAAAAAAAAAAAAAAAAAAAAAAAAAAAAAAAAAAAAAAAAAAAAAAAAAAAAAAAAAAAAAAAAAAAAAAAAAAAAAAAAAAAAAAAAAAAAAAAAAAAAAAAAAAAAAAAAAAAAAAAAAAAAAAAAAAAAAAAAAAAAAAAAAAEdhdXRoYW0gVmVsYXl1dGhhbQAAAAWQAwACAAAAFAAAEKyQBAACAAAAFAAAEMCSkQACAAAAAzQwAACSkgACAAAAAzQwAADqHAAHAAAIDAAACKAAAAAAHOoAAAAIAAAAAAAAAAAAAAAAAAAAAAAAAAAAAAAAAAAAAAAAAAAAAAAAAAAAAAAAAAAAAAAAAAAAAAAAAAAAAAAAAAAAAAAAAAAAAAAAAAAAAAAAAAAAAAAAAAAAAAAAAAAAAAAAAAAAAAAAAAAAAAAAAAAAAAAAAAAAAAAAAAAAAAAAAAAAAAAAAAAAAAAAAAAAAAAAAAAAAAAAAAAAAAAAAAAAAAAAAAAAAAAAAAAAAAAAAAAAAAAAAAAAAAAAAAAAAAAAAAAAAAAAAAAAAAAAAAAAAAAAAAAAAAAAAAAAAAAAAAAAAAAAAAAAAAAAAAAAAAAAAAAAAAAAAAAAAAAAAAAAAAAAAAAAAAAAAAAAAAAAAAAAAAAAAAAAAAAAAAAAAAAAAAAAAAAAAAAAAAAAAAAAAAAAAAAAAAAAAAAAAAAAAAAAAAAAAAAAAAAAAAAAAAAAAAAAAAAAAAAAAAAAAAAAAAAAAAAAAAAAAAAAAAAAAAAAAAAAAAAAAAAAAAAAAAAAAAAAAAAAAAAAAAAAAAAAAAAAAAAAAAAAAAAAAAAAAAAAAAAAAAAAAAAAAAAAAAAAAAAAAAAAAAAAAAAAAAAAAAAAAAAAAAAAAAAAAAAAAAAAAAAAAAAAAAAAAAAAAAAAAAAAAAAAAAAAAAAAAAAAAAAAAAAAAAAAAAAAAAAAAAAAAAAAAAAAAAAAAAAAAAAAAAAAAAAAAAAAAAAAAAAAAAAAAAAAAAAAAAAAAAAAAAAAAAAAAAAAAAAAAAAAAAAAAAAAAAAAAAAAAAAAAAAAAAAAAAAAAAAAAAAAAAAAAAAAAAAAAAAAAAAAAAAAAAAAAAAAAAAAAAAAAAAAAAAAAAAAAAAAAAAAAAAAAAAAAAAAAAAAAAAAAAAAAAAAAAAAAAAAAAAAAAAAAAAAAAAAAAAAAAAAAAAAAAAAAAAAAAAAAAAAAAAAAAAAAAAAAAAAAAAAAAAAAAAAAAAAAAAAAAAAAAAAAAAAAAAAAAAAAAAAAAAAAAAAAAAAAAAAAAAAAAAAAAAAAAAAAAAAAAAAAAAAAAAAAAAAAAAAAAAAAAAAAAAAAAAAAAAAAAAAAAAAAAAAAAAAAAAAAAAAAAAAAAAAAAAAAAAAAAAAAAAAAAAAAAAAAAAAAAAAAAAAAAAAAAAAAAAAAAAAAAAAAAAAAAAAAAAAAAAAAAAAAAAAAAAAAAAAAAAAAAAAAAAAAAAAAAAAAAAAAAAAAAAAAAAAAAAAAAAAAAAAAAAAAAAAAAAAAAAAAAAAAAAAAAAAAAAAAAAAAAAAAAAAAAAAAAAAAAAAAAAAAAAAAAAAAAAAAAAAAAAAAAAAAAAAAAAAAAAAAAAAAAAAAAAAAAAAAAAAAAAAAAAAAAAAAAAAAAAAAAAAAAAAAAAAAAAAAAAAAAAAAAAAAAAAAAAAAAAAAAAAAAAAAAAAAAAAAAAAAAAAAAAAAAAAAAAAAAAAAAAAAAAAAAAAAAAAAAAAAAAAAAAAAAAAAAAAAAAAAAAAAAAAAAAAAAAAAAAAAAAAAAAAAAAAAAAAAAAAAAAAAAAAAAAAAAAAAAAAAAAAAAAAAAAAAAAAAAAAAAAAAAAAAAAAAAAAAAAAAAAAAAAAAAAAAAAAAAAAAAAAAAAAAAAAAAAAAAAAAAAAAAAAAAAAAAAAAAAAAAAAAAAAAAAAAAAAAAAAAAAAAAAAAAAAAAAAAAAAAAAAAAAAAAAAAAAAAAAAAAAAAAAAAAAAAAAAAAAAAAAAAAAAAAAAAAAAAAAAAAAAAAAAAAAAAAAAAAAAAAAAAAAAAAAAAAAAAAAAAAAAAAAAAAAAAAAAAAAAAAAAAAAAAAAAAAAAAAAAAAAAAAAAAAAAAAAAAAAAAAAAAAAAAAAAAAAAAAAAAAAAAAAAAAAAAAAAAAAAAAAAAAAAAAAAAAAAAAAAAAAAAAAAAAAAAAAAAAAAAAAAAAAAAAAAAAAAAAAAAAAAAAAAAAAAAAAAAAAAAAAAAAAAAAAAAAAAAAAAAAAAAAAAAAAAAAAAAAAAAAAAAAAAAAAAAAAAAAAAAAAAAAAAAAAAAAAAAAAAAAAAAAAAAAAAAAAAAAAAAAAAAAAAAAAAAAAAAAAAAAAAAAAAAAAAAAAAAAAAAAAAAAAAAAAAAAAAAAAAAAAAAAAAAAAAAAAAAAAAAAAAAAAAAAAAAAAAAAAAAAAAAAAAAAAAAAAAAAAAAAAAAAAAAAAAAAAAAAAAAAAAAAAAAAAAAAAAAAAAAAAAAAAAAAAAAAAAAAAAAAAAAAAAAAAAAAAAAAAAAAAAAAAAAAAAAAAAAAAAAAAAAAAAAAAAAAAAAAAAAAAAAAAAAAAAAAAAAAAAAAAAAAAAAAAAAAAAAAAAAAAAAAAAAAAAAAAAAAAAAAAAAAAAAAAAAAAAAAAAAAAAAAAAAAAAAAAAAAAAAAAAAAAAAAAAAAAAAAAAAAAAAAAAAAAAAAAAAAAAAAAAAAAAAAAAAAAAAAAAAAAAAAAAAAAAAAAAAAAAAAAAAAAAAAAAAAAAAAAAAAAAAAAAAAAAAAAAAAAAAAAAAAAAAAAAAAAAAAAAAAAAAAAAAAAAAAAAAAAAAAAAAAAAAAAAAAAAAAAAAAAAAAAAAAAAAAAAAAAAAAAAAAAAAAAAAAAAAAAAAAAAAAAAAAAAAAAAAAAAAAAAAAAAAAAAAAAAAAAAAAAAAAAAAAAAAAAAAAAAAAAAAAAAAAAAAAAAAAAAAAAAAAAAAAAAAAAyMDIwOjA3OjA2IDEzOjM4OjAzADIwMjA6MDc6MDYgMTM6Mzg6MDMAAABHAGEAdQB0AGgAYQBtACAAVgBlAGwAYQB5AHUAdABoAGEAbQAAAP/hCyVodHRwOi8vbnMuYWRvYmUuY29tL3hhcC8xLjAvADw/eHBhY2tldCBiZWdpbj0n77u/JyBpZD0nVzVNME1wQ2VoaUh6cmVTek5UY3prYzlkJz8+DQo8eDp4bXBtZXRhIHhtbG5zOng9ImFkb2JlOm5zOm1ldGEvIj48cmRmOlJERiB4bWxuczpyZGY9Imh0dHA6Ly93d3cudzMub3JnLzE5OTkvMDIvMjItcmRmLXN5bnRheC1ucyMiPjxyZGY6RGVzY3JpcHRpb24gcmRmOmFib3V0PSJ1dWlkOmZhZjViZGQ1LWJhM2QtMTFkYS1hZDMxLWQzM2Q3NTE4MmYxYiIgeG1sbnM6ZGM9Imh0dHA6Ly9wdXJsLm9yZy9kYy9lbGVtZW50cy8xLjEvIi8+PHJkZjpEZXNjcmlwdGlvbiByZGY6YWJvdXQ9InV1aWQ6ZmFmNWJkZDUtYmEzZC0xMWRhLWFkMzEtZDMzZDc1MTgyZjFiIiB4bWxuczp4bXA9Imh0dHA6Ly9ucy5hZG9iZS5jb20veGFwLzEuMC8iPjx4bXA6Q3JlYXRlRGF0ZT4yMDIwLTA3LTA2VDEzOjM4OjAzLjM5OTwveG1wOkNyZWF0ZURhdGU+PC9yZGY6RGVzY3JpcHRpb24+PHJkZjpEZXNjcmlwdGlvbiByZGY6YWJvdXQ9InV1aWQ6ZmFmNWJkZDUtYmEzZC0xMWRhLWFkMzEtZDMzZDc1MTgyZjFiIiB4bWxuczpkYz0iaHR0cDovL3B1cmwub3JnL2RjL2VsZW1lbnRzLzEuMS8iPjxkYzpjcmVhdG9yPjxyZGY6U2VxIHhtbG5zOnJkZj0iaHR0cDovL3d3dy53My5vcmcvMTk5OS8wMi8yMi1yZGYtc3ludGF4LW5zIyI+PHJkZjpsaT5HYXV0aGFtIFZlbGF5dXRoYW08L3JkZjpsaT48L3JkZjpTZXE+DQoJCQk8L2RjOmNyZWF0b3I+PC9yZGY6RGVzY3JpcHRpb24+PC9yZGY6UkRGPjwveDp4bXBtZXRhPg0KICAgICAgICAgICAgICAgICAgICAgICAgICAgICAgICAgICAgICAgICAgICAgICAgICAgICAgICAgICAgICAgICAgICAgICAgICAgICAgICAgICAgICAgICAgICAgICAgICAgIAogICAgICAgICAgICAgICAgICAgICAgICAgICAgICAgICAgICAgICAgICAgICAgICAgICAgICAgICAgICAgICAgICAgICAgICAgICAgICAgICAgICAgICAgICAgICAgICAgICAgCiAgICAgICAgICAgICAgICAgICAgICAgICAgICAgICAgICAgICAgICAgICAgICAgICAgICAgICAgICAgICAgICAgICAgICAgICAgICAgICAgICAgICAgICAgICAgICAgICAgICAKICAgICAgICAgICAgICAgICAgICAgICAgICAgICAgICAgICAgICAgICAgICAgICAgICAgICAgICAgICAgICAgICAgICAgICAgICAgICAgICAgICAgICAgICAgICAgICAgICAgIAogICAgICAgICAgICAgICAgICAgICAgICAgICAgICAgICAgICAgICAgICAgICAgICAgICAgICAgICAgICAgICAgICAgICAgICAgICAgICAgICAgICAgICAgICAgICAgICAgICAgCiAgICAgICAgICAgICAgICAgICAgICAgICAgICAgICAgICAgICAgICAgICAgICAgICAgICAgICAgICAgICAgICAgICAgICAgICAgICAgICAgICAgICAgICAgICAgICAgICAgICAKICAgICAgICAgICAgICAgICAgICAgICAgICAgICAgICAgICAgICAgICAgICAgICAgICAgICAgICAgICAgICAgICAgICAgICAgICAgICAgICAgICAgICAgICAgICAgICAgICAgIAogICAgICAgICAgICAgICAgICAgICAgICAgICAgICAgICAgICAgICAgICAgICAgICAgICAgICAgICAgICAgICAgICAgICAgICAgICAgICAgICAgICAgICAgICAgICAgICAgICAgCiAgICAgICAgICAgICAgICAgICAgICAgICAgICAgICAgICAgICAgICAgICAgICAgICAgICAgICAgICAgICAgICAgICAgICAgICAgICAgICAgICAgICAgICAgICAgICAgICAgICAKICAgICAgICAgICAgICAgICAgICAgICAgICAgICAgICAgICAgICAgICAgICAgICAgICAgICAgICAgICAgICAgICAgICAgICAgICAgICAgICAgICAgICAgICAgICAgICAgICAgIAogICAgICAgICAgICAgICAgICAgICAgICAgICAgICAgICAgICAgICAgICAgICAgICAgICAgICAgICAgICAgICAgICAgICAgICAgICAgICAgICAgICAgICAgICAgICAgICAgICAgCiAgICAgICAgICAgICAgICAgICAgICAgICAgICAgICAgICAgICAgICAgICAgICAgICAgICAgICAgICAgICAgICAgICAgICAgICAgICAgICAgICAgICAgICAgICAgICAgICAgICAKICAgICAgICAgICAgICAgICAgICAgICAgICAgICAgICAgICAgICAgICAgICAgICAgICAgICAgICAgICAgICAgICAgICAgICAgICAgICAgICAgICAgICAgICAgICAgICAgICAgIAogICAgICAgICAgICAgICAgICAgICAgICAgICAgICAgICAgICAgICAgICAgICAgICAgICAgICAgICAgICAgICAgICAgICAgICAgICAgICAgICAgICAgICAgICAgICAgICAgICAgCiAgICAgICAgICAgICAgICAgICAgICAgICAgICAgICAgICAgICAgICAgICAgICAgICAgICAgICAgICAgICAgICAgICAgICAgICAgICAgICAgICAgICAgICAgICAgICAgICAgICAKICAgICAgICAgICAgICAgICAgICAgICAgICAgICAgICAgICAgICAgICAgICAgICAgICAgICAgICAgICAgICAgICAgICAgICAgICAgICAgICAgICAgICAgICAgICAgICAgICAgIAogICAgICAgICAgICAgICAgICAgICAgICAgICAgICAgICAgICAgICAgICAgICAgICAgICAgICAgICAgICAgICAgICAgICAgICAgICAgICAgICAgICAgICAgICAgICAgICAgICAgCiAgICAgICAgICAgICAgICAgICAgICAgICAgICAgICAgICAgICAgICAgICAgICAgICAgICAgICAgICAgICAgICAgICAgICAgICAgICAgICAgICAgICAgICAgICAgICAgICAgICAKICAgICAgICAgICAgICAgICAgICAgICAgICAgICAgICAgICAgICAgICAgICAgICAgICAgICAgICAgICAgICAgICAgICAgICAgICAgICAgICAgICAgICAgICAgICAgICAgICAgIAogICAgICAgICAgICAgICAgICAgICAgICAgICAgICAgICAgICAgICAgICAgICAgICAgICAgICAgICAgICAgICAgICAgICAgICAgICAgICAgICAgICAgICAgICAgICAgICAgICAgCiAgICAgICAgICAgICAgICAgICAgICAgICAgICA8P3hwYWNrZXQgZW5kPSd3Jz8+/9sAQwAHBQUGBQQHBgUGCAcHCAoRCwoJCQoVDxAMERgVGhkYFRgXGx4nIRsdJR0XGCIuIiUoKSssKxogLzMvKjInKisq/9sAQwEHCAgKCQoUCwsUKhwYHCoqKioqKioqKioqKioqKioqKioqKioqKioqKioqKioqKioqKioqKioqKioqKioqKioq/8AAEQgBBQGYAwEiAAIRAQMRAf/EAB8AAAEFAQEBAQEBAAAAAAAAAAABAgMEBQYHCAkKC//EALUQAAIBAwMCBAMFBQQEAAABfQECAwAEEQUSITFBBhNRYQcicRQygZGhCCNCscEVUtHwJDNicoIJChYXGBkaJSYnKCkqNDU2Nzg5OkNERUZHSElKU1RVVldYWVpjZGVmZ2hpanN0dXZ3eHl6g4SFhoeIiYqSk5SVlpeYmZqio6Slpqeoqaqys7S1tre4ubrCw8TFxsfIycrS09TV1tfY2drh4uPk5ebn6Onq8fLz9PX29/j5+v/EAB8BAAMBAQEBAQEBAQEAAAAAAAABAgMEBQYHCAkKC//EALURAAIBAgQEAwQHBQQEAAECdwABAgMRBAUhMQYSQVEHYXETIjKBCBRCkaGxwQkjM1LwFWJy0QoWJDThJfEXGBkaJicoKSo1Njc4OTpDREVGR0hJSlNUVVZXWFlaY2RlZmdoaWpzdHV2d3h5eoKDhIWGh4iJipKTlJWWl5iZmqKjpKWmp6ipqrKztLW2t7i5usLDxMXGx8jJytLT1NXW19jZ2uLj5OXm5+jp6vLz9PX29/j5+v/aAAwDAQACEQMRAD8A+kBzS0UUAFFFFABRRRQAUUUUAFFFFABRRRQAUUUUAFFFFABRRRQAUUUUAFFFFABRRRQAUUUUAFFFFABRRRQAUUUUAFFFFABRRRQAUUUUAFFFFABRRRQAUUUUAFFFFABRRRQAUUUUAFFFFABRRRQAUUUUAFFFFABRRRQAUUUUAFFFFABRRRQAUUUUAFFFFABRRRQAUUUUAFFFFABRRRQAUUUUAFFFFABRRRQAUUUUAFFFFABRRRQAUUUUAFFFFABRRRQAUUUUAFFFFABRRRQAUUUUAFFFFABRRRQAUUUUAFFFFABRRRQAUUUUAFFFGaACjNUdS1rTdHg87VL6C1j/AL0sgUfrXG3nxj8NRyGLTPtWqSj+G1hYg/Q9KLgegZorzJvibr9zzpvg+6Rexu22UweOfHrYK+FdPAPre4NK6A9QozXl/wDwnfjtMGTwpYle+y8yalT4p6nac6t4Q1BU7yW4DqKLoD0vNFcPp3xc8KX0ohuL1rCY9Uu0MYH4niuxtL21voFms545425DxsCDTAnoozRQAUUUUAFFFGaACimvKkalpGCgdSTiuT1b4n+E9HcxzatFPKDgx2371gfQ7elAHXZozXm0nxZluSRovhbVLodpWj2IfzqE+PvG0pza+FLVV/6bXe00roD0/NGa8v8A+E48ff8AQq6b/wCBtOT4j+KLc7r/AMIM47/ZZt5NF0B6bmlrzmD4y6PFIE1vTtR0ljx+/gJGfwrrtI8V6Hrqg6VqltckjOxJAWH1HWi6A2KKM0ZpgFFFFABRRRQAUUUUAFFFFABRRRQAUUUUAFFFFABRRRQAUUUUAFFFFABRRRQAUUUUAGaKZI6xqXchVUZJJxivNPEXxFvdVvpNE8CRrNMp2z6k4/dQ+u3+8aQHXeJvG2i+FYc6ldAzN/q7aP5pHPsK4O68UeNPFbf8SuNfD+ntwJXUNOw9fb8MUaL4RtNOmN7fO+pam/L3dydzZ9h2FdDS3Gcta+ANKFwbvV2n1e8blpr6QyEn6Hiukt7aG1jEVtFHDGOixqFA/KpaKQBTGkRGAd1Vj0y3Jp9eD+P7y+13xdrd/pt5JFF4bij2BJNodg3zjHfvQB7x+FJVDQ9Tj1rQLLUoMFLqBZOP4SRyPwOa0KAKt7ptlqMXl39rDcL6SoG/nXPN4Gi0+4a68K6hdaLcHki3kOxj7r6e1dXRTAxbT4geJPDbLF4v09b60zj+0LNcED1Za9D0TX9M8QWIu9Iu47iM9dp5X2IrlSoZSGAIIwQec/WuYvvCktle/wBreELttK1EHJRP9TN7MtGwHseaM1wnhH4iR6pdf2P4jgGmaynHlsf3c/uh/pWr4v8AG2neE7ZRNuub6XiCzi5dz/Qe9UI37y9trC1e4vZ44IUGWeRsAV5zqfxRutRuXsvA2mG+dThr2fKwr7j1rEOkax4wvF1HxrcFbbO6DSoG2xp6b/7x/wA+1dRb20NpAsNtEsUaj5VQYAqbjOZm8Lan4hbzfGet3F+Dz9khby4R/wABH862tN0DStIUDTbC3gPdljG4/j1rRopAJQfb9aWkoA47Vfil4Z0XV59NvZ5xc27bZAkJYLXS6RrFjrumx3+lXC3FtJ911OfqPY14rJbeILj4peM18NW2lTuEHnjUVJwvPKY79etdn8Ems/8AhXvl2YkEkV1IlzvIP73AJxjtgrTA9CdFkQpIodT1Dcg1z2peBNB1GTzhZra3AORNa/u2B9eODXR0UgOat7nxt4U50+//ALfsV/5d73mUD2fqa6/wz8SdH8QXH2K43abqS8Na3Pykn2PeqtZOteG9N16Hbew4mU5jnj+WRD6hqewHqIIPQ0V5Dpfi7W/AdzHaeKGfVNDJ2x36r+9gH+2O4/z7V6rYX9rqdlHd2EyTwSrlXQ5BFNO4izRRRTAKKKKACiiigAooooAKKKKACiiigAooooAKKKKACiiigAooooAKZI4jUu7BVUZJJwAPrTuleWePfEFz4k1k+ENAmaOFedSukP3F7oD6mkBV8Q+Jb3x9qcuj+HJ3t9Egbbd369Zz3VPb3rX0vSrPR7BLTT4ViiUdhyfcnuadpunW2lWEVnYxiOGJdqgfzPvVqkMKKKKACiiigCOdpEt5GgTzJVUlEzjcccDNeS6D8GI73S7m68WzXkeqXcsjyJb3ICHJOM4zmvXqKAOO+GWi6x4c8KHSNcjANrO627K4bfGTuB49ya7GiigAooooAKKKx/EuvxeHtJa4cGSdzsghHJkc9BSAwPiHNYy28FjDC0+syn/RBCcSRn+8T6Vn+FvM03xdNB4xDyazPg295M25HXHRT2Nb/hTw9NaGTV9ZPm6rdjc7Hnyh/dFaPiPQIPEGmmGT5Jk+eGUcGNu3NIDXorl/CWvT3LTaNrPyapY/K+f+WqdmH+f511FMAooopgFJ/PtS0UAef6t8JrLVPEF9qyavfWkl6cyrA20EeldT4a8Naf4U0VNM0lGWFWLsznLOx6kn16flWvRQAUUUUAFFFFAEc0MdxC0UyLJG4wysMg1ykM2ofDXUDfaUJLvw/I+bmzHJg/2k9q6+msiuhVwGVhgg96QHYaXqlnrWmQX+mzLPbTruR171drxjSr2X4a+JANzt4b1GXDJ1FrKe/sD/AJ6V7JFIk0SyRMHRhuVgcgiqTEPooopgFFFFABRRRQAUUUUAFFFFABRRRQAUUUUAFFFFABRRSE46nAoA5T4heKj4Y8Os1r8+o3ji3s4x1Zz3+g61yvhbQxoek4lYyXk5825mPV3NUmn/AOEx+JN5qzkvp2jk21op+60n8Tf0/KuoqNxhRRRTAKKKKACiiigAooooAKKKKACiiigBkkixRtJIQqqCzE9gK4rRIm8W+KJNevF3WFkxisI26Fu71d8dX8ps7XRLFiLvU5fL46rGPvGug03T4dL02CztlCxwoFGO9IC3+NGKKKAOT8aaTMBD4h0oEajp5ydv/LWLup9a3tH1SHWdJgvrY5WVckf3T3FXSoZSGGQRgg964vQM+G/GV3oLki0vQbmzyeh/iWgDtaKKKYBRRRQAUUUUAFFFFABRRRQAUUUUAVNS0+DVdOmsrtN0Uy7SCP1qP4Ya7cW0114P1iQtdWA32sjHmaEn174/z0q/XKeMYp9MuLDxTpw/0rSpQZQv/LSE8Mv6/wA6WwHswoqppuoQ6pptvfWrboriMOpHoat1YgooooAKKKKACiiigAooooAKKKKACiiigAooooAK5r4ga5/YHgm/u0P75k8qEDu7cCulrzL4qS/2hrvhzQQcpLO1zMv+yv3T+eaTAg8KaX/ZPhq0gb/Wsvmyse7tyT9a2aTGOO1LUjCiiimAUUUUAFFFFABRRRQAUUUUAFJS1S1i9GnaLd3bHAhiZv0oA5jRM678QNT1Z/nt9PAs7Y9i3Vz+ZrsxXN+AbE2ng+1eQYmui1xKfUsc5/LFdLSAKKKKYBXIfEG2ki0y21y0XNzpU6zcdWTPzD6V19V7+zS/024s5eUniaNvoRikA60uUu7OK4iIKSqGUj0NTVy3w9umm8KR283+ts3a3YHttOB+ldTQAUUUUwCiiigAooooAKKKKACiiigAqK4gS6tpYJl3RyIUYHuDwf51LSUgK3wivpItN1Dw9dtmbSrgome8Z5GPYV6KK8k0mT+x/jLbkfLDrFo0bem5BkfjxXrdUgCiiimIKKKKACiiigAooooAKKKKACiiigAooooAK8n1qT+0PjXPk5GnackQHoXJb+tesV5FaEy/FjxdM2M5t0x6ARgVMgOiooooGFFFFABRRRQAUUUUAFFFFABRRRQAVy3xEnMPg+ZAcfaJEhI9Qxrqa5H4g/vLLTYD0kvUz+BpAdNY2/2TT7e3H/LKJU/IAVYo7UUwCiiigAooooA4/wAJ/wCieK/Edj2Nz56j03V2Fcjp/wC6+KurgdJrOI8diK66kgCiiimAUUUUAFFFFABRRRQAUUUUAFFFFAHL+LH+xa14b1JePs+pxh/dCcEV7EOleL/EomLwe9wv3oJ4nH/fYr2hPuD6UIBaKKKoQUUUUAFFFFABRRRQAUUUUAFFFFABRRRQAV5DYfL8UvFyMCGEkBwR2MYxXr1eS3qGy+NWsKePt9nDMM9wo2/0qZAb9FFFAwooooAKKKKACiiigAooooAKKKKACuR8ffLDpLn7q3yZPpXXVyfxHjJ8KiZesNzG/wCAPNJ7AdZRUcMont45V+66hh+IqSmAUUUUAFFFFAHIWZ3fFfUgvOyyi3e2a6+uQ8On7T4+8Q3Q6Jst/wDvmuvpIAooopgFFFFABRRRQAUUUUAFFFFABRRRQByPxO58DXCDlnliCj1O8V7Qn3F+leN+OF+1DRdOGc3mpQxYHf5s17IowooW4C0UUVQgooooAKKKKACiiigAooooAKKKKACiiigAry74iRf2d8RPDur9EuI3spD6c7h/6FXqNcT8VtJk1LwPNPbKTc6fIt1HjqdvUfl/Kk9gIqKpaNfpqmjWt7G24TRhvxxz+tXakYUUUUwCiiigAooooAKKKKACiiigArJ8T2P9peGb+1X70kJx9a1qayhlKtyDwaAMXwbf/wBo+D9NnzyIRG31X5f6VuVxngtzpeta14em4MNx9ogz3jfnA9hiuzpAFFFFMApskiwxtJIdqICzH0Ap1cz4+1F7DwncRW+Tc3hFtCo6sX4IH4ZpAVvh2jS6Nd6lIMNqF08xz9cCuvqjo2nppOi2ljH0giVc+uB1q9QAUUUUwCiiigAooooAKKKKACiiigAoopCQoy3A7k9BSA57yv7V+LehWY5jsUe7l/2SB8p/OvXR0rzD4WwHVde1zxM4zHLJ9ltiR/Ap5/WvTxVIGFFFFMQUUUUAFFFFABRRRQAUUUUAFFFFABRRRQAVFPClzbyQyruSRSrA9weDUtFAHjPhtX8O+ItV8K3fHkSG4syejRMe30PFdXVb4paDOYbXxTpCZv8ASSWlVRzLAfvL746/nTNK1KDV9MhvbVg0cqg/Q9x+FRsMuUUfWimAUUUUAFFFFABRRRQAUUUUAFFFFAHGeMEbRtd03xNCDsiP2a7x3jY8H8DmuwikWaFJIyGRwCCO4qDUrCHVNNnsrlQ0U6FCD/Oua8F6jNay3HhvU2P2qxP7onrJF2P4UgOvooopgFcVIf8AhJfiLHEPnstFHmP6GY9B9R1/CtnxZro0PRmaIb7y4PlW0Y6s5/wo8JaJ/YmhpHMd11OfNuHPVnPP6UgNyiiimAUUUUAFFFFABRRRQAUUUUAFFFFABXOeNtUksNBNtZ/PfagwtbdB1LMcfyz+ldC7rHGXdgqqCST2FYHgjT28Y+NpfEtyudM0zMFgrDiST+J/wH8xSA9C8JaFH4c8L2WmR8mKMb27sx6mtoUDpRViCiiigAooooAKKKKACiiigAooooAKKKKACiiigAooooAa6LIjI6hlYEMCMgivG9RsX+G/ioo2T4d1OTMb9RayHsfavZqz9a0ay1/Sp9O1KIS28y7WHce49DSauByYIZQVOQRkEHOaWuPhlv8AwBrK6F4gZ5dLkOLDUWHGOyt6EdK68EMoZSCCMgipGLRRRTAKKKKACiiigAooooAKKKKACuX8YaHc3Hkazo3yapYHegH/AC2Tuh9a6ikpAZXh7XrfxBpa3UHyyD5ZYj1jbuDV+8vILCzkubtxHDGu5mJrkPEOmXHhrUH8TaGVWIHN9aEhVlXuR6GqVnPN8SdQ81i1toFq4/clhvnbr82M4FIC54ftJ/FOvnxNqaFbWHKadA3Yd5D7129NjjSGJY4lCoowoAxgU6mAUUUUwCiiigAooooAKKKKACiiigAopPWuZ1zXLu61FPD3hZBcarPw7j7lsp6sxpAQ65cXXijWk8J6C3zPhr+5XpDH/dz6mvWtH0i10PSLbTrGMRwW6BVA7+pP1rJ8GeDrTwhpJgiYz3cx8y6unHzSuev4e1dJVJCCiiimAUUUUAFFFFABRRRQAUUUUAFFFFABRRRQAUUUUAFFFFABRiiigDO1rQ7DX9MlsNUgWeGQcgjkH1HvXlF9Za38NZNt2suqeHCf3dwozJa+zD0r2imSRLNGySqHVhhlYZBFKwHnun6jaapZpdafOk8L9GU/p9atVS1z4Wm1u5NT8D3n9lXbcvbf8sZfbb2rAHi280W4Fr4y0ubTpc4+0KpaJ/fNSM6yiq1nqFpqEKy2VxHOjc7kbIqxTAWiiigAopKM0ALRRVDUtc03SYt+oXkUI7Bm5P0FIC/WXrniHTvD9p5+ozhC3CRry8h9AO9ZVvq/iDxWxh8Iaa8NuThtQu12oP8AdHeut8L/AAzsNHvF1XV5W1bV+v2mfkRn/YHajcDmtF8I6t45uotR8UxPY6OjbodOPDSjsX9BWj4l+HU2nXh1rwJstblR++sc4jnA9PQ16UFxRiqshHk2h+K7XVp3sbpGsdUi4lspxtdT6jPUVv1q+K/Aej+K4g95F5N5H/qruH5ZEPbkdR7Vwd1beLvBny6hbtr2mIOLqEfvUX/aHf60thnT0VjaT4q0jWfltbpVm7wy/K6/UGtjIPTmkAtFJS0wCiikoAWiio5Z4oELzSLGo5JY4FAElMkljhiaSZ1SNRlmY4AHrXNXXji1e5+x+H7aXWLw8BLdcqD7tV2w+HWteJ5UufHF6YbTO5dMtmwP+BnvSAzW1fVvGF9JpfglMQqdtxqjDEcQ/wBk9z9K9E8I+DNP8JWBitAZbmTme6k5eU+ufStnTtMs9JsktNOt47a3jGFjjUACrWKpIQuKKKKYBRRRQAUUUUAFFFFABRRRQAUUUUAFFFFABRRRQAUUUUAFFFFABRRRQAUUUUABqG5s7e9gaG8gjnibhkkUMp/A1NRQBwOqfCDQLmZrnRpLrRLljkvYzFVY+6nI/LFZEngzx9pAxp2s2Orxjot5F5bAfVeTXqtFKyA8he68cWXF34R+1YHL2lwAP1ph8TaxEcXHhDUo+MjBDV7DRilYDx4eI9cl/wCPXwdqMo6fM6rzUqN4+vuLPwxb2WehvZ8gf98163ijFOwHlsfw+8Zat/yG/E0dhEesOnwjP4Oea6DRfhX4a0iYXEts+pXf/PxfuZWP4Hj9K7OiiwDUjWNQiKFUDAUDAFOAxRRTAKKKKACkxS0UAc3r3w/8N+IyX1DTYxP1FxDmOQH1yuM/jXJzfC/XtLOfDPiu48sciDUEEufbdwRXqFFKwHkslr8RNP4udG0/UVXobWUqx/OoTr/iOH/j68F38ZHUrKrcflXsFJiiwHj3/CU6q5Cw+E9TdiehAH609dT8YXZxZ+C7iMdnnuFx+Qr14CilYDymPw58RdUOJp9M0eI/xRqZXH4Hir9l8HbKaVZvFOr3+tyA5McknlxH/gK8/rXpFFOwFHTNF07RbcQaTY29pH3EMYXP1Pf8au45zS0UwCiiigAooooAKKKKACiiigAooooAKKKKACiiigAooooAKKKKACiiigAooooAKKKKACiiigAooooAKKKKACiiigAooooAKKKKACiiigAooooAKKKKACiiigAooooAKKKKACiiigAooooAKKKKACiiigAooooAKKKKACiiigAooooAKKKKACiiigAooooAKKKKACiiigAooooAKKKKACiiigAooooAKKKKACiiigAooooAKKKKACiiigAooooAKKKKACiiigAooooAKKKKACiiigAooooAKKKKACiiigAooooAKKKKACiiigAooooAM0ZoooAM0ZoooAM0ZoooAM0ZoooAM0ZoooAM0ZoooAM0ZoooAM0ZoooAM0ZoooAM0ZoooAM0ZoooAM0ZoooAM0ZoooAM0ZoooAM0ZoooAM0ZoooAM0ZoooAM0ZoooAM0ZoooAM0ZoooAM0ZoooAM0ZoooAM0ZoooAM0ZoooAM0ZoooAM0UUUAf/Z)\n",
    "\n",
    "SET UNION"
   ]
  },
  {
   "cell_type": "code",
   "execution_count": null,
   "metadata": {
    "colab": {
     "base_uri": "https://localhost:8080/",
     "height": 34
    },
    "executionInfo": {
     "elapsed": 997,
     "status": "ok",
     "timestamp": 1598954375629,
     "user": {
      "displayName": "Gautham Velayutham",
      "photoUrl": "",
      "userId": "05764642726617643049"
     },
     "user_tz": -330
    },
    "id": "JOG0tv00EZN6",
    "outputId": "0a891e09-56a1-418a-d388-0b71c27d1ea2"
   },
   "outputs": [
    {
     "name": "stdout",
     "output_type": "stream",
     "text": [
      "{1, 2, 3, 4, 5, 6, 7, 8}\n"
     ]
    }
   ],
   "source": [
    "# Set union method\n",
    "# initialize A and B\n",
    "A = {1, 2, 3, 4, 5}\n",
    "B = {4, 5, 6, 7, 8}\n",
    "\n",
    "# use | operator\n",
    "\n",
    "print(A | B)"
   ]
  },
  {
   "cell_type": "code",
   "execution_count": null,
   "metadata": {
    "colab": {
     "base_uri": "https://localhost:8080/",
     "height": 34
    },
    "executionInfo": {
     "elapsed": 1331,
     "status": "ok",
     "timestamp": 1598954394846,
     "user": {
      "displayName": "Gautham Velayutham",
      "photoUrl": "",
      "userId": "05764642726617643049"
     },
     "user_tz": -330
    },
    "id": "40BcNImVEiW3",
    "outputId": "2e3cc6b4-11e7-4b09-cab9-2016c3d9cb73"
   },
   "outputs": [
    {
     "data": {
      "text/plain": [
       "{1, 2, 3, 4, 5, 6, 7, 8}"
      ]
     },
     "execution_count": 6,
     "metadata": {
      "tags": []
     },
     "output_type": "execute_result"
    }
   ],
   "source": [
    "# use union function\n",
    "A.union(B)\n"
   ]
  },
  {
   "cell_type": "markdown",
   "metadata": {
    "id": "y4S8BHO5EjL8"
   },
   "source": [
    "![setinter.JPG](data:image/jpeg;base64,/9j/4AAQSkZJRgABAQEAYABgAAD/4REERXhpZgAATU0AKgAAAAgABAE7AAIAAAATAAAISodpAAQAAAABAAAIXpydAAEAAAAmAAAQ1uocAAcAAAgMAAAAPgAAAAAc6gAAAAgAAAAAAAAAAAAAAAAAAAAAAAAAAAAAAAAAAAAAAAAAAAAAAAAAAAAAAAAAAAAAAAAAAAAAAAAAAAAAAAAAAAAAAAAAAAAAAAAAAAAAAAAAAAAAAAAAAAAAAAAAAAAAAAAAAAAAAAAAAAAAAAAAAAAAAAAAAAAAAAAAAAAAAAAAAAAAAAAAAAAAAAAAAAAAAAAAAAAAAAAAAAAAAAAAAAAAAAAAAAAAAAAAAAAAAAAAAAAAAAAAAAAAAAAAAAAAAAAAAAAAAAAAAAAAAAAAAAAAAAAAAAAAAAAAAAAAAAAAAAAAAAAAAAAAAAAAAAAAAAAAAAAAAAAAAAAAAAAAAAAAAAAAAAAAAAAAAAAAAAAAAAAAAAAAAAAAAAAAAAAAAAAAAAAAAAAAAAAAAAAAAAAAAAAAAAAAAAAAAAAAAAAAAAAAAAAAAAAAAAAAAAAAAAAAAAAAAAAAAAAAAAAAAAAAAAAAAAAAAAAAAAAAAAAAAAAAAAAAAAAAAAAAAAAAAAAAAAAAAAAAAAAAAAAAAAAAAAAAAAAAAAAAAAAAAAAAAAAAAAAAAAAAAAAAAAAAAAAAAAAAAAAAAAAAAAAAAAAAAAAAAAAAAAAAAAAAAAAAAAAAAAAAAAAAAAAAAAAAAAAAAAAAAAAAAAAAAAAAAAAAAAAAAAAAAAAAAAAAAAAAAAAAAAAAAAAAAAAAAAAAAAAAAAAAAAAAAAAAAAAAAAAAAAAAAAAAAAAAAAAAAAAAAAAAAAAAAAAAAAAAAAAAAAAAAAAAAAAAAAAAAAAAAAAAAAAAAAAAAAAAAAAAAAAAAAAAAAAAAAAAAAAAAAAAAAAAAAAAAAAAAAAAAAAAAAAAAAAAAAAAAAAAAAAAAAAAAAAAAAAAAAAAAAAAAAAAAAAAAAAAAAAAAAAAAAAAAAAAAAAAAAAAAAAAAAAAAAAAAAAAAAAAAAAAAAAAAAAAAAAAAAAAAAAAAAAAAAAAAAAAAAAAAAAAAAAAAAAAAAAAAAAAAAAAAAAAAAAAAAAAAAAAAAAAAAAAAAAAAAAAAAAAAAAAAAAAAAAAAAAAAAAAAAAAAAAAAAAAAAAAAAAAAAAAAAAAAAAAAAAAAAAAAAAAAAAAAAAAAAAAAAAAAAAAAAAAAAAAAAAAAAAAAAAAAAAAAAAAAAAAAAAAAAAAAAAAAAAAAAAAAAAAAAAAAAAAAAAAAAAAAAAAAAAAAAAAAAAAAAAAAAAAAAAAAAAAAAAAAAAAAAAAAAAAAAAAAAAAAAAAAAAAAAAAAAAAAAAAAAAAAAAAAAAAAAAAAAAAAAAAAAAAAAAAAAAAAAAAAAAAAAAAAAAAAAAAAAAAAAAAAAAAAAAAAAAAAAAAAAAAAAAAAAAAAAAAAAAAAAAAAAAAAAAAAAAAAAAAAAAAAAAAAAAAAAAAAAAAAAAAAAAAAAAAAAAAAAAAAAAAAAAAAAAAAAAAAAAAAAAAAAAAAAAAAAAAAAAAAAAAAAAAAAAAAAAAAAAAAAAAAAAAAAAAAAAAAAAAAAAAAAAAAAAAAAAAAAAAAAAAAAAAAAAAAAAAAAAAAAAAAAAAAAAAAAAAAAAAAAAAAAAAAAAAAAAAAAAAAAAAAAAAAAAAAAAAAAAAAAAAAAAAAAAAAAAAAAAAAAAAAAAAAAAAAAAAAAAAAAAAAAAAAAAAAAAAAAAAAAAAAAAAAAAAAAAAAAAAAAAAAAAAAAAAAAAAAAAAAAAAAAAAAAAAAAAAAAAAAAAAAAAAAAAAAAAAAAAAAAAAAAAAAAAAAAAAAAAAAAAAAAAAAAAAAAAAAAAAAAAAAAAAAAAAAAAAAAAAAAAAAAAAAAAAAAAAAAAAAAAAAAAAAAAAAAAAAAAAAAAAAAAAAAAAAAAAAAAAAAAAAAAAAAAAAAAAAAAAAAAAAAAAAAAAAAAAAAAAAAAAAAAAAAAAAAAAAAAAAAAAAAAAAAAAAAAAAAAAAAAAAAAAAAAAAAAAAAAAAAAAAAAAAAAAAAAAAAAAAAAAAAAAAAAAAAAAAAAAAAAAAAAAAAAAAAAAAAAAAAAAAAAAAAAAAAAAAAAAAAAAAAAAAAAAAAAAAAAAAAAAAAAAAAAAAAAAAAAAAAAAAAAAAAAAAAAAAAAAAAAAAAAAAAAAAAAAAAAAAAAAAAAAAAAAAAAAAAAAAAAAAAAAAAAAAAAAAAAAAAAAAAAAAAAAAAAAAAAAAAAAAAAAAAAAAAAAAAAAAAAAAAAAAAAAAAAAAAAAAAAAAAAAAAAAAAAAAAAAAAAAAAAAAAAAAAAAAAAAAAAAAAAAAAAAAAAAAAAAAAAAAAAAAAAAAAAAAAAAAAAAAAAAAAAAAAAAAAAAAAAAAAAAAAAAAAAAAAAAAAAAAAAAAAAAAAAAAAAAAAAAAAAAAAAAAAAAAAAAAAAAAAAAAAAAAAAAAAAAAAAAAAAAAAAAAAAAAAAAAAAAAAAAAAAAAAAAAAAAAAAAAAAAAAAAAAAAAAAAAAAAAAAAAAAAAAAAAAAAAAAAAAAAAAAAAAAAAAAAAAAAAAAAAAAAAAAAAAAAAAAAAAAAAAAAAAAAAAAAAAAAAAAAAAAAAAAAAAAAAAAAAAAAAAAAAAAAAAAAAAAAAAAAAAAAAAAAAAAAAAAAAAAAAAAAAAAAAAAAAAAAAAAAAAAAAAAAAAAAAAAAAAAAAAAAAAAAAAAAAAAAAAAAAAAAAAAAAAAAAAAAAAAAAAAAAAAAAAAAAAAAAAAAAAAAAAAAAAAAAEdhdXRoYW0gVmVsYXl1dGhhbQAAAAWQAwACAAAAFAAAEKyQBAACAAAAFAAAEMCSkQACAAAAAzc0AACSkgACAAAAAzc0AADqHAAHAAAIDAAACKAAAAAAHOoAAAAIAAAAAAAAAAAAAAAAAAAAAAAAAAAAAAAAAAAAAAAAAAAAAAAAAAAAAAAAAAAAAAAAAAAAAAAAAAAAAAAAAAAAAAAAAAAAAAAAAAAAAAAAAAAAAAAAAAAAAAAAAAAAAAAAAAAAAAAAAAAAAAAAAAAAAAAAAAAAAAAAAAAAAAAAAAAAAAAAAAAAAAAAAAAAAAAAAAAAAAAAAAAAAAAAAAAAAAAAAAAAAAAAAAAAAAAAAAAAAAAAAAAAAAAAAAAAAAAAAAAAAAAAAAAAAAAAAAAAAAAAAAAAAAAAAAAAAAAAAAAAAAAAAAAAAAAAAAAAAAAAAAAAAAAAAAAAAAAAAAAAAAAAAAAAAAAAAAAAAAAAAAAAAAAAAAAAAAAAAAAAAAAAAAAAAAAAAAAAAAAAAAAAAAAAAAAAAAAAAAAAAAAAAAAAAAAAAAAAAAAAAAAAAAAAAAAAAAAAAAAAAAAAAAAAAAAAAAAAAAAAAAAAAAAAAAAAAAAAAAAAAAAAAAAAAAAAAAAAAAAAAAAAAAAAAAAAAAAAAAAAAAAAAAAAAAAAAAAAAAAAAAAAAAAAAAAAAAAAAAAAAAAAAAAAAAAAAAAAAAAAAAAAAAAAAAAAAAAAAAAAAAAAAAAAAAAAAAAAAAAAAAAAAAAAAAAAAAAAAAAAAAAAAAAAAAAAAAAAAAAAAAAAAAAAAAAAAAAAAAAAAAAAAAAAAAAAAAAAAAAAAAAAAAAAAAAAAAAAAAAAAAAAAAAAAAAAAAAAAAAAAAAAAAAAAAAAAAAAAAAAAAAAAAAAAAAAAAAAAAAAAAAAAAAAAAAAAAAAAAAAAAAAAAAAAAAAAAAAAAAAAAAAAAAAAAAAAAAAAAAAAAAAAAAAAAAAAAAAAAAAAAAAAAAAAAAAAAAAAAAAAAAAAAAAAAAAAAAAAAAAAAAAAAAAAAAAAAAAAAAAAAAAAAAAAAAAAAAAAAAAAAAAAAAAAAAAAAAAAAAAAAAAAAAAAAAAAAAAAAAAAAAAAAAAAAAAAAAAAAAAAAAAAAAAAAAAAAAAAAAAAAAAAAAAAAAAAAAAAAAAAAAAAAAAAAAAAAAAAAAAAAAAAAAAAAAAAAAAAAAAAAAAAAAAAAAAAAAAAAAAAAAAAAAAAAAAAAAAAAAAAAAAAAAAAAAAAAAAAAAAAAAAAAAAAAAAAAAAAAAAAAAAAAAAAAAAAAAAAAAAAAAAAAAAAAAAAAAAAAAAAAAAAAAAAAAAAAAAAAAAAAAAAAAAAAAAAAAAAAAAAAAAAAAAAAAAAAAAAAAAAAAAAAAAAAAAAAAAAAAAAAAAAAAAAAAAAAAAAAAAAAAAAAAAAAAAAAAAAAAAAAAAAAAAAAAAAAAAAAAAAAAAAAAAAAAAAAAAAAAAAAAAAAAAAAAAAAAAAAAAAAAAAAAAAAAAAAAAAAAAAAAAAAAAAAAAAAAAAAAAAAAAAAAAAAAAAAAAAAAAAAAAAAAAAAAAAAAAAAAAAAAAAAAAAAAAAAAAAAAAAAAAAAAAAAAAAAAAAAAAAAAAAAAAAAAAAAAAAAAAAAAAAAAAAAAAAAAAAAAAAAAAAAAAAAAAAAAAAAAAAAAAAAAAAAAAAAAAAAAAAAAAAAAAAAAAAAAAAAAAAAAAAAAAAAAAAAAAAAAAAAAAAAAAAAAAAAAAAAAAAAAAAAAAAAAAAAAAAAAAAAAAAAAAAAAAAAAAAAAAAAAAAAAAAAAAAAAAAAAAAAAAAAAAAAAAAAAAAAAAAAAAAAAAAAAAAAAAAAAAAAAAAAAAAAAAAAAAAAAAAAAAAAAAAAAAAAAAAAAAAAAAAAAAAAAAAAAAAAAAAAAAAAAAAAAAAAAAAAAAAAAAAAAAAAAAAAAAAAAAAAAAAAAAAAAAAAAAAAAAAAAAAAAAAAAAAAAAAAAAAAAAAAAAAAAAAAAAAAAAAAAAAAAAAAAAAAAAAAAAAAAAAAAAAAAAAAAAAAAAAAAAAAAAAAAAAAAAAAAAAAAAAAAAAAAAAAAAAAAAAAAAAAAAAAAAAAAAAAAAAAAAAAAAAAAAAAAAAAAAAAAAAAAAAAAAAAAAAAAAAAAAAAAAAAAAAAAAAAAAAAAAAAAAAAAAAAAAAAAAAAAAAAAAAAAAAAAAAAAAAAAAAAAAAAAAAAAAAAAAAAAAAAAAAAAAAAAAAAAAAAAAAAAAAAAAAAAAAAAAAAAAAAAAAAAAAAAAAAAAAAAAAAAAAAAAAAAAAAAAAAAAAAAAAAAAAAAAAAAAAAAAAAAAAAAAAAAAAAAAAAAAAAAAAAAAAAAAAAAAAAAAAAAAAAAAAAAAAAAAAAAAAAAAAAAAAAAAAAAAAAAAAAAAAAAAAAAAAAAAAAAAAAAAAAAAAAAAAAAAAAAAAAAAAAAAAAAAAAAAAAAAAAAAAAAAAAAAAAAAAAAAAAAAAAAAAAAAAAAAAAAAAAAAAAAAAAAAAAAAAAAAAAAAAAAAAAAAAAAAAAAAAAAAAAAAAAAAAAAAAAAAAAAAAAAAAAAAAAAAAAAAAAAAAAAAAAAAAAAAAAAAAAAAAAAAAAAAAAAAAAAAAAAAAAAAAAAAAAAAAAAAAAAAAAAAAAAAAAAAAAAAAAAAAAAAAAAAAAAAAAAAAAAAAAAAAAAAAAAAAAAAAAAAAAAAAAAAAAAAAAAAAAAAAAAAAAAAAAAAAAAAAAAAAAAAAAAAAAAAAAAAAAAAAAAAAAAAAAAAAAAAAAAAAAAAAAAAAAAAAAAAAAAAAAAAAAAAAAAyMDIwOjA3OjA2IDEzOjM5OjExADIwMjA6MDc6MDYgMTM6Mzk6MTEAAABHAGEAdQB0AGgAYQBtACAAVgBlAGwAYQB5AHUAdABoAGEAbQAAAP/hCyVodHRwOi8vbnMuYWRvYmUuY29tL3hhcC8xLjAvADw/eHBhY2tldCBiZWdpbj0n77u/JyBpZD0nVzVNME1wQ2VoaUh6cmVTek5UY3prYzlkJz8+DQo8eDp4bXBtZXRhIHhtbG5zOng9ImFkb2JlOm5zOm1ldGEvIj48cmRmOlJERiB4bWxuczpyZGY9Imh0dHA6Ly93d3cudzMub3JnLzE5OTkvMDIvMjItcmRmLXN5bnRheC1ucyMiPjxyZGY6RGVzY3JpcHRpb24gcmRmOmFib3V0PSJ1dWlkOmZhZjViZGQ1LWJhM2QtMTFkYS1hZDMxLWQzM2Q3NTE4MmYxYiIgeG1sbnM6ZGM9Imh0dHA6Ly9wdXJsLm9yZy9kYy9lbGVtZW50cy8xLjEvIi8+PHJkZjpEZXNjcmlwdGlvbiByZGY6YWJvdXQ9InV1aWQ6ZmFmNWJkZDUtYmEzZC0xMWRhLWFkMzEtZDMzZDc1MTgyZjFiIiB4bWxuczp4bXA9Imh0dHA6Ly9ucy5hZG9iZS5jb20veGFwLzEuMC8iPjx4bXA6Q3JlYXRlRGF0ZT4yMDIwLTA3LTA2VDEzOjM5OjExLjc0MjwveG1wOkNyZWF0ZURhdGU+PC9yZGY6RGVzY3JpcHRpb24+PHJkZjpEZXNjcmlwdGlvbiByZGY6YWJvdXQ9InV1aWQ6ZmFmNWJkZDUtYmEzZC0xMWRhLWFkMzEtZDMzZDc1MTgyZjFiIiB4bWxuczpkYz0iaHR0cDovL3B1cmwub3JnL2RjL2VsZW1lbnRzLzEuMS8iPjxkYzpjcmVhdG9yPjxyZGY6U2VxIHhtbG5zOnJkZj0iaHR0cDovL3d3dy53My5vcmcvMTk5OS8wMi8yMi1yZGYtc3ludGF4LW5zIyI+PHJkZjpsaT5HYXV0aGFtIFZlbGF5dXRoYW08L3JkZjpsaT48L3JkZjpTZXE+DQoJCQk8L2RjOmNyZWF0b3I+PC9yZGY6RGVzY3JpcHRpb24+PC9yZGY6UkRGPjwveDp4bXBtZXRhPg0KICAgICAgICAgICAgICAgICAgICAgICAgICAgICAgICAgICAgICAgICAgICAgICAgICAgICAgICAgICAgICAgICAgICAgICAgICAgICAgICAgICAgICAgICAgICAgICAgICAgIAogICAgICAgICAgICAgICAgICAgICAgICAgICAgICAgICAgICAgICAgICAgICAgICAgICAgICAgICAgICAgICAgICAgICAgICAgICAgICAgICAgICAgICAgICAgICAgICAgICAgCiAgICAgICAgICAgICAgICAgICAgICAgICAgICAgICAgICAgICAgICAgICAgICAgICAgICAgICAgICAgICAgICAgICAgICAgICAgICAgICAgICAgICAgICAgICAgICAgICAgICAKICAgICAgICAgICAgICAgICAgICAgICAgICAgICAgICAgICAgICAgICAgICAgICAgICAgICAgICAgICAgICAgICAgICAgICAgICAgICAgICAgICAgICAgICAgICAgICAgICAgIAogICAgICAgICAgICAgICAgICAgICAgICAgICAgICAgICAgICAgICAgICAgICAgICAgICAgICAgICAgICAgICAgICAgICAgICAgICAgICAgICAgICAgICAgICAgICAgICAgICAgCiAgICAgICAgICAgICAgICAgICAgICAgICAgICAgICAgICAgICAgICAgICAgICAgICAgICAgICAgICAgICAgICAgICAgICAgICAgICAgICAgICAgICAgICAgICAgICAgICAgICAKICAgICAgICAgICAgICAgICAgICAgICAgICAgICAgICAgICAgICAgICAgICAgICAgICAgICAgICAgICAgICAgICAgICAgICAgICAgICAgICAgICAgICAgICAgICAgICAgICAgIAogICAgICAgICAgICAgICAgICAgICAgICAgICAgICAgICAgICAgICAgICAgICAgICAgICAgICAgICAgICAgICAgICAgICAgICAgICAgICAgICAgICAgICAgICAgICAgICAgICAgCiAgICAgICAgICAgICAgICAgICAgICAgICAgICAgICAgICAgICAgICAgICAgICAgICAgICAgICAgICAgICAgICAgICAgICAgICAgICAgICAgICAgICAgICAgICAgICAgICAgICAKICAgICAgICAgICAgICAgICAgICAgICAgICAgICAgICAgICAgICAgICAgICAgICAgICAgICAgICAgICAgICAgICAgICAgICAgICAgICAgICAgICAgICAgICAgICAgICAgICAgIAogICAgICAgICAgICAgICAgICAgICAgICAgICAgICAgICAgICAgICAgICAgICAgICAgICAgICAgICAgICAgICAgICAgICAgICAgICAgICAgICAgICAgICAgICAgICAgICAgICAgCiAgICAgICAgICAgICAgICAgICAgICAgICAgICAgICAgICAgICAgICAgICAgICAgICAgICAgICAgICAgICAgICAgICAgICAgICAgICAgICAgICAgICAgICAgICAgICAgICAgICAKICAgICAgICAgICAgICAgICAgICAgICAgICAgICAgICAgICAgICAgICAgICAgICAgICAgICAgICAgICAgICAgICAgICAgICAgICAgICAgICAgICAgICAgICAgICAgICAgICAgIAogICAgICAgICAgICAgICAgICAgICAgICAgICAgICAgICAgICAgICAgICAgICAgICAgICAgICAgICAgICAgICAgICAgICAgICAgICAgICAgICAgICAgICAgICAgICAgICAgICAgCiAgICAgICAgICAgICAgICAgICAgICAgICAgICAgICAgICAgICAgICAgICAgICAgICAgICAgICAgICAgICAgICAgICAgICAgICAgICAgICAgICAgICAgICAgICAgICAgICAgICAKICAgICAgICAgICAgICAgICAgICAgICAgICAgICAgICAgICAgICAgICAgICAgICAgICAgICAgICAgICAgICAgICAgICAgICAgICAgICAgICAgICAgICAgICAgICAgICAgICAgIAogICAgICAgICAgICAgICAgICAgICAgICAgICAgICAgICAgICAgICAgICAgICAgICAgICAgICAgICAgICAgICAgICAgICAgICAgICAgICAgICAgICAgICAgICAgICAgICAgICAgCiAgICAgICAgICAgICAgICAgICAgICAgICAgICAgICAgICAgICAgICAgICAgICAgICAgICAgICAgICAgICAgICAgICAgICAgICAgICAgICAgICAgICAgICAgICAgICAgICAgICAKICAgICAgICAgICAgICAgICAgICAgICAgICAgICAgICAgICAgICAgICAgICAgICAgICAgICAgICAgICAgICAgICAgICAgICAgICAgICAgICAgICAgICAgICAgICAgICAgICAgIAogICAgICAgICAgICAgICAgICAgICAgICAgICAgICAgICAgICAgICAgICAgICAgICAgICAgICAgICAgICAgICAgICAgICAgICAgICAgICAgICAgICAgICAgICAgICAgICAgICAgCiAgICAgICAgICAgICAgICAgICAgICAgICAgICA8P3hwYWNrZXQgZW5kPSd3Jz8+/9sAQwAHBQUGBQQHBgUGCAcHCAoRCwoJCQoVDxAMERgVGhkYFRgXGx4nIRsdJR0XGCIuIiUoKSssKxogLzMvKjInKisq/9sAQwEHCAgKCQoUCwsUKhwYHCoqKioqKioqKioqKioqKioqKioqKioqKioqKioqKioqKioqKioqKioqKioqKioqKioq/8AAEQgBAQGWAwEiAAIRAQMRAf/EAB8AAAEFAQEBAQEBAAAAAAAAAAABAgMEBQYHCAkKC//EALUQAAIBAwMCBAMFBQQEAAABfQECAwAEEQUSITFBBhNRYQcicRQygZGhCCNCscEVUtHwJDNicoIJChYXGBkaJSYnKCkqNDU2Nzg5OkNERUZHSElKU1RVVldYWVpjZGVmZ2hpanN0dXZ3eHl6g4SFhoeIiYqSk5SVlpeYmZqio6Slpqeoqaqys7S1tre4ubrCw8TFxsfIycrS09TV1tfY2drh4uPk5ebn6Onq8fLz9PX29/j5+v/EAB8BAAMBAQEBAQEBAQEAAAAAAAABAgMEBQYHCAkKC//EALURAAIBAgQEAwQHBQQEAAECdwABAgMRBAUhMQYSQVEHYXETIjKBCBRCkaGxwQkjM1LwFWJy0QoWJDThJfEXGBkaJicoKSo1Njc4OTpDREVGR0hJSlNUVVZXWFlaY2RlZmdoaWpzdHV2d3h5eoKDhIWGh4iJipKTlJWWl5iZmqKjpKWmp6ipqrKztLW2t7i5usLDxMXGx8jJytLT1NXW19jZ2uLj5OXm5+jp6vLz9PX29/j5+v/aAAwDAQACEQMRAD8A+kaKKKACiiigAooooAKKKKACiiigAooooAKKKKACiiigAooooAKKKKACiiigAooooAKKKKACiiigAooooAKKKKACiiigAooooAKKKKACiiigAooooAKKKKACiiigAooooAKKKKACiiigAooooAKKKKACiiigAooooAKKKKACiiigAooooAKKKKACiiigAooooAKKKKACiiigAooooAKKKKACiiigAooooAKKKKACiiigAooooAKKKKACiiigAooooAKKKKACiiigAooooAKKKKACiiigAooooAKKKKACiiigAooooAKKKKACiiigAooozQAUUZpAwPQ5+lAC0UZozQAUUZooAKKKKACiiigAooozQAUUZozQAUUZpAwPQg0ALRRRmgAoozRQAUUUUAFFFFABRRRQAUUUUAFFFFABRRRQAUUUUAFFFFABRRRQAUUUUAFFFFABRRRQAUUUUAFFBrj/ABF4/tNLuv7N0i3k1fV34W1tuQp9WboBQB1skscUZeV1RF6sxwBXJ6p8SdCsbg2tk02qXQOPJs034PuegrLh8Ga94odbnxtqRhgPI02ybCgejN3rsdK0DS9EgWHS7GG3VRjKrz+fWlqPQ5Ma3491r/kF6FZ6TC38d9IWfHqAvH50v/CIeMb7J1TxnJGrf8srO1SPb/wLrXeAUtFgucH/AMKxL83Hi/xGzd9t4FB/DbSn4XQjPk+KPEcIx0S+4/lXTa94j0nwvpp1DXr1LO1Bx5jgnn6DJqzpmp2esabBqGmzrcWs674pV6MPxosguzjv+EC8QWvOleN9RRu32pFm/mKT/i4+j8ltM1yJfvFkMUjfQA4rvqSiwXOGg+JkNpKIPFGkXmjSk4Luu+Mf8CFdfp+qWOqW4m0+7iuYyM5jYH/9VSXNpBeRGK6hjmjPVXUMP1rjdS+Gtuk7XvhS9l0S9zkeWSYmP+0tGoaHc5ozXntr441Pw5eJp/j6y+zqSFj1OAFoH/3u613tvcRXUKTW8qSxOMq6NkMKYrEtFGa5jxP4303w4wtgHvtRk4isbYbpGPv6CgDpiyqpLEADkk9q5bWPiHoGkyGAXLXt2P8Al3s18xj+XFYsfh/xV4xCzeJ71tI09uRp9o37wj/abt+FdVo3hPRdAjCaZYRRnvIRuc++TS1Hoc2vibxrrX/IC8Nw2MR6T6jKTkeoVcYo/wCEW8cah82peMBbKf8AllaWijH/AAI813uKWiwXOD/4VnLLzd+L/ELP/wBMrsIPyxQfhbbr/qvE/iOI9yt/1+vFd2a861b43+EtF1y80u/a9WWyk2TulqzJGfciiyC7LJ+H2sWw/wCJZ411ZGHQ3JWb88igWvxI0jmK+03W416ieIxMR7be9dhpGrWOuaVBqWlXC3FpcLujkXPI/HpV2iwXODT4jz6c4j8V+H7zTD0M0f72P65HQV1ek69pet24m0u9huVP9xuR9R1q7LFHNGY5o1kQ8FWUEH8K5DVvhvpd3cG80eSbRr7qJrU4Un/aXoaNQ0OzzRXnKeKvEHg2dLbxrZm7sC21NVtFyF/316iu8sNRtNTs0utPuI7iCQZWSNsg0BYtUUUUxBRRRQAUUUUAFFFFABRRRQAUUUUAFFFFABRRRQAUUUUAFFFFABRRRQAUyWRIo2eRgqqMkk4AFDsEUsxAAGST2rzjUb+8+IusSaNoszwaFbPtvLxDgznuin0pNjSuPvfEGr+OdRl0rwgxttNjOy61Qjr6qnr35rq/DnhTTfDNr5dhFmVv9ZO/LyH1JrQ0rTbTSNOisdPhWG3hXaqKP881coSC4gpaKKYgooooA8J+N/iTSJfHGgeHdduRHpsJN1efIW7fKCBWp+z54kt9Q8PanokEwkTTLxxbkggtCxypwfxFdrZ/D7T7bx1f+KLiea9u71BGI5wpSFR2UYpdO8AWGlePr3xRY3M8M19EsU1qoURHb0PTOfxoA6yigUUAFFFFAFa+sbXUbV7a+gSeFxhkcZBFefXWj6x8PJXv/DnmX2ibt0+nsSWiHcpXpRryjxz4uvvEGsSeEvCU/lY4v75f+WS91U+tJjLtx4/uPGTJpfgDLySKDc3jrhbYHqPrXSeGPBdh4cQzsTeahLzNdzcsx9vQV5eNFuvhtdQ634SWSe2RQmoWbOSJl7yD/ar2Lw9r1j4k0aDUtMlEkMozjPKnuD70kBqUUUVQgooooADXy7fWviK58a/EcaBPYRW4c/axdICxXH8JPQ19QmvO9X+B/g3XNcu9U1G2uXnu5PMmC3Tqrn6A0ATfBK5sbn4T6SdNSRIo1ZGEnUuDya7+qWj6TY6FpcOnaVbrbWsC7Y416AVdoAKKKKAIp4IriFop41kjcYZWGQR9K8/1HwpqnhG8fWPA+XhzuuNKY/LIO+30Nei0UgMHwt4rsfFNgZrXMc0Z2zW78PE3cEVvVwXi3wpc22of8JP4S/carF81xGvC3KdwR610PhbxNa+KNIW6tx5cq/JPA33onHUEUD9DcooFFMQUUUUAFFFFABRRRQAUUUUAFFFFABRRRQAUUUUAFFFFABSGlrK8Sa5B4d8P3ep3JG2CMlV/vN0A/PFAHLeONXu9V1KHwhoD7bq6GbuZefIi7/jiut0LRbPw/o8OnafGEhhXHTlj3J9zXOfDvQ57bT5db1b59T1Q+bIW6op6LXaDikhvsFFFFMQUUUUAFFFFABRRRQAUUUUAFBoqrqV/Dpem3F9dOEht4zI7H0AoA4v4m+MLjR7CHRdBO/XNUPlQAf8ALJT1c/QVleGfD0HhvSVtYj5kzHfPO33pXPUk1jeEkn8Q6xe+MdTB8y8Yx2aN/wAs4ge3pmuxqRiEBlIYZBGCD3rj7K9k+GfjJLiPJ8N6vIEnTtazE8MPY12NUtX0u31rSLnT7xcxTptJ/unsaQHosciTRLJGwZWGQQcgin15x8KPEFw9td+F9YfOo6S21cnmSL+Fq9HqxBRRRQAUUUUAFFFFABRRRQAUUUUAGK848T6fP4L8RL4s0ZG+xTsE1O2ToR2kA9R3r0eoLu1ivbSW2uEDxSqVZSOoNACWV5Df2UV1ayB4ZlDow7irArzzwTPN4b8S3vg+/Y+WM3Gns38cfdfwr0MdKBhRRRQIKKKKACiiigAooooAKKKKACiiigAooooAKKKKADNed+LgfFPj7SvDSHdaWv8Apt6B3A+6Pz7e9egSyLFC8jnCoCxPoBXB/DeJtSvtc8Rz4L31yY4z/sJ6fWkxrud9GipGFQABRgAU6gdKKYgooooAKKKKACiiigAooooAKKKKAA15j8YNSkvE0vwlZsRLqs26faeVhXk59jXpprxmzl/4SH4s69rDZeHTlWxt8/wt1fH14/KkwOmtbaKzs4ba3ULHCgRQPQVNRRUjCiiimBx/iGZvC/jPR/FcORF5gtL0KPvRtwD+Fe0o4kjV0IKsMgjvXmHijSk1vwvf2D9ZoTtPcEDIxXQ/C/XH134f6dNcEfaIU8icDs6cH+VCA7CiiiqEFFFFABRRRQAUUUUAFFFFABRRRQBwfxM0+WC0s/Etgv8ApekTCVsfxxE4cH2xz+Fdnpt7FqWmW95btujnjDqfUEUX9pHf6fcWs67o542jZT3BGK5D4XXUiaDdaPcEmbS7loCW9M8Uuo+h3FFFFMQUUUUAFFFFABRRRQAUUUUAFFFFABRRRQAUUUUAYPjW/bTPBeqXSfeSAge+eP603wNp403wVpkAGD5Ic8dzz/Wsn4rTGPwYsQOPtF5DCR65b/61ddYRCDT7eIdEjVf0pdR9CwKKKKYgooooAKKKKACiiigAooooAKKKKAKerXS2Wj3dy5wIoWb9K8l+HMLf8IobyYfvr65lnc+uW4/Su/8AiNci1+HusPu2k27KD9a5PwlD9n8G6TFjBW2XNSxmxRRRQAUUUUAAODWR8JH+wa34o0McJbXpmQY7Pz/WtesDwk/2X426nbjpdWKTH60AetUUUVQgooooAKKKKACiiigAooooAKKKKAENcFo+NL+L+r2uSE1C3WZE9x1Nd9XB60BbfGDQ7kDma2khOPcUmNHeCigUUxBRRRQAUUUUAFFFFABRRRQAUUUUAFFFFABRRRQBwnxa/wCRXsP+wpb/AMzXcRf6lP8AdFcX8V4i/g6KQD/UX0Mp/An/ABrsLOUTWMEg/jjVvzFIfQnooopiCiiigAooooAKKKKACiiigAooooA5D4p/8k41T/rmP51heH/+Rb07/r3T+VdH8Sbf7T8O9XT+7bl+PauW8KT/AGnwfpMw/jtUP6VL3Ga9FFFABRRRQAVz2h/L8eMp946UA/0zXQ1geFl+0/HLUJh0t9OSJsetAHrVFFFUIKKKKACiiigAooooAKKKKACiiigArg/GHHxF8KsnDGdg2PTFd5XCa6ftHxd0C3U8xwSTH6Ckxo7sUUCimIKKKKACiiigAooooAKKKKACiiigAooooAKKKKAOe8d2L6j4H1S3iGZDCWX2IIP9Kk8F366l4N025U5zAAT7jj+lbE8Sz28kMg+WRSp9wRXD/DKdrNdW8PXHyy6bdEonpG3IpdR9DvaKBRTEFFFFABRRRQAUUUUAFFFFABRRRQBR1u0F/od7asMiWBlx68V5R8OZ2k8HR28vElnPJAy/3drcfpXsjAHg14vpEZ0D4m+I9CclY7plvoM9DkYYD8R+tSxnXUUUUAFFFFAABuYAVj/ClTqHifxVrI5imu/IjPps4IqbxBqcejeHr7UJTtEELMD744/Wtf4S6NJo/wAPbL7Sm26uwbmb3Zzn+tCA7aiiiqEFFFFABRRRQAUUUUAFFFFABRRRQAhNcDppXVPjLqNxyRptqsSkjjLdRXcXdylpazXEpCpEhdiewAri/hfDJc6bqGu3A/eapdPKueoUHgfSkNHdiigUUxBRRRQAUUUUAFFFFABRRRQAUUUUAFFFFABRRRQAV534gb/hFfibp2tgbLLVF+x3RHQP1Vj754r0SsTxboEXiXw3d6dJw7ruhf8AuSDlTntzSY0bSkFQRyDS1yPw+8Qyavohs9Qymp6e3kXKNwcjjP411wpi2CiiigAooooAKKKKACiiigAooooAQ15d8W7F9K1LRvGFqvNjL9nuiO8L/wCBr1KqGt6VBrei3Wm3ahormMowPb3pMDkIZUuIEmiYMkihlIPUGn1yHgq5uNOnvPCmqki90xyIif8AlrF2Irr+9SMKKKr399Bpmnz3t4+yGBC7k+1AHL+LY38Q+IdI8JWxyLqcTXZHO2JTk5+tezwwpbwpFEoVEUKqjsBXmnwn0ae9mvfGOrRlbnUTttkYf6uEdPzr0+qQgooopgFFFFABRRRQAUUUUAFFFFABRRUc0qQRPLKwWNBuZiegFAHF/E7U5Y9Eh0SwOb3WJRbIAeik/MfpjI/Gur0fTotJ0e1sIBhLeMIPwFcP4VSTxb42u/FN0pNlaZt9OVu/9569FHSkhvsFFFFMQUUUUAFFFFABRRRQAUUUUAFFFFABRRRQAUUUUAFGAaKKAPPfGFhc+F/ECeMdHiaSIALqMCfxp/ex6iu403UbbVtOhvrCVZbedA6OvcGpp4knheKVQ6OpDKRkEV5uUuvhfqzPEsk/hi6kyVHJs2P/ALLS2HuemCioLW6hvLaO4tZFlilUMjqchganFMQUUUUAFFFFABRRRQAUUUUAFIaWigDzf4oeFruQQeKfDqZ1XTPmeNRzcRfxL78VFoGuWviHR4tQsmyjj5l7o3dT6Yr0wgEc9K8f8W+HbzwJr03iXw9btNpNy26/sox/qz3dRUtDOmrjbiGb4i+L10CwY/2Jp7iTUrgfdkYdIwfr1pl74jm8WzwaF4Ik86e7jD3F0BxbRn19DXqnhLwtY+EtCi0+wTkfNNKfvSv3YmgDWtreO0to7e3QJHGoVVHQAVNRiiqEFFFFABRRRQAUUUUAFFFFABRRSZoAM15/4z1afxDrEfg3QZCZJMNqE6dII/7ufU1e8ZeL5LKVNE8PgXWtXXyqi8+SP7zelaHg3wrH4Z0xvMfz7+5bzLu4PWR/8BSHsa+l6Zb6RpcFjaIFhgQKox+tXKBRTEFFFFABRRRQAUUUUAFFFFABRRRQAUUUUAFFFFABRRRQAUUUUAGM1Dc2sF5bSW91GssUilXRhkEVNRQB5m9nrHw1vXn0uOTUvDcrZe1zmS055Ke3tXdaNr2n6/Yrd6XcLNGeoB+ZT6EdjWgyK6lWAIIwQR1riNZ+H8kN82reDb06VqBO5osZgmP+0O1Ie53GefalrgLH4iy6XcrY+OdNl0mfO0XSjfBJ77h0ruLS+tr+3Weynjnibo8bhgfxFFxE9FJmlzTAKKKKACiijNABQTikZtoycAdyT0rktd+I2jaVIbSxdtV1FjtS0sgZDn3I4H86AOqmmjhiaSZ1jjUZZmOABXnuseKNR8YXEuh+C4x9nY+Xdam65RF7hc9TSxeG/EfjZ1n8X3B0zTchl0y2b5mH+21d1p+mWelWaWunQJbwoMBEGKW49jzSHwVqHwzf+0/CHmahbMB9vtJcbpPV1OOPpXd+HPFWm+JrPztPlxIvEtu/Dxn0Ira21yHiDwDBf3h1PQrhtJ1ZeRNFwr+zL3o2Dc6/NLXntv451Xw1Ktn480ySKPOF1O1UvC3u2OVrttO1aw1a2Fxpt3DdRH+KJwcfX0phYuUUmaWgQUUUUAFFFGaACg0ma5rX/H2haATDLdfabw8JaWo8yRj6YHT8aAOkLhVJYgADJJ7VwuveNrrUbxtD8ERrd37fLLdkfurcdznuapCw8WePSraozaBorHP2ZDmeZfc/w12+i6Bp2gWK2ul26woByQPmY+pPeluPYy/CXg238NwyTzyG91S4O65vJBlnJ7D0FdNiiimIKKKKACiiigAooooAKKKKACiiigAooooAKKKKACiiigAooooAKKKKACiiigAoIzRRQBXvLG21C3aC9gjniYYKuuQa465+GVta3BuvC+pXWizddkT5jPtt7Cu5ooHc4IT/ABE0XiW2sdciHV438t8fQ9TTh8SJ7TI1nwvq1nt+8/k7l/Aiu7xSYpBc4cfF/wAKrxPNdRP/AHWtX4/Slf4veEUOBeTscfw2rn+ldvt9aakaxrtRVUZ6AUBocOfinZXHGlaNquoN2ENuR/Omt4h8carxpfhtNPjb/lrfSAMv/Ae9d5ijFAaHBf8ACCa3rhDeLvEUssecm1sv3cZrqNG8MaR4fh8vSrGKHP3nC5Zvqa1qKLBcKKKKYgoxRRQBFNbx3EbRzxrJGwwVYZBFcff/AAx0xrg3eg3Nxot31D2rYX/vnpXa0UAcCIfiJofCPZa9AvQMfKkx7k9TTl+Ieo2fGteEtUtyPvSRR70/Ou7xRSsO5w4+LvhiPi6e8t3/ALr2r5/lTm+L3hBQD9tnOR2tXP8ASu2xTUhjjJMaKpPXAxmjUNDiD8VtLmH/ABLNN1O/J6CK2YZ/MUw+KvGWp8aP4Ue1Vukl/IEK++O9d5ilxQBwP/CIeKNe/wCRm8RGGE9bawG0EehNdBoXgvQ/Dq/8S6yQSn700nzO34mt6iiwXEAxS0UUxBRRRQAUUUUAFFFFABRRRQAUUUUAFFFFABRRRQAUUUUAFFFFABRRRQAUUUUAFFFFABRRRQAUUUUAFFFFABRRRQAUUUUAFFFFABRRRQAUUUUAFFFFABRRRQAUUUUAFFFFABRRRQAUUUUAFFFFABRRRQAUUUUAFFFFABRRRQAUUUUAFFFFABRRRQAUUUUAFFFFABRRRQAUUUUAFFFFABRRRQAUUUUAFFFFABRRRQAUUUUAFFFFABRRRQAUUUUAFFFFABRRRQAUUUUAFFFFABRRRQAUUUUAFFFFABRRRQAUUUUAFFFFABRRRQAUUUUAFFFFABRRRQAUUUUAFFFFABRRRQAUUUUAFFFFABRRRQAUUUUAFFFFABRRRQAUUUUAFFFFABRRRQAUUUUAFFFFABRRRQAUUUUAFFFFABRRRQAUUUUAFFFFABRRRQAUUUUAFFFFABRRRQB//9k=)\n",
    "\n",
    "SET INTERSECTION"
   ]
  },
  {
   "cell_type": "code",
   "execution_count": null,
   "metadata": {
    "colab": {
     "base_uri": "https://localhost:8080/",
     "height": 34
    },
    "executionInfo": {
     "elapsed": 1034,
     "status": "ok",
     "timestamp": 1598954436218,
     "user": {
      "displayName": "Gautham Velayutham",
      "photoUrl": "",
      "userId": "05764642726617643049"
     },
     "user_tz": -330
    },
    "id": "RD_IErYXE8oW",
    "outputId": "262a74cd-e9c3-4fdb-9e29-61deb6d796b0"
   },
   "outputs": [
    {
     "name": "stdout",
     "output_type": "stream",
     "text": [
      "{4, 5}\n"
     ]
    }
   ],
   "source": [
    "# Intersection of sets\n",
    "# initialize A and B\n",
    "A = {1, 2, 3, 4, 5}\n",
    "B = {4, 5, 6, 7, 8}\n",
    "\n",
    "# use & operator\n",
    "print(A & B)\n"
   ]
  },
  {
   "cell_type": "code",
   "execution_count": null,
   "metadata": {
    "colab": {
     "base_uri": "https://localhost:8080/",
     "height": 34
    },
    "executionInfo": {
     "elapsed": 1229,
     "status": "ok",
     "timestamp": 1598954454711,
     "user": {
      "displayName": "Gautham Velayutham",
      "photoUrl": "",
      "userId": "05764642726617643049"
     },
     "user_tz": -330
    },
    "id": "i21Cln9IFFGi",
    "outputId": "adcba0b3-a2bc-4c07-b571-eebc1ce06c39"
   },
   "outputs": [
    {
     "data": {
      "text/plain": [
       "{4, 5}"
      ]
     },
     "execution_count": 8,
     "metadata": {
      "tags": []
     },
     "output_type": "execute_result"
    }
   ],
   "source": [
    "# use intersection function on A\n",
    "A.intersection(B)\n"
   ]
  },
  {
   "cell_type": "markdown",
   "metadata": {
    "id": "pFNJVVF3FG4l"
   },
   "source": [
    "![setdiff.JPG](data:image/jpeg;base64,/9j/4AAQSkZJRgABAQEAYABgAAD/4REERXhpZgAATU0AKgAAAAgABAE7AAIAAAATAAAISodpAAQAAAABAAAIXpydAAEAAAAmAAAQ1uocAAcAAAgMAAAAPgAAAAAc6gAAAAgAAAAAAAAAAAAAAAAAAAAAAAAAAAAAAAAAAAAAAAAAAAAAAAAAAAAAAAAAAAAAAAAAAAAAAAAAAAAAAAAAAAAAAAAAAAAAAAAAAAAAAAAAAAAAAAAAAAAAAAAAAAAAAAAAAAAAAAAAAAAAAAAAAAAAAAAAAAAAAAAAAAAAAAAAAAAAAAAAAAAAAAAAAAAAAAAAAAAAAAAAAAAAAAAAAAAAAAAAAAAAAAAAAAAAAAAAAAAAAAAAAAAAAAAAAAAAAAAAAAAAAAAAAAAAAAAAAAAAAAAAAAAAAAAAAAAAAAAAAAAAAAAAAAAAAAAAAAAAAAAAAAAAAAAAAAAAAAAAAAAAAAAAAAAAAAAAAAAAAAAAAAAAAAAAAAAAAAAAAAAAAAAAAAAAAAAAAAAAAAAAAAAAAAAAAAAAAAAAAAAAAAAAAAAAAAAAAAAAAAAAAAAAAAAAAAAAAAAAAAAAAAAAAAAAAAAAAAAAAAAAAAAAAAAAAAAAAAAAAAAAAAAAAAAAAAAAAAAAAAAAAAAAAAAAAAAAAAAAAAAAAAAAAAAAAAAAAAAAAAAAAAAAAAAAAAAAAAAAAAAAAAAAAAAAAAAAAAAAAAAAAAAAAAAAAAAAAAAAAAAAAAAAAAAAAAAAAAAAAAAAAAAAAAAAAAAAAAAAAAAAAAAAAAAAAAAAAAAAAAAAAAAAAAAAAAAAAAAAAAAAAAAAAAAAAAAAAAAAAAAAAAAAAAAAAAAAAAAAAAAAAAAAAAAAAAAAAAAAAAAAAAAAAAAAAAAAAAAAAAAAAAAAAAAAAAAAAAAAAAAAAAAAAAAAAAAAAAAAAAAAAAAAAAAAAAAAAAAAAAAAAAAAAAAAAAAAAAAAAAAAAAAAAAAAAAAAAAAAAAAAAAAAAAAAAAAAAAAAAAAAAAAAAAAAAAAAAAAAAAAAAAAAAAAAAAAAAAAAAAAAAAAAAAAAAAAAAAAAAAAAAAAAAAAAAAAAAAAAAAAAAAAAAAAAAAAAAAAAAAAAAAAAAAAAAAAAAAAAAAAAAAAAAAAAAAAAAAAAAAAAAAAAAAAAAAAAAAAAAAAAAAAAAAAAAAAAAAAAAAAAAAAAAAAAAAAAAAAAAAAAAAAAAAAAAAAAAAAAAAAAAAAAAAAAAAAAAAAAAAAAAAAAAAAAAAAAAAAAAAAAAAAAAAAAAAAAAAAAAAAAAAAAAAAAAAAAAAAAAAAAAAAAAAAAAAAAAAAAAAAAAAAAAAAAAAAAAAAAAAAAAAAAAAAAAAAAAAAAAAAAAAAAAAAAAAAAAAAAAAAAAAAAAAAAAAAAAAAAAAAAAAAAAAAAAAAAAAAAAAAAAAAAAAAAAAAAAAAAAAAAAAAAAAAAAAAAAAAAAAAAAAAAAAAAAAAAAAAAAAAAAAAAAAAAAAAAAAAAAAAAAAAAAAAAAAAAAAAAAAAAAAAAAAAAAAAAAAAAAAAAAAAAAAAAAAAAAAAAAAAAAAAAAAAAAAAAAAAAAAAAAAAAAAAAAAAAAAAAAAAAAAAAAAAAAAAAAAAAAAAAAAAAAAAAAAAAAAAAAAAAAAAAAAAAAAAAAAAAAAAAAAAAAAAAAAAAAAAAAAAAAAAAAAAAAAAAAAAAAAAAAAAAAAAAAAAAAAAAAAAAAAAAAAAAAAAAAAAAAAAAAAAAAAAAAAAAAAAAAAAAAAAAAAAAAAAAAAAAAAAAAAAAAAAAAAAAAAAAAAAAAAAAAAAAAAAAAAAAAAAAAAAAAAAAAAAAAAAAAAAAAAAAAAAAAAAAAAAAAAAAAAAAAAAAAAAAAAAAAAAAAAAAAAAAAAAAAAAAAAAAAAAAAAAAAAAAAAAAAAAAAAAAAAAAAAAAAAAAAAAAAAAAAAAAAAAAAAAAAAAAAAAAAAAAAAAAAAAAAAAAAAAAAAAAAAAAAAAAAAAAAAAAAAAAAAAAAAAAAAAAAAAAAAAAAAAAAAAAAAAAAAAAAAAAAAAAAAAAAAAAAAAAAAAAAAAAAAAAAAAAAAAAAAAAAAAAAAAAAAAAAAAAAAAAAAAAAAAAAAAAAAAAAAAAAAAAAAAAAAAAAAAAAAAAAAAAAAAAAAAAAAAAAAAAAAAAAAAAAAAAAAAAAAAAAAAAAAAAAAAAAAAAAAAAAAAAAAAAAAAAAAAAAAAAAAAAAAAAAAAAAAAAAAAAAAAAAAAAAAAAAAAAAAAAAAAAAAAAAAAAAAAAAAAAAAAAAAAAAAAAAAAAAAAAAAAAAAAAAAAAAAAAAAAAAAAAAAAAAAAAAAAAAAAAAAAAAAAAAAAAAAAAAAAAAAAAAAAAAAAAAAAAAAAAAAAAAAAAAAAAAAAAAAAAAAAAAAAAAAAAAAAAAAAAAAAAAAAAAAAAAAAAAAAAAAAAAAAAAAAAAAAAAAAAAAAAAAAAAAAAAAAAAAAAAAAAAAAAAAAAAAAAAAAAAAAAAAAAAAAAAAAAAAAAAAAAAAAAAAAAAAAAAAAAAAAAAAAAAAAAAAAAAAAAAAAAAAAAAAAAAAAAAAAAAAAAAAAAAAAAAAAAAAAAAAAAAAAAAAAAAAAAAAAAAAAAAAAAAAAAAAAAAAAAAAAAAAAAAAAAAAAAAAAAAAAAAAAAAAAAAAAAAAAAAAAAAAAAAAAAAAAAAAAAAAAAAAAAAAAAAAAAAAAAAAAAAAAAAAAAAAAAAAAAAAAAAAAAAAAAAAAAAAAAAAAAAAAAAAAAAAAAAAAAAAAAAAAAAAAAAAAAAAAAAAAAAAAAAAAAAAAAAAAAAAAAAAAAAEdhdXRoYW0gVmVsYXl1dGhhbQAAAAWQAwACAAAAFAAAEKyQBAACAAAAFAAAEMCSkQACAAAAAzU2AACSkgACAAAAAzU2AADqHAAHAAAIDAAACKAAAAAAHOoAAAAIAAAAAAAAAAAAAAAAAAAAAAAAAAAAAAAAAAAAAAAAAAAAAAAAAAAAAAAAAAAAAAAAAAAAAAAAAAAAAAAAAAAAAAAAAAAAAAAAAAAAAAAAAAAAAAAAAAAAAAAAAAAAAAAAAAAAAAAAAAAAAAAAAAAAAAAAAAAAAAAAAAAAAAAAAAAAAAAAAAAAAAAAAAAAAAAAAAAAAAAAAAAAAAAAAAAAAAAAAAAAAAAAAAAAAAAAAAAAAAAAAAAAAAAAAAAAAAAAAAAAAAAAAAAAAAAAAAAAAAAAAAAAAAAAAAAAAAAAAAAAAAAAAAAAAAAAAAAAAAAAAAAAAAAAAAAAAAAAAAAAAAAAAAAAAAAAAAAAAAAAAAAAAAAAAAAAAAAAAAAAAAAAAAAAAAAAAAAAAAAAAAAAAAAAAAAAAAAAAAAAAAAAAAAAAAAAAAAAAAAAAAAAAAAAAAAAAAAAAAAAAAAAAAAAAAAAAAAAAAAAAAAAAAAAAAAAAAAAAAAAAAAAAAAAAAAAAAAAAAAAAAAAAAAAAAAAAAAAAAAAAAAAAAAAAAAAAAAAAAAAAAAAAAAAAAAAAAAAAAAAAAAAAAAAAAAAAAAAAAAAAAAAAAAAAAAAAAAAAAAAAAAAAAAAAAAAAAAAAAAAAAAAAAAAAAAAAAAAAAAAAAAAAAAAAAAAAAAAAAAAAAAAAAAAAAAAAAAAAAAAAAAAAAAAAAAAAAAAAAAAAAAAAAAAAAAAAAAAAAAAAAAAAAAAAAAAAAAAAAAAAAAAAAAAAAAAAAAAAAAAAAAAAAAAAAAAAAAAAAAAAAAAAAAAAAAAAAAAAAAAAAAAAAAAAAAAAAAAAAAAAAAAAAAAAAAAAAAAAAAAAAAAAAAAAAAAAAAAAAAAAAAAAAAAAAAAAAAAAAAAAAAAAAAAAAAAAAAAAAAAAAAAAAAAAAAAAAAAAAAAAAAAAAAAAAAAAAAAAAAAAAAAAAAAAAAAAAAAAAAAAAAAAAAAAAAAAAAAAAAAAAAAAAAAAAAAAAAAAAAAAAAAAAAAAAAAAAAAAAAAAAAAAAAAAAAAAAAAAAAAAAAAAAAAAAAAAAAAAAAAAAAAAAAAAAAAAAAAAAAAAAAAAAAAAAAAAAAAAAAAAAAAAAAAAAAAAAAAAAAAAAAAAAAAAAAAAAAAAAAAAAAAAAAAAAAAAAAAAAAAAAAAAAAAAAAAAAAAAAAAAAAAAAAAAAAAAAAAAAAAAAAAAAAAAAAAAAAAAAAAAAAAAAAAAAAAAAAAAAAAAAAAAAAAAAAAAAAAAAAAAAAAAAAAAAAAAAAAAAAAAAAAAAAAAAAAAAAAAAAAAAAAAAAAAAAAAAAAAAAAAAAAAAAAAAAAAAAAAAAAAAAAAAAAAAAAAAAAAAAAAAAAAAAAAAAAAAAAAAAAAAAAAAAAAAAAAAAAAAAAAAAAAAAAAAAAAAAAAAAAAAAAAAAAAAAAAAAAAAAAAAAAAAAAAAAAAAAAAAAAAAAAAAAAAAAAAAAAAAAAAAAAAAAAAAAAAAAAAAAAAAAAAAAAAAAAAAAAAAAAAAAAAAAAAAAAAAAAAAAAAAAAAAAAAAAAAAAAAAAAAAAAAAAAAAAAAAAAAAAAAAAAAAAAAAAAAAAAAAAAAAAAAAAAAAAAAAAAAAAAAAAAAAAAAAAAAAAAAAAAAAAAAAAAAAAAAAAAAAAAAAAAAAAAAAAAAAAAAAAAAAAAAAAAAAAAAAAAAAAAAAAAAAAAAAAAAAAAAAAAAAAAAAAAAAAAAAAAAAAAAAAAAAAAAAAAAAAAAAAAAAAAAAAAAAAAAAAAAAAAAAAAAAAAAAAAAAAAAAAAAAAAAAAAAAAAAAAAAAAAAAAAAAAAAAAAAAAAAAAAAAAAAAAAAAAAAAAAAAAAAAAAAAAAAAAAAAAAAAAAAAAAAAAAAAAAAAAAAAAAAAAAAAAAAAAAAAAAAAAAAAAAAAAAAAAAAAAAAAAAAAAAAAAAAAAAAAAAAAAAAAAAAAAAAAAAAAAAAAAAAAAAAAAAAAAAAAAAAAAAAAAAAAAAAAAAAAAAAAAAAAAAAAAAAAAAAAAAAAAAAAAAAAAAAAAAAAAAAAAAAAAAAAAAAAAAAAAAAAAAAAAAAAAAAAAAAAAAAAAAAAAAAAAAAAAAAAAAAAAAAAAAAAAAAAAAAAAAAAAAAAAAAAAAAAAAAAAAAAAAAAAAAAAAAAAAAAAAAAAAAAAAAAAAAAAAAAAAAAAAAAAAAAAAAAAAAAAAAAAAAAAAAAAAAAAAAAAAAAAAAAAAAAAAAAAAAAAAAAAAAAAAAAAAAAAAAAAAAAAAAAAAAAAAAAAAAAAAAAAAAAAAAAAAAAAAAAAAAAAAAAAAAAAAAAAAAAAAAAAAAAAAAAAAAAAAAAAAAAAAAAAAAAAAAAAAAAAAAAAAAAAAAAAAAAAAAAAAAAAAAAAAAAAAAAAAAAAAAAAAAAAAAAAAAAAAAAAAAAAAAAAAAAAAAAAAAAAAAAAAAAAAAAAAAAAAAAAAAAAAAAAAAAAAAAAAAAAAAAAAAAAAAAAAAAAAAAAAAAAAAAAAAAAAAAAAAAAAAAAAAAAAAAAAAAAAAAAAAAAAAAAAAAAAAAAAAAAAAAAAAAAAAAAAAAAAAAAAAAAAAAAAAAAAAAAAAAAAAAAAAAAAAAAAAAAAAAAAAAAAAAAAAAAAAAAAAAAAAAAAAAAAAAAAAAAAAAAAAAAAAAAAAAAAAAAAAAAAAAAAAAAAAAAAAAAAAAAAAAAyMDIwOjA3OjA2IDEzOjQwOjI1ADIwMjA6MDc6MDYgMTM6NDA6MjUAAABHAGEAdQB0AGgAYQBtACAAVgBlAGwAYQB5AHUAdABoAGEAbQAAAP/hCyVodHRwOi8vbnMuYWRvYmUuY29tL3hhcC8xLjAvADw/eHBhY2tldCBiZWdpbj0n77u/JyBpZD0nVzVNME1wQ2VoaUh6cmVTek5UY3prYzlkJz8+DQo8eDp4bXBtZXRhIHhtbG5zOng9ImFkb2JlOm5zOm1ldGEvIj48cmRmOlJERiB4bWxuczpyZGY9Imh0dHA6Ly93d3cudzMub3JnLzE5OTkvMDIvMjItcmRmLXN5bnRheC1ucyMiPjxyZGY6RGVzY3JpcHRpb24gcmRmOmFib3V0PSJ1dWlkOmZhZjViZGQ1LWJhM2QtMTFkYS1hZDMxLWQzM2Q3NTE4MmYxYiIgeG1sbnM6ZGM9Imh0dHA6Ly9wdXJsLm9yZy9kYy9lbGVtZW50cy8xLjEvIi8+PHJkZjpEZXNjcmlwdGlvbiByZGY6YWJvdXQ9InV1aWQ6ZmFmNWJkZDUtYmEzZC0xMWRhLWFkMzEtZDMzZDc1MTgyZjFiIiB4bWxuczp4bXA9Imh0dHA6Ly9ucy5hZG9iZS5jb20veGFwLzEuMC8iPjx4bXA6Q3JlYXRlRGF0ZT4yMDIwLTA3LTA2VDEzOjQwOjI1LjU1NTwveG1wOkNyZWF0ZURhdGU+PC9yZGY6RGVzY3JpcHRpb24+PHJkZjpEZXNjcmlwdGlvbiByZGY6YWJvdXQ9InV1aWQ6ZmFmNWJkZDUtYmEzZC0xMWRhLWFkMzEtZDMzZDc1MTgyZjFiIiB4bWxuczpkYz0iaHR0cDovL3B1cmwub3JnL2RjL2VsZW1lbnRzLzEuMS8iPjxkYzpjcmVhdG9yPjxyZGY6U2VxIHhtbG5zOnJkZj0iaHR0cDovL3d3dy53My5vcmcvMTk5OS8wMi8yMi1yZGYtc3ludGF4LW5zIyI+PHJkZjpsaT5HYXV0aGFtIFZlbGF5dXRoYW08L3JkZjpsaT48L3JkZjpTZXE+DQoJCQk8L2RjOmNyZWF0b3I+PC9yZGY6RGVzY3JpcHRpb24+PC9yZGY6UkRGPjwveDp4bXBtZXRhPg0KICAgICAgICAgICAgICAgICAgICAgICAgICAgICAgICAgICAgICAgICAgICAgICAgICAgICAgICAgICAgICAgICAgICAgICAgICAgICAgICAgICAgICAgICAgICAgICAgICAgIAogICAgICAgICAgICAgICAgICAgICAgICAgICAgICAgICAgICAgICAgICAgICAgICAgICAgICAgICAgICAgICAgICAgICAgICAgICAgICAgICAgICAgICAgICAgICAgICAgICAgCiAgICAgICAgICAgICAgICAgICAgICAgICAgICAgICAgICAgICAgICAgICAgICAgICAgICAgICAgICAgICAgICAgICAgICAgICAgICAgICAgICAgICAgICAgICAgICAgICAgICAKICAgICAgICAgICAgICAgICAgICAgICAgICAgICAgICAgICAgICAgICAgICAgICAgICAgICAgICAgICAgICAgICAgICAgICAgICAgICAgICAgICAgICAgICAgICAgICAgICAgIAogICAgICAgICAgICAgICAgICAgICAgICAgICAgICAgICAgICAgICAgICAgICAgICAgICAgICAgICAgICAgICAgICAgICAgICAgICAgICAgICAgICAgICAgICAgICAgICAgICAgCiAgICAgICAgICAgICAgICAgICAgICAgICAgICAgICAgICAgICAgICAgICAgICAgICAgICAgICAgICAgICAgICAgICAgICAgICAgICAgICAgICAgICAgICAgICAgICAgICAgICAKICAgICAgICAgICAgICAgICAgICAgICAgICAgICAgICAgICAgICAgICAgICAgICAgICAgICAgICAgICAgICAgICAgICAgICAgICAgICAgICAgICAgICAgICAgICAgICAgICAgIAogICAgICAgICAgICAgICAgICAgICAgICAgICAgICAgICAgICAgICAgICAgICAgICAgICAgICAgICAgICAgICAgICAgICAgICAgICAgICAgICAgICAgICAgICAgICAgICAgICAgCiAgICAgICAgICAgICAgICAgICAgICAgICAgICAgICAgICAgICAgICAgICAgICAgICAgICAgICAgICAgICAgICAgICAgICAgICAgICAgICAgICAgICAgICAgICAgICAgICAgICAKICAgICAgICAgICAgICAgICAgICAgICAgICAgICAgICAgICAgICAgICAgICAgICAgICAgICAgICAgICAgICAgICAgICAgICAgICAgICAgICAgICAgICAgICAgICAgICAgICAgIAogICAgICAgICAgICAgICAgICAgICAgICAgICAgICAgICAgICAgICAgICAgICAgICAgICAgICAgICAgICAgICAgICAgICAgICAgICAgICAgICAgICAgICAgICAgICAgICAgICAgCiAgICAgICAgICAgICAgICAgICAgICAgICAgICAgICAgICAgICAgICAgICAgICAgICAgICAgICAgICAgICAgICAgICAgICAgICAgICAgICAgICAgICAgICAgICAgICAgICAgICAKICAgICAgICAgICAgICAgICAgICAgICAgICAgICAgICAgICAgICAgICAgICAgICAgICAgICAgICAgICAgICAgICAgICAgICAgICAgICAgICAgICAgICAgICAgICAgICAgICAgIAogICAgICAgICAgICAgICAgICAgICAgICAgICAgICAgICAgICAgICAgICAgICAgICAgICAgICAgICAgICAgICAgICAgICAgICAgICAgICAgICAgICAgICAgICAgICAgICAgICAgCiAgICAgICAgICAgICAgICAgICAgICAgICAgICAgICAgICAgICAgICAgICAgICAgICAgICAgICAgICAgICAgICAgICAgICAgICAgICAgICAgICAgICAgICAgICAgICAgICAgICAKICAgICAgICAgICAgICAgICAgICAgICAgICAgICAgICAgICAgICAgICAgICAgICAgICAgICAgICAgICAgICAgICAgICAgICAgICAgICAgICAgICAgICAgICAgICAgICAgICAgIAogICAgICAgICAgICAgICAgICAgICAgICAgICAgICAgICAgICAgICAgICAgICAgICAgICAgICAgICAgICAgICAgICAgICAgICAgICAgICAgICAgICAgICAgICAgICAgICAgICAgCiAgICAgICAgICAgICAgICAgICAgICAgICAgICAgICAgICAgICAgICAgICAgICAgICAgICAgICAgICAgICAgICAgICAgICAgICAgICAgICAgICAgICAgICAgICAgICAgICAgICAKICAgICAgICAgICAgICAgICAgICAgICAgICAgICAgICAgICAgICAgICAgICAgICAgICAgICAgICAgICAgICAgICAgICAgICAgICAgICAgICAgICAgICAgICAgICAgICAgICAgIAogICAgICAgICAgICAgICAgICAgICAgICAgICAgICAgICAgICAgICAgICAgICAgICAgICAgICAgICAgICAgICAgICAgICAgICAgICAgICAgICAgICAgICAgICAgICAgICAgICAgCiAgICAgICAgICAgICAgICAgICAgICAgICAgICA8P3hwYWNrZXQgZW5kPSd3Jz8+/9sAQwAHBQUGBQQHBgUGCAcHCAoRCwoJCQoVDxAMERgVGhkYFRgXGx4nIRsdJR0XGCIuIiUoKSssKxogLzMvKjInKisq/9sAQwEHCAgKCQoUCwsUKhwYHCoqKioqKioqKioqKioqKioqKioqKioqKioqKioqKioqKioqKioqKioqKioqKioqKioq/8AAEQgA+gGJAwEiAAIRAQMRAf/EAB8AAAEFAQEBAQEBAAAAAAAAAAABAgMEBQYHCAkKC//EALUQAAIBAwMCBAMFBQQEAAABfQECAwAEEQUSITFBBhNRYQcicRQygZGhCCNCscEVUtHwJDNicoIJChYXGBkaJSYnKCkqNDU2Nzg5OkNERUZHSElKU1RVVldYWVpjZGVmZ2hpanN0dXZ3eHl6g4SFhoeIiYqSk5SVlpeYmZqio6Slpqeoqaqys7S1tre4ubrCw8TFxsfIycrS09TV1tfY2drh4uPk5ebn6Onq8fLz9PX29/j5+v/EAB8BAAMBAQEBAQEBAQEAAAAAAAABAgMEBQYHCAkKC//EALURAAIBAgQEAwQHBQQEAAECdwABAgMRBAUhMQYSQVEHYXETIjKBCBRCkaGxwQkjM1LwFWJy0QoWJDThJfEXGBkaJicoKSo1Njc4OTpDREVGR0hJSlNUVVZXWFlaY2RlZmdoaWpzdHV2d3h5eoKDhIWGh4iJipKTlJWWl5iZmqKjpKWmp6ipqrKztLW2t7i5usLDxMXGx8jJytLT1NXW19jZ2uLj5OXm5+jp6vLz9PX29/j5+v/aAAwDAQACEQMRAD8A+kaKKKACiiigAooooAKKKKACiiigAooooAKKKKACiiigAooooAKKKKACiiigAooooAKKKKACiiigAooooAKKKKACiiigAooooAKKKKACiiigAooooAKKKKACiiigAooooAKKKKACiiigAooooAKKKKACiiigAooooAKKKKACiiigAooooAKKKKACiiigAooooAKKKKACiiigAooooAKKKKACiiigAooooAKKKKACiiigAooooAKKKKACiiigAooooAKKKKACiiigAooooAKKKKACiiigAooooAKKKKACiiigAoopM0ALRUNxd29pEZLqeKBB/FI4Ufma5y++JPg/T2IuPENgSOoimEmP++c0AdTRXAP8bvAMbFW1wkj+7azH/wBloj+NvgKZgqa2Qfe1lH81oA7+iuZsfiJ4S1EgW3iGwDHosk6oT+DYroILmG5iElvMkyHo0bBh+YoAmopAc0tABRRRQAUUUUAFFFITj/69AC0VHLMkEZllkWONeWZ2wB+Nc9ffETwjp7EXHiLT8jqsdwrkfguaAOlorgZvjZ4Chk2NrZJ/2LWZh+YWkT43eAnbA1phnu1pMB+qUAd/RXK2XxL8G6gQLfxFYgn/AJ6zCP8A9CxXSW13b3kQls7iOeI9HiYMp/EUATUU3J7c06gAooooAKKKKACiiigAooooAKKKKACiiigAooooAKKKKACiiigAooooAKKKKACiignAoAKY0gRSWIAHUnoKw/FHjLSfCWnG61WbaW4ihXl5T7CvM7ubxR8Q3D6jPJoWht9yzgOJZl/22pMDr/EHxZ0XSbg2OmrJrGpZwLa0G7B9z0Fc1cap8QvE2Wa5h8PWTcbIRvmx9e1auj6Fpug2og0u0jgX+JgPmf3J6n8a0Pzz9aQHIx/DrTZpvO1m8vdVnxy9xMxDfUdK17TwpoFgoFppNnHjqREOtbG4nrQTux+RPpQBClrbqoVYYkA9FFJJZ28i4eCNlPYqDXl3xI8V+IIfEj2HhS6MX9l2TX12AgYOAw4OR6Z6etekaHqketaDZahCQyXMSyAj3FAFa58JeH7zP2nSLRye/lDNZTfDuztZPO0HUL/SJuv7iZsflXW0Hn/9dAHOW+u/EDw0wDtb+I7NTyMbZgP6muo8N/FPQ9euBZXDPpmo5wbW7GxifY9DUROaytb8N6X4ggMeqWqSt2lxh1+jDmgD08NkAqQQemKdXi9jqvij4duMyy+IPD69Y5Dm4th7H+IV6h4e8UaZ4n0xb7SJ1mjPDLn5kPoR2qgNims23JJ4rM17xJpnhrTXvtYuVghUZHdm9gO5rz4v4s+JrEo8vhzw43AKjFxcr65/hBoA6XxD8S9E0G4+xQyPqWonhbOzG98++OlY3mfEjxWA0Yt/C9m394b5yP6Gus8M+DNE8J2gh0iyRH/jncbpZD6s55NbmwZ6mgDz6H4Q6XdyCbxNqWo61P1zcXDBc/QGuhsPAXhXTgPsmg2KED73kgn866LFFAFaLTrOBAkNrCijsqAU57G1lXbJbRMPQoKj1W7aw0a9vI1DvbwPKqnoSqk4/SvD7b48+KbfRLbxFq/hmybQprk25e2lYS7s9gSaAPXr7wT4a1EH7bodjMT3aFc1zN18HNAWY3GiTXujXPaS0nYAfh0rv0k8yFHUffAOPapMcYoA80Nh8SfCpL2V/B4ksl/5Y3A2zAezdzWhonxU0y9vhpuuQTaHqXTyLwbQx9m6V3eKydd8MaN4lsWtNbsIbuI/315H0I5FAGmkgdQylSD0IOc04dOa8rk0LxV8N5TceGbiXXNCU5k025bdNEvfY3f6V2vhbxnpXiyxM2nS7Zk4mtpeJIj6MKAOgopFbOaWgAooooAKKKKACiiigAooooAKKKKACiiigAooooAKKKKACiignAyaAAnArj/HXj2DwpapbW0P23V7r5LWzQ8knu3oKueOPF9r4P0B7uUeZcyHy7WAdZZD0Arz/wAM6DdG7l8QeImM+rXg3Hd0gU/wCkwG6N4WubrUf7f8XTC91WT5lQ8xW6+ij1rqjyPQ4xkUHBx2/pRSASloooAKQnahb0GcevsKWgHB5oA8e0jwBr3iXVte1jUNUutFa/la38kRKxli9Dk8DpXUfCuz1TSPDc2j6vbyRmynZIJG6SR9iK7okHt2pCc/0HpQAUUUUAFFFFACHDqVPIBwSRXA+Kox4K1SHX/C9z9k1K4lEZ09VLJen02jpj1rr9d1q10DSZL67f5FGEXu79lA9ab4A8IXF3enxf4qUtqFwp+x2zjK20Zxggf3qLgZfw/0+Lx9qU/iDxdci41K0kKppLIVS0x0JQ9TXsCqAoC8AdBjpXnvjnwte2V8PF/hEFNVtRuuLdeFu4x1Uj1xXT+EvFdj4u0GLUrE7d3yyxN96Jx1U+9UBu0UA56UUAFFFFAGZ4lGfCmrAf8APlN/6Aa+OrA6Mvg2xfR9Rv7vxZHqIaPSTukt8Bxzs24H519rsodCrAEMMEHvVWPSrGKUSRWdujDoViUEfpQA6xeR7C3adAkrRqXUcbTjpVmkC4/OloAKTHNLRQAhUE571wXjH4fNcXn/AAkPhGb+zdeh+bKDCXX+y4/rXfUhGfpQBx3gfxyniJZtO1S3On65Z/LcWcnBP+0vqK7FW3diPrXD+PPBU2qeVrvh2T7L4g0/54JF488DrG3qDWh4F8YQ+LNHMrL5F/bny7y1b70Ug68elAHU0UgOaWgAooooAKKKKACiiigAooooAKKKKACiiigAooooACcVBe3cVlZy3Fw4SKJC7segAqc15j8WtWnu2sfCOmybZtSbfdMp5WAHn86QHPacZfHni6bxVqIP9n2pMOmQN90AdZMeprszycnk9qhsrKHTtPgs7ZNkVugRAOnSpqQBRRRQAUUUUAFFFFABRRRQAUUUUAFISFXLHAAJJ9KUda5fxxqFz9httG0kkahq0gt4ivVQepoAb4b04/EPxs2p3KFtB0aTZbKelxMOre4FeyBeOBjjArK8NaBbeGfDtnpNmgEdtEFJHV2/iY/U81r07ANK5ry3Wrd/hv46TXrJSuh6tIEv4V+7FIekmO2a9UrM8QaNb+INFutMvE3xXEZQ+3uPcUwNCKVJY1kjO5GG4MOhHY0/Nee/CrWLn+z73wvrDs2paDL5BZuskR5jb8uPwr0EEHpQAtFFFABRRRQAUUUUAFFFFABRRRQAjDPbNeXeONPuPBPiaLxzoyEwOwj1S3To6n+PHtXqVV7+zh1CwmtLqMSwTIUkQ9GB4oASxvIL+ziubORZLeVA8bqeCCMirNeafDS5n8Oa1qfgXUZC/wDZ7ebp8jf8tIG5A+or0sHPSgAooooAKKKKACiiigAooooAKKKKACiiigAooooAa7bVJPQDJrxfw3L/AMJJ4x1vxTI2+J5mtbEnoIk4yPrj869D+IusNoXgDVb2JtswgKRH/bbgfqa4/wAH6X/Y/hHTrTHzLArSH/bIy36k1LA2ySWP05NFFFABRRRQAUUUUAFFFFABRRRQAUlLR+GaAAdR2rA8EWv/AAkvxQ1LWpMNa6Ov2S37gyH7zVp6zqC6Xo13fv8A8sIHkA+gJq98IdLOm/DyyllXM99m6lfu285H6GgDuqKKKoApD1paKAPM/Fqf8Ir8UND8TR/u7XUgdOvew3dUb6k8fhXpUYwK5L4oaSdW8AX4iGbi1C3UB/uuhzn8s1reEdUGteENM1FTnz7dWJ9xwf1FAGzRRRQAUUUUAFFFFABRRRQAUUUUAFI1LRQB5p8TYJNB1nQ/GNqp3Wc4tror/FE54z9K9HglWeFJYiCjqGUjvkZrI8ZaSmueDtT09xnzYG2+xAyKzfhjqr6t8PdNlmOZoUNvKPRkJX+QFAHW0UUUAFFFFABRRRQAUUUUAFFFFABRRRQAUhpaDQB5p8aZfO0bR9IBP/Ex1KONgPY7v6VfIKnbgDHpWZ8T/wB54z8JQt90XLSfiBWo3XI71LASiiigAooooAKKKKACiiigAooooAKB780Ud6AOT+Jkjr4IuLaD/WXUkUCj13OBXrum2sdjpdtawcJFEqj8BXkPjn97e+GbY/duNbt4z/31XsyptUD0xQtQH0UUVQBRRRQBXvrZbyxntn+7NE0ZHsRiuJ+DczHwRLZPwbC+mtwPRQeP5131ee/C8eRqniyzHSHUt3/fQJ/pQB6FRRRQAUUUUAFFFFABRRRQAUUUUAFFFFACOAylT0PBrzv4UE2Vx4o0Vutnqryj/dkGR/KvRa868HfuPjF44iX7sotZPodjCgD0WiiigAooooAKKKKACiiigAooooAKKKKACg0UhoA8w+JgA8deEz0/euP0rVIwAPSsv4uqba/8LagPuRakquT2UitQ8kkHv3qWAlFFFABRRRQAUUUUAFFFFABRRRQAUUUdetIDk/GrbdY8Iufux6/bEn23V7PnNeKfEkm20G01DH/HjfwTE/RxXs8BDQIeo2gg/hTWgEtFFFUAUUUUABrz34afP4k8ZSjlX1FAD9FNegSMEQsxwAMmvP8A4PqZtG1m/Ix9q1WbHuFOB/OgD0KiiigAooooAKKKKACiiigAooooAKKKKACvO/CZz8aPGeOQsdqCfQ7TXobdOK86+HH+meOPHGqqdyz30UAPvGhBH60AejUUUUAFFFFABRRRQAUUUUAFFFFABRRRQAUUUUAcJ8Y9Oa9+G97LEuZbNkuVI6gIwJ/QVU0y/XU9JtbyM5WeJZAR7jNd7qVnHqOm3FncKGinjaNge4IxXjvw8nktdKu9AvOLnRrqS2IPdQ3B+mKlgdfRR+fTrRQAUUUUAFFFFABRRRQAUUUUAFH1oooAw/GenNqng3U7VQXcwM6r6soyP1Ars/AGrjW/Amk327LtAqyf7w4P61kEB+GGc8H3rK+EV3/Zt5rXhWViPsVwZ7cN/wA8XOR/OgD1GiiiqAKKKM0AYnjLU00fwdql7IdojtnwfQkYH6ms/wCGWmvpfw80uKYYmkj86T3Zjn+WKxPivcPqR0PwraHM2rXgaUDtDHy2fY/0r0G2hS3t44YwAsaBAB2AGKAJaKKKACiiigAooooAKKKKACiiigAoopGOBmgCtql2lhpN1dyNtWGJnJPsK4z4O2pTwJ9vkGJNUvJrxs9fmbA/lSfF3U5IPCKaRa83eszraxqp5wT8x/Kuv0XTk0jRbLT4RhbWFYxx6Dk/nQBfooooAKKKKACiiigAooooAKKKKACiiigAooooARuleReNrY+E/iZaa7GMWOsIILs/wrKOFY/UV66enFYXjLw1B4r8L3el3A5kXdE/dHHQj8aTAwSeMg8N0FFcx4L1me6sp9J1b93q2lv5E6N1dR91x68V0/Yn0pAFFFFABRRRQAUUUUAFFFFABRRRQAhOBXJ6/ct4W8Z6X4siBEAItr4DoYz/ABH6V1lVdU06DVtMuLG6UPDOhVgf50AehwzxzwpLCwdHUMrDoQehqSvMvhX4hmhjn8Ha5J/xMdLO2Bjx50H8LD1wOK9MJx/hVALUcsiQqXc7VAyTT815/wDEzXbl0tvCmhuTqmrHy2K9YYv4mPpQBS8El/F/xA1jxfKpaytv+Jfp5PQqpy7D8TXpqjGfrWX4d0K28O+HrPSrFR5VrGEB/vHux9ycmtUCgAooooAKKKKACiiigAooooAKKKKACkbpz0oZgvWuK+JXiuTQ9DWw0rL6xqR8i1jT7wJ6t7YoAxrB/wDhOPjFcXyHzNL8Op5ELfwvcH7xH06V6cBjFc94G8Lw+EPC9vpifPOB5lzL3llblmP410VABRRRQAUUUUAFFFFABRRRQAUUUUAFFFFABRRRQAUjZI460tFAHmHxL8KXlteReMvDUZ+32YC3kCj/AI+Ye/4in6NrFrrumRX1i4KSD5kJ5Q9wfQ16W43KQeh65FeQ+K/C1/4J1afxL4Xt3n0yU79Q0+NSSg7yKB6daTA6PHX2oqjoutWOu6ZFeadMJYm4ODko3oau5x1pALRRRQAUUUUAFFFFABRRRQAUUUUAcz4t0e5aa313Qfk1bTfnTH/LVO6Gu/8ABvi+08XaGl7BiOdPkuYD96KQdQfasUnpzjjPTBNcN4lkbwFrCeK9DmjiaVvKvLF2wLtSR90f3hQB6t4s8U2PhPQpdQvW3P8AdghX70r9lA+tYHw+8MX4muPFXicZ1rUuQjD/AI9ov4UHvjrWF4EhT4i6yfF2vTxyG0fFnpYbcLYjozD1r1pOFweveqAUdKWiigAooooAKKKKACiiigAooooAKMgdaKzdf13T/DukTajq1wkFvEOSx6n0HqaAG+Ide0/w3os+p6pKI4IVz15c9lA7k1xPgTRL/wAQa5L438TReXNMNun2jD/j3i7E++KqaRpOpfEzXINf8R28lpoNo++wsJQQZj/z0YenpXqaIEUKowo4AHagBQMev1paKKACiiigAooooAKKKKACiiigAooooAKKKKACiiigAooooADTSMqQRkelOooA8u8S/Dq+0zUZdd8CMILhzuubA/6u4+g7GqWheMLXVpTY3ivp+qR/JNaXA2kEelevVy/irwFoni+Af2lb7LlP9VdwHZLHjp83f8aTAy/pRXLT6P458F5REHibSlOQ+dtzGPc9D+tSad480W/lME8smn3YHzQXalMfnSA6WimpLFPGrQOHUjhlbcD+NLyOtAC0UUUAFFKpI6YH1FMluI7ePfPJHGnq7YoAdSdK5m/8e6RbTfZ7HztUvGOFgswX/MjpSW/hnxt40OdSkHhrS26xxHdcSD3PRfwoAfrHi+K0uhpmjxHUtWl4W2h5A92Patbwr8N531FPEPjSX7bqY+aC26xWw9AO5rqfDHgrRfCNr5Wj2oWRv9bcP80sh92NdEKoDz7xJ4AuotVPiLwNcLp2sKP3kXSG6How6VN4Y+JNtqV9/ZHiK3bR9ajO1reY4WQ+qE9Qa7usHxP4Q0fxZaeRrFqshH+rmX5ZIz6qw5FAG6pBGR0NLXmEem+OvAY26VOPFGkp0t7k7biJfRW/i/GtXR/ir4fvZxbam0+j3vQ298hTn2boRQB3VFQ213BeRiS1mjmQj70bhh+YqagAooooAKKKhlmit4zJNKsajqzkAfnQBNRXGaz8UfDOjyGBLxtQu+i21knmuT/KsF7nx947Ux2iDwnpTdZmG+5dfbPA/LNAHQ+LfiFpvhqZbSLdf6nJxFZW/wAzse2fQVh6T4J1XxVq0Ov/ABCYP5bb7PSVP7u392Hc10XhTwDovhNTLZwvc30nMl9cNvlc/U9PwrqVGBQA2JBGm1QFA4AAxgU+iigAooooAKKKKACiiigAooooAKKKKACiiigAooooAKKKKACiiigAooooAKKKKACsXWvCmh+IIyur6VbXPq7Lhv8Avoc1tUYoA80n+DWnxSF/D+t6npTZyqrJ5ka/RT/jVWTwH49tCRp/imxuwOhvrdlyP+A5r1WkwKAPJh4f+J6cFvD0v+0rSAH9KUeHvifJ8obw9EO7M8h/ktes0cGlYDyuP4f+OL3jUfFdnaKeosbYt/6Firlr8GtJaXztd1TUtWfoVlk2If8AgIr0jFGKYGVo/hvR9ChVNJ0+3tlHGUQbvz61q0UUAFFFFABRRRQAVm6t4e0jXYTFq2nwXSkY/eIM/n1rSooA89uPhDpcMhl8PapqWiyfwrBMWjH/AAE/40weF/iPp5xp3jCzvlHT7fbFf/Qc16LRjNAHnYHxahysh8NXHoyGVf0IoLfFmT5UHhyFv77NIR+QFeiYoxQB5y3h74m3/wDx/eKtMsAepsbdm/8AQsUqfCSC9kWbxL4i1XV37qZPKjb/AICK9FxRgDpQBh6N4R0Dw+gXSdLt7Yj+PZlv++jW4OlFFABiiiigAooooAKKKKACiiigAooooAKKKKACiiigAooooAKKKKACiiigAooooAKKKKACiiigAooooAKKKKADFFFFABRRRQAUUUUAFFFFABRRRQAUUUUAFFFFABRRRQAUUUUAFFFFABRRRQAUUUUAFFFFABRRRQAUUUUAFFFFABRRRQAUUUUAFFFFABRRRQAUUUUAFFFFABRRRQAUUUUAFFFFABRRRQAUUUUAFFFFABRRRQAUUUUAFFFFABRRRQAUUUUAFFFFABRRRQAUUUUAFFFFABRRRQAUUUUAFFFFABRRRQAUUUUAf//Z)\n",
    "\n",
    "SET DIFFERENCE"
   ]
  },
  {
   "cell_type": "code",
   "execution_count": null,
   "metadata": {
    "colab": {
     "base_uri": "https://localhost:8080/",
     "height": 51
    },
    "executionInfo": {
     "elapsed": 996,
     "status": "ok",
     "timestamp": 1598954481930,
     "user": {
      "displayName": "Gautham Velayutham",
      "photoUrl": "",
      "userId": "05764642726617643049"
     },
     "user_tz": -330
    },
    "id": "-C8XaWAUFX-5",
    "outputId": "eaa158e8-692e-4a27-dfee-b4ec6a6bd080"
   },
   "outputs": [
    {
     "name": "stdout",
     "output_type": "stream",
     "text": [
      "{1, 2, 3}\n",
      "{8, 6, 7}\n"
     ]
    }
   ],
   "source": [
    "\n",
    "# initialize A and B\n",
    "A = {1, 2, 3, 4, 5}\n",
    "B = {4, 5, 6, 7, 8}\n",
    "\n",
    "# use - operator on A\n",
    "\n",
    "print(A - B)\n",
    "print(B - A)"
   ]
  },
  {
   "cell_type": "code",
   "execution_count": null,
   "metadata": {
    "colab": {
     "base_uri": "https://localhost:8080/",
     "height": 34
    },
    "executionInfo": {
     "elapsed": 994,
     "status": "ok",
     "timestamp": 1598954524060,
     "user": {
      "displayName": "Gautham Velayutham",
      "photoUrl": "",
      "userId": "05764642726617643049"
     },
     "user_tz": -330
    },
    "id": "DfLQrrWCFb4Y",
    "outputId": "3a0594e5-ad29-49fc-be1c-75ab1027da80"
   },
   "outputs": [
    {
     "data": {
      "text/plain": [
       "{1, 2, 3}"
      ]
     },
     "execution_count": 10,
     "metadata": {
      "tags": []
     },
     "output_type": "execute_result"
    }
   ],
   "source": [
    "# use difference function on A\n",
    "A.difference(B)\n",
    "\n"
   ]
  },
  {
   "cell_type": "code",
   "execution_count": null,
   "metadata": {
    "colab": {
     "base_uri": "https://localhost:8080/",
     "height": 34
    },
    "executionInfo": {
     "elapsed": 1301,
     "status": "ok",
     "timestamp": 1598954530527,
     "user": {
      "displayName": "Gautham Velayutham",
      "photoUrl": "",
      "userId": "05764642726617643049"
     },
     "user_tz": -330
    },
    "id": "Ac4XFr_4Fh_H",
    "outputId": "869cecdb-4b2d-42fa-9d19-2e5bf912351b"
   },
   "outputs": [
    {
     "data": {
      "text/plain": [
       "{6, 7, 8}"
      ]
     },
     "execution_count": 11,
     "metadata": {
      "tags": []
     },
     "output_type": "execute_result"
    }
   ],
   "source": [
    "# use difference function on B\n",
    "B.difference(A)\n"
   ]
  },
  {
   "cell_type": "markdown",
   "metadata": {
    "id": "Oni5gpGZFmi_"
   },
   "source": [
    "![symmetric.JPG](data:image/jpeg;base64,/9j/4AAQSkZJRgABAQEAYABgAAD/4REERXhpZgAATU0AKgAAAAgABAE7AAIAAAATAAAISodpAAQAAAABAAAIXpydAAEAAAAmAAAQ1uocAAcAAAgMAAAAPgAAAAAc6gAAAAgAAAAAAAAAAAAAAAAAAAAAAAAAAAAAAAAAAAAAAAAAAAAAAAAAAAAAAAAAAAAAAAAAAAAAAAAAAAAAAAAAAAAAAAAAAAAAAAAAAAAAAAAAAAAAAAAAAAAAAAAAAAAAAAAAAAAAAAAAAAAAAAAAAAAAAAAAAAAAAAAAAAAAAAAAAAAAAAAAAAAAAAAAAAAAAAAAAAAAAAAAAAAAAAAAAAAAAAAAAAAAAAAAAAAAAAAAAAAAAAAAAAAAAAAAAAAAAAAAAAAAAAAAAAAAAAAAAAAAAAAAAAAAAAAAAAAAAAAAAAAAAAAAAAAAAAAAAAAAAAAAAAAAAAAAAAAAAAAAAAAAAAAAAAAAAAAAAAAAAAAAAAAAAAAAAAAAAAAAAAAAAAAAAAAAAAAAAAAAAAAAAAAAAAAAAAAAAAAAAAAAAAAAAAAAAAAAAAAAAAAAAAAAAAAAAAAAAAAAAAAAAAAAAAAAAAAAAAAAAAAAAAAAAAAAAAAAAAAAAAAAAAAAAAAAAAAAAAAAAAAAAAAAAAAAAAAAAAAAAAAAAAAAAAAAAAAAAAAAAAAAAAAAAAAAAAAAAAAAAAAAAAAAAAAAAAAAAAAAAAAAAAAAAAAAAAAAAAAAAAAAAAAAAAAAAAAAAAAAAAAAAAAAAAAAAAAAAAAAAAAAAAAAAAAAAAAAAAAAAAAAAAAAAAAAAAAAAAAAAAAAAAAAAAAAAAAAAAAAAAAAAAAAAAAAAAAAAAAAAAAAAAAAAAAAAAAAAAAAAAAAAAAAAAAAAAAAAAAAAAAAAAAAAAAAAAAAAAAAAAAAAAAAAAAAAAAAAAAAAAAAAAAAAAAAAAAAAAAAAAAAAAAAAAAAAAAAAAAAAAAAAAAAAAAAAAAAAAAAAAAAAAAAAAAAAAAAAAAAAAAAAAAAAAAAAAAAAAAAAAAAAAAAAAAAAAAAAAAAAAAAAAAAAAAAAAAAAAAAAAAAAAAAAAAAAAAAAAAAAAAAAAAAAAAAAAAAAAAAAAAAAAAAAAAAAAAAAAAAAAAAAAAAAAAAAAAAAAAAAAAAAAAAAAAAAAAAAAAAAAAAAAAAAAAAAAAAAAAAAAAAAAAAAAAAAAAAAAAAAAAAAAAAAAAAAAAAAAAAAAAAAAAAAAAAAAAAAAAAAAAAAAAAAAAAAAAAAAAAAAAAAAAAAAAAAAAAAAAAAAAAAAAAAAAAAAAAAAAAAAAAAAAAAAAAAAAAAAAAAAAAAAAAAAAAAAAAAAAAAAAAAAAAAAAAAAAAAAAAAAAAAAAAAAAAAAAAAAAAAAAAAAAAAAAAAAAAAAAAAAAAAAAAAAAAAAAAAAAAAAAAAAAAAAAAAAAAAAAAAAAAAAAAAAAAAAAAAAAAAAAAAAAAAAAAAAAAAAAAAAAAAAAAAAAAAAAAAAAAAAAAAAAAAAAAAAAAAAAAAAAAAAAAAAAAAAAAAAAAAAAAAAAAAAAAAAAAAAAAAAAAAAAAAAAAAAAAAAAAAAAAAAAAAAAAAAAAAAAAAAAAAAAAAAAAAAAAAAAAAAAAAAAAAAAAAAAAAAAAAAAAAAAAAAAAAAAAAAAAAAAAAAAAAAAAAAAAAAAAAAAAAAAAAAAAAAAAAAAAAAAAAAAAAAAAAAAAAAAAAAAAAAAAAAAAAAAAAAAAAAAAAAAAAAAAAAAAAAAAAAAAAAAAAAAAAAAAAAAAAAAAAAAAAAAAAAAAAAAAAAAAAAAAAAAAAAAAAAAAAAAAAAAAAAAAAAAAAAAAAAAAAAAAAAAAAAAAAAAAAAAAAAAAAAAAAAAAAAAAAAAAAAAAAAAAAAAAAAAAAAAAAAAAAAAAAAAAAAAAAAAAAAAAAAAAAAAAAAAAAAAAAAAAAAAAAAAAAAAAAAAAAAAAAAAAAAAAAAAAAAAAAAAAAAAAAAAAAAAAAAAAAAAAAAAAAAAAAAAAAAAAAAAAAAAAAAAAAAAAAAAAAAAAAAAAAAAAAAAAAAAAAAAAAAAAAAAAAAAAAAAAAAAAAAAAAAAAAAAAAAAAAAAAAAAAAAAAAAAAAAAAAAAAAAAAAAAAAAAAAAAAAAAAAAAAAAAAAAAAAAAAAAAAAAAAAAAAAAAAAAAAAAAAAAAAAAAAAAAAAAAAAAAAAAAAAAAAAAAAAAAAAAAAAAAAAAAAAAAAAAAAAAAAAAAAAAAAAAAAAAAAAAAAAAAAAAAAAAAAAAAAAAAAAAAAAAAAAAAAAAAAAAAAAAAAAAAAAAAAAAAAAAAAAAAAAAAAAAAAAAAAAAAAAAAAAAAAAAAAAAAAAAAAAAAAAAAAAAAAAAAAAAAAAAAAAAAAAAAAAAAAAAAAAAAAAAAAAAAAAAAAAAAAAAAAAAAAAAAAAAAAAAAAAAAAAAAAAAAAAAAAAAAAAAAAAAAAAAAAAAAAAAAAAAAAAAAAAAAAAAAAAAAAAAAAAAAAAAAAAAAAAAAAAAAAAAAAAAAAAAAAAAAAAAAAAAAAAAAAAAAAAAAAAAAAAAAAAAAAAAAAAAAAAAAAAAAAAAAAAAAAAAAAAAAAAAAAAAAAAAAAAAAAAAAAAAAAAAAAAAAAAAAAAAAAAAAAAAAAAAAAAAAAAAAAAAAAAAAAAAAAAAAAAAAAAAAAAAAAAAAAAAAAAAAAAAAAAAAAAAAAAAAAAAAAAAAAAAAAAAAAAAAAAAAAAAAAAAAAAAAAAAAAAAAAAAAAAAAAAAAAAAAAAAAAAAAAAAAAAAAAAAAAAAAAAAAAAAAAAAAAAAAAAAAAAAAAAAAAAEdhdXRoYW0gVmVsYXl1dGhhbQAAAAWQAwACAAAAFAAAEKyQBAACAAAAFAAAEMCSkQACAAAAAzI3AACSkgACAAAAAzI3AADqHAAHAAAIDAAACKAAAAAAHOoAAAAIAAAAAAAAAAAAAAAAAAAAAAAAAAAAAAAAAAAAAAAAAAAAAAAAAAAAAAAAAAAAAAAAAAAAAAAAAAAAAAAAAAAAAAAAAAAAAAAAAAAAAAAAAAAAAAAAAAAAAAAAAAAAAAAAAAAAAAAAAAAAAAAAAAAAAAAAAAAAAAAAAAAAAAAAAAAAAAAAAAAAAAAAAAAAAAAAAAAAAAAAAAAAAAAAAAAAAAAAAAAAAAAAAAAAAAAAAAAAAAAAAAAAAAAAAAAAAAAAAAAAAAAAAAAAAAAAAAAAAAAAAAAAAAAAAAAAAAAAAAAAAAAAAAAAAAAAAAAAAAAAAAAAAAAAAAAAAAAAAAAAAAAAAAAAAAAAAAAAAAAAAAAAAAAAAAAAAAAAAAAAAAAAAAAAAAAAAAAAAAAAAAAAAAAAAAAAAAAAAAAAAAAAAAAAAAAAAAAAAAAAAAAAAAAAAAAAAAAAAAAAAAAAAAAAAAAAAAAAAAAAAAAAAAAAAAAAAAAAAAAAAAAAAAAAAAAAAAAAAAAAAAAAAAAAAAAAAAAAAAAAAAAAAAAAAAAAAAAAAAAAAAAAAAAAAAAAAAAAAAAAAAAAAAAAAAAAAAAAAAAAAAAAAAAAAAAAAAAAAAAAAAAAAAAAAAAAAAAAAAAAAAAAAAAAAAAAAAAAAAAAAAAAAAAAAAAAAAAAAAAAAAAAAAAAAAAAAAAAAAAAAAAAAAAAAAAAAAAAAAAAAAAAAAAAAAAAAAAAAAAAAAAAAAAAAAAAAAAAAAAAAAAAAAAAAAAAAAAAAAAAAAAAAAAAAAAAAAAAAAAAAAAAAAAAAAAAAAAAAAAAAAAAAAAAAAAAAAAAAAAAAAAAAAAAAAAAAAAAAAAAAAAAAAAAAAAAAAAAAAAAAAAAAAAAAAAAAAAAAAAAAAAAAAAAAAAAAAAAAAAAAAAAAAAAAAAAAAAAAAAAAAAAAAAAAAAAAAAAAAAAAAAAAAAAAAAAAAAAAAAAAAAAAAAAAAAAAAAAAAAAAAAAAAAAAAAAAAAAAAAAAAAAAAAAAAAAAAAAAAAAAAAAAAAAAAAAAAAAAAAAAAAAAAAAAAAAAAAAAAAAAAAAAAAAAAAAAAAAAAAAAAAAAAAAAAAAAAAAAAAAAAAAAAAAAAAAAAAAAAAAAAAAAAAAAAAAAAAAAAAAAAAAAAAAAAAAAAAAAAAAAAAAAAAAAAAAAAAAAAAAAAAAAAAAAAAAAAAAAAAAAAAAAAAAAAAAAAAAAAAAAAAAAAAAAAAAAAAAAAAAAAAAAAAAAAAAAAAAAAAAAAAAAAAAAAAAAAAAAAAAAAAAAAAAAAAAAAAAAAAAAAAAAAAAAAAAAAAAAAAAAAAAAAAAAAAAAAAAAAAAAAAAAAAAAAAAAAAAAAAAAAAAAAAAAAAAAAAAAAAAAAAAAAAAAAAAAAAAAAAAAAAAAAAAAAAAAAAAAAAAAAAAAAAAAAAAAAAAAAAAAAAAAAAAAAAAAAAAAAAAAAAAAAAAAAAAAAAAAAAAAAAAAAAAAAAAAAAAAAAAAAAAAAAAAAAAAAAAAAAAAAAAAAAAAAAAAAAAAAAAAAAAAAAAAAAAAAAAAAAAAAAAAAAAAAAAAAAAAAAAAAAAAAAAAAAAAAAAAAAAAAAAAAAAAAAAAAAAAAAAAAAAAAAAAAAAAAAAAAAAAAAAAAAAAAAAAAAAAAAAAAAAAAAAAAAAAAAAAAAAAAAAAAAAAAAAAAAAAAAAAAAAAAAAAAAAAAAAAAAAAAAAAAAAAAAAAAAAAAAAAAAAAAAAAAAAAAAAAAAAAAAAAAAAAAAAAAAAAAAAAAAAAAAAAAAAAAAAAAAAAAAAAAAAAAAAAAAAAAAAAAAAAAAAAAAAAAAAAAAAAAAAAAAAAAAAAAAAAAAAAAAAAAAAAAAAAAAAAAAAAAAAAAAAAAAAAAAAAAAAAAAAAAAAAAAAAAAAAAAAAAAAAAAAAAAAAAAAAAAAAAAAAAAAAAAAAAAAAAAAAAAAAAAAAAAAAAAAAAAAAAAAAAAAAAAAAAAAAAAAAAAAAAAAAAAAAAAAAAAAAAAAAAAAAAAAAAAAAAAAAAAAAAAAAAAAAAAAAAAAAAAAAAAAAAAAAAAAAAAAAAAAAAAAAAAAAAAAAAAAAAAAAAAAAAAAAAAAAAAAAAAAAAAAAAAAAAAAAAAAAAAAAAAAAAAAAAAAAAAAAAAAAAAAAAAAAAAAAAAAAAAAAAAAAAAAAAAAAAAAAAAAAAAAAAAAAAAAAAAAAAAAAAAAAAAAAAAAAAAAAAAAAAAAAAAAAAAAAAAAAAAAAAAAAAAAAAAAAAAAAAAAAAAAAAAAAAAAAAAAAAAAAAAAAAAAAAAAAAAAAAAAAAAAAAAAAAAAAAAAAAAAAAAAAAAAAAAAAAAAAAAAAAAAAAAAAAAAAAAAAAAAAAAAAAAAAAAAAAAAAAAAAAAAAAAAAAAAAAAAAAAAAAAAAAAAAAAAAAAAAAAAAAAAAAAAAAAAAAAAAAAAAAAAAAAAAAAAAAAAAAAAAAAAAAAAAAAAAAAAAAAAAAAAAAAAAAAAAAAAAAAAAAAAAAAAAAAAAAAAAAAAAAAAAAAAAAAAAAAAAAAAAAAAAAAAAAAAAAAAAAAAAAAAAAAAAAAAAAAAAAAAAAAAAAAAAAAAAAAAAAAAAAAAAAAAAAAAAAAAAAAAAAAAAAAAAAAAAAAAAAAAAAAAAAAAAAAAAAAAAAAAAAAAAAAAAAAAAAAAAAAAAAAAAAAAAAAAAAAyMDIwOjA3OjA2IDEzOjQxOjE4ADIwMjA6MDc6MDYgMTM6NDE6MTgAAABHAGEAdQB0AGgAYQBtACAAVgBlAGwAYQB5AHUAdABoAGEAbQAAAP/hCyVodHRwOi8vbnMuYWRvYmUuY29tL3hhcC8xLjAvADw/eHBhY2tldCBiZWdpbj0n77u/JyBpZD0nVzVNME1wQ2VoaUh6cmVTek5UY3prYzlkJz8+DQo8eDp4bXBtZXRhIHhtbG5zOng9ImFkb2JlOm5zOm1ldGEvIj48cmRmOlJERiB4bWxuczpyZGY9Imh0dHA6Ly93d3cudzMub3JnLzE5OTkvMDIvMjItcmRmLXN5bnRheC1ucyMiPjxyZGY6RGVzY3JpcHRpb24gcmRmOmFib3V0PSJ1dWlkOmZhZjViZGQ1LWJhM2QtMTFkYS1hZDMxLWQzM2Q3NTE4MmYxYiIgeG1sbnM6ZGM9Imh0dHA6Ly9wdXJsLm9yZy9kYy9lbGVtZW50cy8xLjEvIi8+PHJkZjpEZXNjcmlwdGlvbiByZGY6YWJvdXQ9InV1aWQ6ZmFmNWJkZDUtYmEzZC0xMWRhLWFkMzEtZDMzZDc1MTgyZjFiIiB4bWxuczp4bXA9Imh0dHA6Ly9ucy5hZG9iZS5jb20veGFwLzEuMC8iPjx4bXA6Q3JlYXRlRGF0ZT4yMDIwLTA3LTA2VDEzOjQxOjE4LjI3NDwveG1wOkNyZWF0ZURhdGU+PC9yZGY6RGVzY3JpcHRpb24+PHJkZjpEZXNjcmlwdGlvbiByZGY6YWJvdXQ9InV1aWQ6ZmFmNWJkZDUtYmEzZC0xMWRhLWFkMzEtZDMzZDc1MTgyZjFiIiB4bWxuczpkYz0iaHR0cDovL3B1cmwub3JnL2RjL2VsZW1lbnRzLzEuMS8iPjxkYzpjcmVhdG9yPjxyZGY6U2VxIHhtbG5zOnJkZj0iaHR0cDovL3d3dy53My5vcmcvMTk5OS8wMi8yMi1yZGYtc3ludGF4LW5zIyI+PHJkZjpsaT5HYXV0aGFtIFZlbGF5dXRoYW08L3JkZjpsaT48L3JkZjpTZXE+DQoJCQk8L2RjOmNyZWF0b3I+PC9yZGY6RGVzY3JpcHRpb24+PC9yZGY6UkRGPjwveDp4bXBtZXRhPg0KICAgICAgICAgICAgICAgICAgICAgICAgICAgICAgICAgICAgICAgICAgICAgICAgICAgICAgICAgICAgICAgICAgICAgICAgICAgICAgICAgICAgICAgICAgICAgICAgICAgIAogICAgICAgICAgICAgICAgICAgICAgICAgICAgICAgICAgICAgICAgICAgICAgICAgICAgICAgICAgICAgICAgICAgICAgICAgICAgICAgICAgICAgICAgICAgICAgICAgICAgCiAgICAgICAgICAgICAgICAgICAgICAgICAgICAgICAgICAgICAgICAgICAgICAgICAgICAgICAgICAgICAgICAgICAgICAgICAgICAgICAgICAgICAgICAgICAgICAgICAgICAKICAgICAgICAgICAgICAgICAgICAgICAgICAgICAgICAgICAgICAgICAgICAgICAgICAgICAgICAgICAgICAgICAgICAgICAgICAgICAgICAgICAgICAgICAgICAgICAgICAgIAogICAgICAgICAgICAgICAgICAgICAgICAgICAgICAgICAgICAgICAgICAgICAgICAgICAgICAgICAgICAgICAgICAgICAgICAgICAgICAgICAgICAgICAgICAgICAgICAgICAgCiAgICAgICAgICAgICAgICAgICAgICAgICAgICAgICAgICAgICAgICAgICAgICAgICAgICAgICAgICAgICAgICAgICAgICAgICAgICAgICAgICAgICAgICAgICAgICAgICAgICAKICAgICAgICAgICAgICAgICAgICAgICAgICAgICAgICAgICAgICAgICAgICAgICAgICAgICAgICAgICAgICAgICAgICAgICAgICAgICAgICAgICAgICAgICAgICAgICAgICAgIAogICAgICAgICAgICAgICAgICAgICAgICAgICAgICAgICAgICAgICAgICAgICAgICAgICAgICAgICAgICAgICAgICAgICAgICAgICAgICAgICAgICAgICAgICAgICAgICAgICAgCiAgICAgICAgICAgICAgICAgICAgICAgICAgICAgICAgICAgICAgICAgICAgICAgICAgICAgICAgICAgICAgICAgICAgICAgICAgICAgICAgICAgICAgICAgICAgICAgICAgICAKICAgICAgICAgICAgICAgICAgICAgICAgICAgICAgICAgICAgICAgICAgICAgICAgICAgICAgICAgICAgICAgICAgICAgICAgICAgICAgICAgICAgICAgICAgICAgICAgICAgIAogICAgICAgICAgICAgICAgICAgICAgICAgICAgICAgICAgICAgICAgICAgICAgICAgICAgICAgICAgICAgICAgICAgICAgICAgICAgICAgICAgICAgICAgICAgICAgICAgICAgCiAgICAgICAgICAgICAgICAgICAgICAgICAgICAgICAgICAgICAgICAgICAgICAgICAgICAgICAgICAgICAgICAgICAgICAgICAgICAgICAgICAgICAgICAgICAgICAgICAgICAKICAgICAgICAgICAgICAgICAgICAgICAgICAgICAgICAgICAgICAgICAgICAgICAgICAgICAgICAgICAgICAgICAgICAgICAgICAgICAgICAgICAgICAgICAgICAgICAgICAgIAogICAgICAgICAgICAgICAgICAgICAgICAgICAgICAgICAgICAgICAgICAgICAgICAgICAgICAgICAgICAgICAgICAgICAgICAgICAgICAgICAgICAgICAgICAgICAgICAgICAgCiAgICAgICAgICAgICAgICAgICAgICAgICAgICAgICAgICAgICAgICAgICAgICAgICAgICAgICAgICAgICAgICAgICAgICAgICAgICAgICAgICAgICAgICAgICAgICAgICAgICAKICAgICAgICAgICAgICAgICAgICAgICAgICAgICAgICAgICAgICAgICAgICAgICAgICAgICAgICAgICAgICAgICAgICAgICAgICAgICAgICAgICAgICAgICAgICAgICAgICAgIAogICAgICAgICAgICAgICAgICAgICAgICAgICAgICAgICAgICAgICAgICAgICAgICAgICAgICAgICAgICAgICAgICAgICAgICAgICAgICAgICAgICAgICAgICAgICAgICAgICAgCiAgICAgICAgICAgICAgICAgICAgICAgICAgICAgICAgICAgICAgICAgICAgICAgICAgICAgICAgICAgICAgICAgICAgICAgICAgICAgICAgICAgICAgICAgICAgICAgICAgICAKICAgICAgICAgICAgICAgICAgICAgICAgICAgICAgICAgICAgICAgICAgICAgICAgICAgICAgICAgICAgICAgICAgICAgICAgICAgICAgICAgICAgICAgICAgICAgICAgICAgIAogICAgICAgICAgICAgICAgICAgICAgICAgICAgICAgICAgICAgICAgICAgICAgICAgICAgICAgICAgICAgICAgICAgICAgICAgICAgICAgICAgICAgICAgICAgICAgICAgICAgCiAgICAgICAgICAgICAgICAgICAgICAgICAgICA8P3hwYWNrZXQgZW5kPSd3Jz8+/9sAQwAHBQUGBQQHBgUGCAcHCAoRCwoJCQoVDxAMERgVGhkYFRgXGx4nIRsdJR0XGCIuIiUoKSssKxogLzMvKjInKisq/9sAQwEHCAgKCQoUCwsUKhwYHCoqKioqKioqKioqKioqKioqKioqKioqKioqKioqKioqKioqKioqKioqKioqKioqKioq/8AAEQgA9AGHAwEiAAIRAQMRAf/EAB8AAAEFAQEBAQEBAAAAAAAAAAABAgMEBQYHCAkKC//EALUQAAIBAwMCBAMFBQQEAAABfQECAwAEEQUSITFBBhNRYQcicRQygZGhCCNCscEVUtHwJDNicoIJChYXGBkaJSYnKCkqNDU2Nzg5OkNERUZHSElKU1RVVldYWVpjZGVmZ2hpanN0dXZ3eHl6g4SFhoeIiYqSk5SVlpeYmZqio6Slpqeoqaqys7S1tre4ubrCw8TFxsfIycrS09TV1tfY2drh4uPk5ebn6Onq8fLz9PX29/j5+v/EAB8BAAMBAQEBAQEBAQEAAAAAAAABAgMEBQYHCAkKC//EALURAAIBAgQEAwQHBQQEAAECdwABAgMRBAUhMQYSQVEHYXETIjKBCBRCkaGxwQkjM1LwFWJy0QoWJDThJfEXGBkaJicoKSo1Njc4OTpDREVGR0hJSlNUVVZXWFlaY2RlZmdoaWpzdHV2d3h5eoKDhIWGh4iJipKTlJWWl5iZmqKjpKWmp6ipqrKztLW2t7i5usLDxMXGx8jJytLT1NXW19jZ2uLj5OXm5+jp6vLz9PX29/j5+v/aAAwDAQACEQMRAD8A+kaKKKACiiigAooooAKKKKACiiigAooooAKKKKACiiigAooooAKKKKACiiigAooooAKKKKACiiigAooooAKKKKACiiigAooooAKKKKACiiigAooooAKKKKACiiigAooooAKKKKACiiigAooooAKKKKACiiigAooooAKKKKACiiigAooooAKKKKACijNFABRRRQAUUUUAFFFFABRRRQAUUUEgdaACiiigAooooAKKKKACiiigAooooAKKKKACiiigAooooAKKKKACiiigAooooAKKKKACiiigAooooAKKKKACiimSyJEpeVgiKMszHAH1oAfRXAa38WtFsbl7PRobjXL1TjybMfKD7vXOT6v8RvEZz59n4ctW/hiTzpce5PA/CkwPXpp4YVzNKiD/AGmArHvPGPh2wfF5rVnER6yjivL1+HkF03ma/q+q6s7feE10VT/vkdK0LXwJ4XtMCHR7c4/vguf1qeYDr2+J3gkNhvEmng+8lSw/EfwdOcQeIbBj7SVzX/CN6GFATR7Hj1tkP9Kjm8MaDMuH0ayP+7Ao/kKOYD0G01vS71Q1pqFvL/uyir4IIyCCPUV45P8ADnwxMfMisHtJu0ltMysP1xUUXhrxJoz7/DPi++jA5EN+FnQ+2TyPwo5gPaaK8mtfiR4o0H5fGGgC6gHBvdLJbA9Sh5ruvD/jHQvFFt5mj3yTN/FEx2yL9V61YG/RSL0paACiikbpQAtFc94h8aaD4XhB1e/RHP3IV+eRj7KP61w918RvFWu5TwpoS2Nufu3upnkj1CD+tK4HrBIUZJwPU1Qu9c0uxXdd6hbxf70oryZ/DHiLWW3+J/F9/Pu58qyxboPb5ev41NbfDnwzCdz6ebmXvJczMzH9cUmwO6m+JPg2Fts3iGwU+8majX4neCS20eJNPz7SVzcPhjQYVwmjWX4wKf5inHw5obAh9HsfwtkH9KXMB2dn4x8PX7Ys9as5c9MSjmtiKaKZcwyI49VYGvJrnwJ4YusibRrfB/uAof0ql/wr2K1+fQNa1XSmXosNyWT8j1pqQHtVFeOw6z8RfDhy0lp4ltF/gkXyZiPYjj866PRPi1oeo3C2mqpPol90MF6MDPoG707gd/RTIpEljDxuHRhkMpyD9KfTAKKKKACiiigAooooAKKKKACiiigAooooAKKKKACiiigAooooAKKKKACk+lJ+PevPPG/xClsr7/hHvCqC71qXhmHKWwPdj2pMDa8X+PtK8IQhZ3N1qEvEFjB80kh/oPrXn9xZeJfHT/afFd4+maf1TTLZsMR/ttV3w94Sj0mZtS1KRtQ1ebma7mOcE9QuegrojxwOnakBR0vRdO0W3WHTLWOBQP4Ryfqe9XqKKACgdaKo61qSaPoV7qMn3bWB5cHvgZxQBwF/8U7iz+IY0pLVH0eO7WzmuyeUc16YMlf5+9fNqaJ4v1D4e3t4mk28lldzf2i1404EvHOQuc9K948Ga1/wkXg/TdT3FmmgUOf9sDDD8xQBt0lLRQAhGRg9PSuf1fwVp+pSfarIvpmoLyl1anac+pHeuhooA5/TPiDrfg+4jsvHcLXWnsQker265C+nmKOn1/8Ar49Usr221GzjurG4juIJBlJIzkEVxE1vFdQSQ3EaSxsMMjDO4d64m5vLv4VXS6jpExm0eeULNprNyM94x60XA9r1DULTSrGS81C4jtreIZeSRsAV5ZqHj3XvGc0ln4Hjax0xSVk1a5Qgv/uL3+tY1pNe/FS5/tfW5/K0iOQ/ZtNjfpg4/eD14rtoYoreBIbdVREG0IowFHpRcDB0fwVpumSm6uS+o355e6ujuYn1A7V0I46UuaKAEpaKKAA5x79a8fX4m+L501i/sNGs59N0iZ0ndpgjYXnoepx6V7ATjnpwSc18wrD4fktvFB1jUbi2vhdyG2hjY7ZfYr354oA+ifDGur4k8M2OrpG0Quot2xuqnof1Fatcv8N57y4+HekSajAIJ/JK+WF24UMQvHuoBrqKACqGqaJpus27Q6laRTqw+8w5H/Au1X6KAOPgtvE/gVxceGLqTVdLX5pNNuGy4H+wa9E8I+PNI8X27CzkMF7EP39lMNskR9Md/wAKy888n8cVzWv+EU1C5TVNKmbTtXhOY7qLjcfRsdR2oA9f53deO4p1ef8Agb4gS6ndtoHieL7FrkAxgjC3AH8S+td9k+tUA6iiigAooooAKKKKACiiigAooooAKKKKACiiigAooooAKKKwPGPim38I+G7jU7gB3UbYYe8sh+6o/wA9qTA5/wCInja50gxaD4dUT65f/KgHIt07yN9KxfC3hqHw9p+Gfz76Zt91dPy0jd+euKqeD9GuI/tGva3mXVtRO+Rm6wp1CCuozzk/kaQCDpzz9aWj680UAFFFFABUVxbQXlu8F1Ck0LjDRyKGVh7g1LRQBCtrAlqLZIY1gC7BEqgLt9MelJaWVtY24gsreKCIHISNAoHfoKnooAKKKKACiijsSeB60AVdT1G10jS5r6/k8uCIZYjqfQD1zWV4L8K3Pi/WI/Fnim3xbRnOnWDj5VHZ2Hc/WqWnae/xG8beW+T4c0aTMvpczdh7gV7LFGkcQjjUKijAUdqdkB5J4y8L3HgnVn8U+GICbCZs6jYIPl95FHrWzp2oWuq6ZDe2Lh4JhlDXoM0KTQtHIodGGCp6EV4zd2L/AA48a/Ysk+HtXkL2pPS2l7pn0NIDrqKPQ9j3ooAKKKKADOcZ5rLPhvRDceedIsTMW3GQ267ifXOM1qUUAIAAABwAMAelLRRQAUUUUAFGcHNFFAGD4o8MQ+ILVHhY2uo2x32t2nDRsOQM+ma3fh542n1xZdG19Rb67YHbMh/5bqOki/WlGfqffvXK+LtIuo5oPEeg/u9W087xt/5bR9Sh9aAPZqKw/Cnia38V+GrXVrLA81cSxnrG44ZT+NblUAUUUUAFFFFABRRRQAUUUUAFFFFABRRRQAUUUUAIDxzwe9eM65eHx18TWgGX0fw6ccfdkuG6/lXoPjzxB/wjngu/1BT+9CGOFc8s7cDFcT4K0c6P4Yt45cm5uD587Hqztyc0mB0A46dun1pPrS0UgCiiigAooooAKKKKACiiigAooooAK5rxtqs9npcOnadltR1OT7PbqvVc/eb8jXS4P9a57wXa/wDCVfFDUNZkAey0RRaWpPQynlz9RQB6D4Q8OW/hbwza6ZbgZjXMrd3c/eJrcpF6UtUAdawPGfhmHxV4XudOlAEhG+B/7kg6Gt+kbpQB5D4J1afUdHktdQyt/pr/AGa5U92HQ/lXR1zviu1HhT4q2Wop8ljr6G3mx91Zl5U/U10WD3GKlgFFFFABRRRQAUUUUAFFFFABRRRQAnXrRjd97kHrS0UAct4cvH8DfEw2DHZo2v8AzRAn5Yrheo/EfnXsmen9K8i8b6UdU8MzNB8t3aOtzbsOodOR+ld94L14eI/CFhqQ5d4wsi56OODmhMDoKKKKoAooooAKKKKACiiigAooooAKKKKACig0n8NAHlfxTl/tXxR4c8NrzGzteTr/ALKnC/qK2Rjgf5HpXOSv/anxq1y46x6baxW0RPbK5YD8TXR1IBRRRQAUUUUAFFFFABRRRQAUUUUAFFFFAGfruorpOgXt6/8AyxiLrz3xWr8JtFOkfD2weVf9Ivgbydj1ZpDn/wBB21xnxGd5PD8Gnwf62/u44QD6bua9ltoEtbSK3iGI4kCKPQAYFCAlFFAoqgCiiigDhfi7o8mpeALq5tv+PnTXS9hI7FDk/wDjuaoaPfJqejWl6nIniV8+5FehX1ql9p9xaS/6ueJo3+jDB/nXj3w3lf8A4RT7LKPns55ICD2AbikwOsooopAFFFFABRRRQAUUUUAFFFFABRRRQAHHpnIwQayPhJMdK1vxD4aYnZBOLq3U/wBxzz+uK1652wf+y/jhpkg4TVLKWB/QbBuH6ijYD14dKKByKKoAooooAKKKKACiiigAooooAKKKKAA0dqDSH7h+lAHjHhBjceJPF143zFtZmhVvVUOB+FdZXJeA/veIf+wxcf8AoVdbUgFFFFABRRRQAUUUUAFFFFABRRRQAUUUUAcr4iT7V448IWp5T+0PNYeoAr2btXj97g/FLwsG6BnIr1/tTQCiigUUwCiiigArxnwsn2XxZ4ts+ixakxQexr2avHdG/wCSi+L/APr8/pSYHTUUUUgCiiigAooooAKKKKACiiigAooooAK5bxO32Txl4OvF6/2qlvn2fiuprlPGf/Ia8Hf9jBbfzoA9noooqgCiiigAooooAKKKKACiiigAooooADSH7p4z7UtFAHjHg9TbeIPF1oeNmtTOq/7LHIrq65to/wCyvjPr9qfljv4IbmMHuduG/UV0lSAUUUUAFFFFABRRRQAUUUUAFFFFABRRRQBy3iBvsvjvwhdn7hv/ACm+hFey9q8U+IweHQrTUYgfMsbyOVcdvm5P5V7PbzJcW0c0RDJIoZSO4PIoTAkFFFFUAUUUUAFeNeGG+0eLvF931V9SZUb2Fev3lwlpYz3MpwkMbSMT2AGf6V458OI3Php7yYHzb24kmY+oLcUmB1tFFFIAooooAKKKKACiiigAooooAKKKKACuU8UL9q8YeD7Reo1aO4P/AADmurrm7WM6p8btHhXlNNtJZ5V68su0fqaAPYKKB0HaiqAKKKKACiiigAooooAKKKKACiiigAoooPTmgDyr4ox/2R408O+IhxGWNlcN2API/U1skcnHoK1PiD4fPiPwVe2S8zqvmwH0deQa4/wdq/8AbXhe1nb/AF8Y8idT1Dr1zSYG5RRRSAKKKKACiiigAooooAKKKKACiiigDO8Q6cNW8O3tk3HnRFVPoccVt/CvW/7Z+HemmU4uLVPskynqGjO3n8AD+NViAevQjmue8C3f/CMfEnVNAmOLTVwL20z039HA+pHSkgPXKKRenFLVgFIxwKU0h6c0AcT8WtaOk/Du9SDJudQ22cKjqxkOD/47urM0TT10rQLOxU8QRKh+oFZnjO6Pij4pafo8PzWmhobu4OeDKeFH4da6I9MYz6mpASiiigAooooAKKKKACiiigAooooAKKKKAD3OB/hWP8KYf7U8S+I/EZ+ZJJRaW7jui9cfjUPjTWDo3hi4kh+a4uMW8Cd2d+OK7XwJ4fHhrwZY6eeJQm+Yju7cmiwHS0UDpRVAFFFFABRRRQAUUUUAFFFFABRRRQAUdaKKAExx+FeMajbN4F+J00RBTR/EJ82PssVwOCPxH6mvaK5vxv4Sh8X+GZ9PlO2cfvbeXvHKOhpMDHI67SPb2ormvB+vTX0Euk6wph1fTj5VxGfvMB0cDuK6Xnv1pAFFFFABRRRQAUUUUAFFFFABRRRQADgkjvXMeN9NuJbK31jTMrf6VIJ4inUqPvD8q6ej2IBGMYNAHSeF/EFv4l8N2uqWfKzJ8yD+Bu61rqc14zoepn4c+NBaXDMPD2syfI56Ws/v7GvZI2DDcuMNyCD196YDmOKxPFviODwt4autUuSP3a4jTu7n7qitmRgiFmICqMkk9K8Z1XUH+I3jbbFz4c0SUhW7XU/r9BTugLHgnTZ7bS5dS1HJ1DVJDcTs3UZ6L9AK6XPy4pMD0/KlqQCiiigAooooAKKKKACiiigAooooAPrSZ6E8Utcx4x1u4t44dF0ZGl1fUSIo0A5Re7n2oAj0a1fx38TkkxnR/Dx3M3aW4PQe+BXs2BXP+DfC8HhLw1b6ZbHc6jfPLjJlkPVjXQ00AUUUUwCiiigAooooAKKKKACiiigAooooAKKKKACmhcU6igDzn4i+C7u5uIfE3hfCazZcvGOPtMfdD68VR8NeIrbxJpguIMxzIds8LcNE46givU8dK808a/D+6TVG8TeDG+z6oOZ7UHEd2O4I6ZpMC/S1geHfFlrrm+3mU2epQkrPaScMrZ7Z6+tb/wBOaQBRSUtABRRRQAUUUUAFFFFABRRR/OgCjrGk2ut6ZLp9+geKYfip7Ee4qp4D8XXeg6mnhLxbL8/TT72Q4Ey9kJPetdpFiQvIyogUksxwBXB6pDN8UNRj0bw9BGbO3kBn1R0yIsddh9TQB0fjnxZdeJdWfwh4Ul3KPl1G8Q/LEO6AjvV/StLtdG0uCwsE2wxLgDuT3J9zXH6MsvwzvDoPiK2WO1lcmDVEX5ZsnjefXGK7tJFljVkZWUgYKnIIoAWij/J9qKACiiigAooooAKKKKACiikoAWj6UYzXP+IvFlvouy1to2vdTnO2C0iGWJ9TjoO9ICbxL4ltfDuniV/311KdlvbKMtK/YAVpfDnwTdae8viPxLiTW775trci2Q9EHpxUfgj4f3KakvibxfILrVmGYYTylqvoo9fevRtp59aYBtPtinUUVQBRRRQAUUUUAFFFFABRRRQAUUUUAFFFFABRRRQAUUUUAFNIyfanUUAcb4y+HOneKWF7Azadq8XMN7Bw2f8AaHcVwj67rvg64Wy8dWLPb5xHqlqmUf8A3x2r22obq1hvIGhuYkliYYKOuQRSYHA2Wo2mqWyz2FxFcREcNE2RU9VdW+EFk12974Vv7jQrs/MBCd0JP+7WDcx/EHw0SupaNFr9svW5sJAr4/3DyTSA6jpS1yEHxJ0RG8rVo73SJu8d5bMv8hWzb+KtAulBt9ZsnB9Z1U/kTQBrUVVGp2BXIvbYj1Eq/wCNMk1nTIRmbUbRB/tTqP60AXcdPejvjvXPXvjzwxYr++1e3JHQRHzf/Qc1SXxveapJ5Xhbw5qWpM3SdoTFF/301AHW1ha14w0vRP3TSNdXb8La2w3SMfTjpTbbwN438RkN4h1OHRLNhzbWJ8yUj0LdPxFdp4a8A6D4XXdp9mHuDy1zOd8j++T0oA4bT/BfiLx5JHc+KXOkaLncunQnEkw7b27D2r1TTNJstGsI7LTLaO2t4xhY41wPx9auDpS1QFDVdGsdcsHstVtY7q3kGCjr09x6V5ZfeD/EvgGRp/DbtreiDJaxmP72AeiHuK9ipD0pMDyjRfF+la5+6jnNveL9+0uBtkU+nPWtzFaXiT4e+H/FH7y9tDFdDlbm3PlyKfrXHXHgnxv4bbdoWow69aL922vT5cuPQN0/E0gN+iuQPje50tjF4p8O6npjr96UQmWH/vpc1esvHXhi/TMOsW4P/TVvK/8AQsUAdDRVKPWNMlGYtRtHH+zOp/rTzqdgq5a+tgPUzL/jQBaxSVk3HivQLVWM+sWS7euJ1Y/kDmseX4k6PI/l6PFe6vL08uztXbP6UAdfiqt/qVnpdu02oXMdvGBndI2P071hW8HxC8SYGn6TDoFqx4nvpN0mP9wcj8a3dH+EOnxXQvvFF7ca7edT5/EQPsooA5hNZ1/xrM1n4IsWgtTw+qXS7VX/AHF7133g74eab4UU3RL32qyj99e3HzOT3x6CuptraK0iWK3iWKNBtVEGAB7CpqLAJjB4/HNLRRVAFFFFABRRRQAUUUUAFFFFABRRRQAUUUUAFFFFABRRRQAUUUUAFFFFABRRRQAUGiigCrc6faXilbu1hmU9d6A1z958NvCN6xebQLIuf4hHg11VFAHD/wDCofBuSRpQX2DkCpI/hL4KiOW0WGX/AK6fNXaUUAYlh4P8O6Yc6fotnbkf3IgK10jSNAqIqL6AYqSigAooooAKKKKACiiigAoNFFAEbxpMm10V17gjNZF/4O8O6n/x/wCi2dx/vxCtuigDipPhL4MkORosMf8A1z+WmD4Q+DN2W0lW+rkiu4ooA5W0+G3g+yIa38PWO/PDmLJ/Ouht7G1tFCW1vFEqjgIgGKs0UAAooooAKKKKACiiigAooooAKKKKACiiigAooooAKKKKACiiigAooooAKKKKACiiigAooooAKKKKACiiigAooooAKKKKACiiigAooooAKKKKACiiigAooooAKKKKACiiigAooooAKKKKACiiigAooooAKKKKACiiigAooooAKKKKACiiigAooooAKKKKACiiigAooooAKKKKACiiigAooooAKKKKACiiigAooooAKKKKACiiigAooooAKKKKACiiigAooooAKKKKACiiigAooooAKKKKACiiigAooooAKKKKACiiigAooooA/9k=)\n",
    "\n",
    "SET SYMMETRIC DIFFERENCE"
   ]
  },
  {
   "cell_type": "code",
   "execution_count": null,
   "metadata": {
    "colab": {
     "base_uri": "https://localhost:8080/",
     "height": 34
    },
    "executionInfo": {
     "elapsed": 869,
     "status": "ok",
     "timestamp": 1598954567847,
     "user": {
      "displayName": "Gautham Velayutham",
      "photoUrl": "",
      "userId": "05764642726617643049"
     },
     "user_tz": -330
    },
    "id": "kZ6-Ulm0Fy3w",
    "outputId": "098e3287-6739-45c4-9265-1e7c6cfda7bd"
   },
   "outputs": [
    {
     "name": "stdout",
     "output_type": "stream",
     "text": [
      "{1, 2, 3, 6, 7, 8}\n"
     ]
    }
   ],
   "source": [
    "# Symmetric difference of two sets\n",
    "# initialize A and B\n",
    "A = {1, 2, 3, 4, 5}\n",
    "B = {4, 5, 6, 7, 8}\n",
    "\n",
    "# use ^ operator\n",
    "\n",
    "print(A ^ B)"
   ]
  },
  {
   "cell_type": "code",
   "execution_count": null,
   "metadata": {
    "colab": {
     "base_uri": "https://localhost:8080/",
     "height": 34
    },
    "executionInfo": {
     "elapsed": 978,
     "status": "ok",
     "timestamp": 1598954594493,
     "user": {
      "displayName": "Gautham Velayutham",
      "photoUrl": "",
      "userId": "05764642726617643049"
     },
     "user_tz": -330
    },
    "id": "GoAqPi_OF7SN",
    "outputId": "00936951-2dfd-48cf-d62c-6fb428b575ff"
   },
   "outputs": [
    {
     "data": {
      "text/plain": [
       "{1, 2, 3, 6, 7, 8}"
      ]
     },
     "execution_count": 13,
     "metadata": {
      "tags": []
     },
     "output_type": "execute_result"
    }
   ],
   "source": [
    "# use symmetric_difference function on A\n",
    "A.symmetric_difference(B)\n",
    "\n"
   ]
  },
  {
   "cell_type": "code",
   "execution_count": 10,
   "metadata": {
    "colab": {
     "base_uri": "https://localhost:8080/"
    },
    "executionInfo": {
     "elapsed": 365,
     "status": "ok",
     "timestamp": 1631793215826,
     "user": {
      "displayName": "LuckyFish Vlog",
      "photoUrl": "https://lh3.googleusercontent.com/a/default-user=s64",
      "userId": "12188633397091826884"
     },
     "user_tz": -330
    },
    "id": "McKi415v_2k1",
    "outputId": "e64a2d42-aec9-4503-f9f6-a417e3818915"
   },
   "outputs": [
    {
     "name": "stdout",
     "output_type": "stream",
     "text": [
      "[1, 3, 5, 6]\n"
     ]
    }
   ],
   "source": [
    "test_list = [1, 5, 3, 6, 3, 5, 6, 1]\n",
    "test1=list(set(test_list))\n",
    "print(test1)"
   ]
  },
  {
   "cell_type": "code",
   "execution_count": 5,
   "metadata": {
    "colab": {
     "base_uri": "https://localhost:8080/"
    },
    "executionInfo": {
     "elapsed": 427,
     "status": "ok",
     "timestamp": 1629090324326,
     "user": {
      "displayName": "LuckyFish Vlog",
      "photoUrl": "",
      "userId": "12188633397091826884"
     },
     "user_tz": -330
    },
    "id": "LKMbGueOwJYb",
    "outputId": "7bdc3564-2af6-464c-81dd-ee50e971efb5"
   },
   "outputs": [
    {
     "name": "stdout",
     "output_type": "stream",
     "text": [
      "2\n",
      "5\n",
      "None\n"
     ]
    }
   ],
   "source": [
    "#function in python\n",
    "def absolute_value(num):\n",
    "    \"\"\"This function returns the absolute\n",
    "    value of the entered number\"\"\"\n",
    "\n",
    "    if num >= 0:\n",
    "        return num\n",
    "    else:\n",
    "        print(-num)\n",
    "\n",
    "\n",
    "print(absolute_value(2))\n",
    "\n",
    "abs=absolute_value(-5)\n",
    "print(abs)\n"
   ]
  },
  {
   "cell_type": "code",
   "execution_count": 8,
   "metadata": {
    "colab": {
     "base_uri": "https://localhost:8080/"
    },
    "executionInfo": {
     "elapsed": 854,
     "status": "ok",
     "timestamp": 1618031147087,
     "user": {
      "displayName": "LuckyFish Vlog",
      "photoUrl": "",
      "userId": "12188633397091826884"
     },
     "user_tz": -330
    },
    "id": "3O7TZEWyK4s0",
    "outputId": "e88515a2-9ea3-4da2-8c87-b0829bf2d6bd"
   },
   "outputs": [
    {
     "name": "stdout",
     "output_type": "stream",
     "text": [
      "enter a num:3\n",
      "The factors of 3 are:\n",
      "1\n",
      "3\n"
     ]
    }
   ],
   "source": [
    "def print_factors(x):\n",
    "   print(\"The factors of\",x,\"are:\")\n",
    "   for i in range(1, x + 1):\n",
    "       if x % i == 0:\n",
    "           print(i)\n",
    "\n",
    "num = int(input('enter a num:'))\n",
    "\n",
    "print_factors(num)"
   ]
  },
  {
   "cell_type": "code",
   "execution_count": null,
   "metadata": {
    "colab": {
     "base_uri": "https://localhost:8080/"
    },
    "executionInfo": {
     "elapsed": 358,
     "status": "ok",
     "timestamp": 1629090730357,
     "user": {
      "displayName": "LuckyFish Vlog",
      "photoUrl": "",
      "userId": "12188633397091826884"
     },
     "user_tz": -330
    },
    "id": "MkIb3Bn7wgX9",
    "outputId": "b56e5db1-eb3f-48d3-b9f1-3b4e7d7a4f92"
   },
   "outputs": [
    {
     "name": "stdout",
     "output_type": "stream",
     "text": [
      "Value inside function: 10\n",
      "Value outside function: 30\n"
     ]
    }
   ],
   "source": [
    "# scope of variables in functions\n",
    "x=20\n",
    "def my_func():\n",
    "\tx = 10\n",
    "\tprint(\"Value inside function:\",x)\n",
    "\n",
    "x = 30\n",
    "my_func()\n",
    "print(\"Value outside function:\",x)"
   ]
  },
  {
   "cell_type": "code",
   "execution_count": null,
   "metadata": {
    "colab": {
     "base_uri": "https://localhost:8080/"
    },
    "executionInfo": {
     "elapsed": 478,
     "status": "ok",
     "timestamp": 1629091148877,
     "user": {
      "displayName": "LuckyFish Vlog",
      "photoUrl": "",
      "userId": "12188633397091826884"
     },
     "user_tz": -330
    },
    "id": "uXy1z_UVxPdi",
    "outputId": "4a77629c-ff07-410c-c54c-6fc973a36310"
   },
   "outputs": [
    {
     "name": "stdout",
     "output_type": "stream",
     "text": [
      "40\n"
     ]
    }
   ],
   "source": [
    "# lambda/ anonymous functions\n",
    "# Program to show the use of lambda functions\n",
    "double = lambda x: x * 2\n",
    "\n",
    "print(double(20))\n"
   ]
  },
  {
   "cell_type": "code",
   "execution_count": null,
   "metadata": {
    "colab": {
     "base_uri": "https://localhost:8080/",
     "height": 34
    },
    "executionInfo": {
     "elapsed": 645,
     "status": "ok",
     "timestamp": 1599219313100,
     "user": {
      "displayName": "Gautham Velayutham",
      "photoUrl": "",
      "userId": "05764642726617643049"
     },
     "user_tz": -330
    },
    "id": "Tw_L5M8l5LLf",
    "outputId": "ee072820-907b-4a8b-b325-f81e5ef4ed43"
   },
   "outputs": [
    {
     "name": "stdout",
     "output_type": "stream",
     "text": [
      "78\n"
     ]
    }
   ],
   "source": [
    "# lambda with multiple arguments\n",
    "a = lambda x,y,z: x+2*y+9*z\n",
    "\n",
    "print(a(4,10,6))"
   ]
  },
  {
   "cell_type": "code",
   "execution_count": null,
   "metadata": {
    "colab": {
     "base_uri": "https://localhost:8080/"
    },
    "executionInfo": {
     "elapsed": 3572,
     "status": "ok",
     "timestamp": 1623302756695,
     "user": {
      "displayName": "LuckyFish Vlog",
      "photoUrl": "",
      "userId": "12188633397091826884"
     },
     "user_tz": -330
    },
    "id": "XqjpGzCYSKdD",
    "outputId": "8985b7cb-be5c-420e-d5c8-e542edacc2e8"
   },
   "outputs": [
    {
     "name": "stdout",
     "output_type": "stream",
     "text": [
      "enter number:10\n",
      "10 X 1 = 10\n",
      "10 X 2 = 20\n",
      "10 X 3 = 30\n",
      "10 X 4 = 40\n",
      "10 X 5 = 50\n",
      "10 X 6 = 60\n",
      "10 X 7 = 70\n",
      "10 X 8 = 80\n",
      "10 X 9 = 90\n",
      "10 X 10 = 100\n"
     ]
    }
   ],
   "source": [
    "def table(n):\n",
    "  return lambda a:a*n\n",
    "\n",
    "n=int(input(\"enter number:\"))\n",
    "b=table(n)\n",
    "for i in range(1,11):\n",
    "  print(n,\"X\",i,\"=\",b(i))"
   ]
  },
  {
   "cell_type": "code",
   "execution_count": null,
   "metadata": {
    "colab": {
     "base_uri": "https://localhost:8080/",
     "height": 34
    },
    "executionInfo": {
     "elapsed": 859,
     "status": "ok",
     "timestamp": 1599219110139,
     "user": {
      "displayName": "Gautham Velayutham",
      "photoUrl": "",
      "userId": "05764642726617643049"
     },
     "user_tz": -330
    },
    "id": "o45CD5-gx74C",
    "outputId": "cd3041a6-e3a4-4d83-d922-25eef6dfcb39"
   },
   "outputs": [
    {
     "name": "stdout",
     "output_type": "stream",
     "text": [
      "40\n"
     ]
    }
   ],
   "source": [
    "#is nearly the same as:\n",
    "\n",
    "def double(x):\n",
    "   return x * 2\n",
    "\n",
    "print(double(20))"
   ]
  },
  {
   "cell_type": "code",
   "execution_count": null,
   "metadata": {
    "colab": {
     "base_uri": "https://localhost:8080/"
    },
    "executionInfo": {
     "elapsed": 1399,
     "status": "ok",
     "timestamp": 1623648242525,
     "user": {
      "displayName": "LuckyFish Vlog",
      "photoUrl": "",
      "userId": "12188633397091826884"
     },
     "user_tz": -330
    },
    "id": "GsIYhsqW0cxl",
    "outputId": "f804e41d-475e-4754-de80-40a4c4323af3"
   },
   "outputs": [
    {
     "name": "stdout",
     "output_type": "stream",
     "text": [
      "[2, 10, 8, 12, 16, 22, 6, 24]\n"
     ]
    }
   ],
   "source": [
    "# map() function\n",
    "# Program to double each item in a list using map()\n",
    "\"\"\"hellow\n",
    "this is map\n",
    "\"\"\"\n",
    "\n",
    "my_list = [1, 5, 4, 6, 8, 11, 3, 12]\n",
    "\n",
    "new_list = list(map(lambda x: x * 2 , my_list))\n",
    "\n",
    "print(new_list)"
   ]
  },
  {
   "cell_type": "code",
   "execution_count": null,
   "metadata": {
    "colab": {
     "base_uri": "https://localhost:8080/",
     "height": 34
    },
    "executionInfo": {
     "elapsed": 1091,
     "status": "ok",
     "timestamp": 1599219576496,
     "user": {
      "displayName": "Gautham Velayutham",
      "photoUrl": "",
      "userId": "05764642726617643049"
     },
     "user_tz": -330
    },
    "id": "lcNC9fRI0UCT",
    "outputId": "3896de9b-8aca-4854-edef-297236c0dcaa"
   },
   "outputs": [
    {
     "name": "stdout",
     "output_type": "stream",
     "text": [
      "[1, 5, 11, 3]\n"
     ]
    }
   ],
   "source": [
    "# filter() function\n",
    "# Program to filter out only the even items from a list\n",
    "my_list = [1, 5, 4, 6, 8, 11, 3, 12]\n",
    "\n",
    "new_list = list(filter(lambda x: (x%2 == 1) , my_list))\n",
    "\n",
    "print(new_list)"
   ]
  },
  {
   "cell_type": "code",
   "execution_count": null,
   "metadata": {
    "colab": {
     "base_uri": "https://localhost:8080/"
    },
    "executionInfo": {
     "elapsed": 425,
     "status": "ok",
     "timestamp": 1629177813936,
     "user": {
      "displayName": "LuckyFish Vlog",
      "photoUrl": "",
      "userId": "12188633397091826884"
     },
     "user_tz": -330
    },
    "id": "u4Fhd80T1XDX",
    "outputId": "0cbf1c02-0dfd-43d5-a16b-8e5825ddd8ff"
   },
   "outputs": [
    {
     "name": "stdout",
     "output_type": "stream",
     "text": [
      "The factorial of 6 is 720\n"
     ]
    }
   ],
   "source": [
    "def factorial(x):\n",
    "    \"\"\"This is a recursive function\n",
    "    to find the factorial of an integer\"\"\"\n",
    "\n",
    "    if x == 1:\n",
    "        return 1\n",
    "    else:\n",
    "        return (x * factorial(x-1))\n",
    "\n",
    "\n",
    "num = 6\n",
    "print(\"The factorial of\", num, \"is\", factorial(num))"
   ]
  },
  {
   "cell_type": "code",
   "execution_count": null,
   "metadata": {
    "colab": {
     "base_uri": "https://localhost:8080/"
    },
    "executionInfo": {
     "elapsed": 405,
     "status": "ok",
     "timestamp": 1629177855574,
     "user": {
      "displayName": "LuckyFish Vlog",
      "photoUrl": "",
      "userId": "12188633397091826884"
     },
     "user_tz": -330
    },
    "id": "_zvBQa9RbPVw",
    "outputId": "80adbdb1-9fc7-4c11-e739-35c91dd9360c"
   },
   "outputs": [
    {
     "data": {
      "text/plain": [
       "720"
      ]
     },
     "execution_count": 2,
     "metadata": {
      "tags": []
     },
     "output_type": "execute_result"
    }
   ],
   "source": [
    "import math\n",
    "\n",
    "math.factorial(6)"
   ]
  },
  {
   "cell_type": "code",
   "execution_count": null,
   "metadata": {
    "colab": {
     "base_uri": "https://localhost:8080/"
    },
    "executionInfo": {
     "elapsed": 4715,
     "status": "ok",
     "timestamp": 1618204144906,
     "user": {
      "displayName": "LuckyFish Vlog",
      "photoUrl": "",
      "userId": "12188633397091826884"
     },
     "user_tz": -330
    },
    "id": "c1A0v2Pz_mQP",
    "outputId": "24f5890c-f898-4b5e-9590-84fe976149a5"
   },
   "outputs": [
    {
     "name": "stdout",
     "output_type": "stream",
     "text": [
      "720\n"
     ]
    }
   ],
   "source": [
    "import math \n",
    "    \n",
    "x = 6\n",
    "    \n",
    "print (math.factorial(x)) "
   ]
  },
  {
   "cell_type": "code",
   "execution_count": null,
   "metadata": {
    "colab": {
     "base_uri": "https://localhost:8080/"
    },
    "executionInfo": {
     "elapsed": 329,
     "status": "ok",
     "timestamp": 1623818413231,
     "user": {
      "displayName": "LuckyFish Vlog",
      "photoUrl": "",
      "userId": "12188633397091826884"
     },
     "user_tz": -330
    },
    "id": "ARg4kXO37Vv8",
    "outputId": "2bdb1c88-4243-4e4f-f18b-6e543f9d96da"
   },
   "outputs": [
    {
     "name": "stdout",
     "output_type": "stream",
     "text": [
      "['in', 'in', 'in']\n"
     ]
    }
   ],
   "source": [
    "#regex\n",
    "#findall()\n",
    "import re\n",
    "\n",
    "txt = \"The rain in Spain\"\n",
    "x = re.findall(\"in\", txt)\n",
    "print(x)"
   ]
  },
  {
   "cell_type": "code",
   "execution_count": null,
   "metadata": {
    "colab": {
     "base_uri": "https://localhost:8080/"
    },
    "executionInfo": {
     "elapsed": 345,
     "status": "ok",
     "timestamp": 1623818449626,
     "user": {
      "displayName": "LuckyFish Vlog",
      "photoUrl": "",
      "userId": "12188633397091826884"
     },
     "user_tz": -330
    },
    "id": "Hhchs_yu7lDy",
    "outputId": "4d448d5b-cf54-42a0-ca0c-525b3fab8435"
   },
   "outputs": [
    {
     "name": "stdout",
     "output_type": "stream",
     "text": [
      "[]\n"
     ]
    }
   ],
   "source": [
    "import re\n",
    "\n",
    "txt = \"The rain in Spain\"\n",
    "x = re.findall(\"Portugal\", txt)\n",
    "print(x)"
   ]
  },
  {
   "cell_type": "code",
   "execution_count": null,
   "metadata": {
    "colab": {
     "base_uri": "https://localhost:8080/"
    },
    "executionInfo": {
     "elapsed": 297,
     "status": "ok",
     "timestamp": 1623818494078,
     "user": {
      "displayName": "LuckyFish Vlog",
      "photoUrl": "",
      "userId": "12188633397091826884"
     },
     "user_tz": -330
    },
    "id": "UBjorZV07sJP",
    "outputId": "c5fa80e5-cc85-4154-e20e-11de80297e9b"
   },
   "outputs": [
    {
     "name": "stdout",
     "output_type": "stream",
     "text": [
      "in txt\n"
     ]
    }
   ],
   "source": [
    "#search()\n",
    "import re\n",
    "\n",
    "txt = \"The rain in rain\"\n",
    "x = re.search(\"in\", txt)\n",
    "\n",
    "if x:\n",
    "  print(\"in txt\")\n",
    "else:\n",
    "  print(\"no match\")"
   ]
  },
  {
   "cell_type": "code",
   "execution_count": null,
   "metadata": {
    "colab": {
     "base_uri": "https://localhost:8080/"
    },
    "executionInfo": {
     "elapsed": 365,
     "status": "ok",
     "timestamp": 1623818601539,
     "user": {
      "displayName": "LuckyFish Vlog",
      "photoUrl": "",
      "userId": "12188633397091826884"
     },
     "user_tz": -330
    },
    "id": "YSJNOIXr-suJ",
    "outputId": "b53f2d5f-06fd-4abc-fc3e-dbe36d4a3d14"
   },
   "outputs": [
    {
     "name": "stdout",
     "output_type": "stream",
     "text": [
      "pattern found inside the string\n"
     ]
    }
   ],
   "source": [
    "import re\n",
    "\n",
    "txt = \"The rain in spain\"\n",
    "x = re.search(\"rain\", txt)\n",
    "\n",
    "#print(\"The first white-space character is located in position:\", x)\n",
    "if x:\n",
    "  print(\"pattern found inside the string\")\n",
    "else:\n",
    "  print(\"pattern not found\")  "
   ]
  },
  {
   "cell_type": "code",
   "execution_count": null,
   "metadata": {
    "colab": {
     "base_uri": "https://localhost:8080/"
    },
    "executionInfo": {
     "elapsed": 305,
     "status": "ok",
     "timestamp": 1623818668561,
     "user": {
      "displayName": "LuckyFish Vlog",
      "photoUrl": "",
      "userId": "12188633397091826884"
     },
     "user_tz": -330
    },
    "id": "nLK17H6F-A7n",
    "outputId": "c58c1f52-50cc-4f16-a213-aee6d7e05fbc"
   },
   "outputs": [
    {
     "name": "stdout",
     "output_type": "stream",
     "text": [
      "['The', 'rain', 'in', 'Spain']\n"
     ]
    }
   ],
   "source": [
    "#split()\n",
    "import re\n",
    "\n",
    "txt = \"The rain in Spain\"\n",
    "x = re.split(\"\\s\", txt)\n",
    "print(x)"
   ]
  },
  {
   "cell_type": "code",
   "execution_count": null,
   "metadata": {
    "colab": {
     "base_uri": "https://localhost:8080/"
    },
    "executionInfo": {
     "elapsed": 373,
     "status": "ok",
     "timestamp": 1623818724321,
     "user": {
      "displayName": "LuckyFish Vlog",
      "photoUrl": "",
      "userId": "12188633397091826884"
     },
     "user_tz": -330
    },
    "id": "kL0Bfozc-J8_",
    "outputId": "e386babf-1fed-4ccd-8901-c5250fe3a1bb"
   },
   "outputs": [
    {
     "name": "stdout",
     "output_type": "stream",
     "text": [
      "['The', 'rain in Spain']\n"
     ]
    }
   ],
   "source": [
    "import re\n",
    "\n",
    "txt = \"The rain in Spain\"\n",
    "x = re.split(\"\\s\", txt,1)\n",
    "print(x)"
   ]
  },
  {
   "cell_type": "code",
   "execution_count": null,
   "metadata": {
    "colab": {
     "base_uri": "https://localhost:8080/"
    },
    "executionInfo": {
     "elapsed": 295,
     "status": "ok",
     "timestamp": 1623818758914,
     "user": {
      "displayName": "LuckyFish Vlog",
      "photoUrl": "",
      "userId": "12188633397091826884"
     },
     "user_tz": -330
    },
    "id": "AKPL6s2H-Kk3",
    "outputId": "03c137a6-2397-4757-8482-55c715ef4fb6"
   },
   "outputs": [
    {
     "name": "stdout",
     "output_type": "stream",
     "text": [
      "The9rain9in9Spain\n"
     ]
    }
   ],
   "source": [
    "#sub()\n",
    "import re\n",
    "\n",
    "txt = \"The rain in Spain\"\n",
    "x = re.sub(\"\\s\", \"9\", txt)\n",
    "print(x)"
   ]
  },
  {
   "cell_type": "code",
   "execution_count": null,
   "metadata": {
    "colab": {
     "base_uri": "https://localhost:8080/",
     "height": 34
    },
    "executionInfo": {
     "elapsed": 1097,
     "status": "ok",
     "timestamp": 1599377764650,
     "user": {
      "displayName": "Gautham Velayutham",
      "photoUrl": "",
      "userId": "05764642726617643049"
     },
     "user_tz": -330
    },
    "id": "1lUxyOae-dzO",
    "outputId": "5a797460-a7ca-442f-a252-5fecc354f18c"
   },
   "outputs": [
    {
     "name": "stdout",
     "output_type": "stream",
     "text": [
      "The9rain9in Spain\n"
     ]
    }
   ],
   "source": [
    "import re\n",
    "\n",
    "txt = \"The rain in Spain\"\n",
    "x = re.sub(\"\\s\", \"9\", txt, 2)\n",
    "print(x)"
   ]
  },
  {
   "cell_type": "code",
   "execution_count": null,
   "metadata": {
    "colab": {
     "base_uri": "https://localhost:8080/"
    },
    "executionInfo": {
     "elapsed": 294,
     "status": "ok",
     "timestamp": 1623820525689,
     "user": {
      "displayName": "LuckyFish Vlog",
      "photoUrl": "",
      "userId": "12188633397091826884"
     },
     "user_tz": -330
    },
    "id": "VlF_n33xhZyY",
    "outputId": "f8d64657-8556-4a6b-d28b-f0c6f160675c"
   },
   "outputs": [
    {
     "name": "stdout",
     "output_type": "stream",
     "text": [
      "1 (1, 2, 3)\n",
      "2 (1, 2, 4)\n",
      "3 (1, 2, 5)\n",
      "4 (1, 2, 6)\n",
      "5 (1, 3, 2)\n",
      "6 (1, 3, 4)\n",
      "7 (1, 3, 5)\n",
      "8 (1, 3, 6)\n",
      "9 (1, 4, 2)\n",
      "10 (1, 4, 3)\n",
      "11 (1, 4, 5)\n",
      "12 (1, 4, 6)\n",
      "13 (1, 5, 2)\n",
      "14 (1, 5, 3)\n",
      "15 (1, 5, 4)\n",
      "16 (1, 5, 6)\n",
      "17 (1, 6, 2)\n",
      "18 (1, 6, 3)\n",
      "19 (1, 6, 4)\n",
      "20 (1, 6, 5)\n",
      "21 (2, 1, 3)\n",
      "22 (2, 1, 4)\n",
      "23 (2, 1, 5)\n",
      "24 (2, 1, 6)\n",
      "25 (2, 3, 1)\n",
      "26 (2, 3, 4)\n",
      "27 (2, 3, 5)\n",
      "28 (2, 3, 6)\n",
      "29 (2, 4, 1)\n",
      "30 (2, 4, 3)\n",
      "31 (2, 4, 5)\n",
      "32 (2, 4, 6)\n",
      "33 (2, 5, 1)\n",
      "34 (2, 5, 3)\n",
      "35 (2, 5, 4)\n",
      "36 (2, 5, 6)\n",
      "37 (2, 6, 1)\n",
      "38 (2, 6, 3)\n",
      "39 (2, 6, 4)\n",
      "40 (2, 6, 5)\n",
      "41 (3, 1, 2)\n",
      "42 (3, 1, 4)\n",
      "43 (3, 1, 5)\n",
      "44 (3, 1, 6)\n",
      "45 (3, 2, 1)\n",
      "46 (3, 2, 4)\n",
      "47 (3, 2, 5)\n",
      "48 (3, 2, 6)\n",
      "49 (3, 4, 1)\n",
      "50 (3, 4, 2)\n",
      "51 (3, 4, 5)\n",
      "52 (3, 4, 6)\n",
      "53 (3, 5, 1)\n",
      "54 (3, 5, 2)\n",
      "55 (3, 5, 4)\n",
      "56 (3, 5, 6)\n",
      "57 (3, 6, 1)\n",
      "58 (3, 6, 2)\n",
      "59 (3, 6, 4)\n",
      "60 (3, 6, 5)\n",
      "61 (4, 1, 2)\n",
      "62 (4, 1, 3)\n",
      "63 (4, 1, 5)\n",
      "64 (4, 1, 6)\n",
      "65 (4, 2, 1)\n",
      "66 (4, 2, 3)\n",
      "67 (4, 2, 5)\n",
      "68 (4, 2, 6)\n",
      "69 (4, 3, 1)\n",
      "70 (4, 3, 2)\n",
      "71 (4, 3, 5)\n",
      "72 (4, 3, 6)\n",
      "73 (4, 5, 1)\n",
      "74 (4, 5, 2)\n",
      "75 (4, 5, 3)\n",
      "76 (4, 5, 6)\n",
      "77 (4, 6, 1)\n",
      "78 (4, 6, 2)\n",
      "79 (4, 6, 3)\n",
      "80 (4, 6, 5)\n",
      "81 (5, 1, 2)\n",
      "82 (5, 1, 3)\n",
      "83 (5, 1, 4)\n",
      "84 (5, 1, 6)\n",
      "85 (5, 2, 1)\n",
      "86 (5, 2, 3)\n",
      "87 (5, 2, 4)\n",
      "88 (5, 2, 6)\n",
      "89 (5, 3, 1)\n",
      "90 (5, 3, 2)\n",
      "91 (5, 3, 4)\n",
      "92 (5, 3, 6)\n",
      "93 (5, 4, 1)\n",
      "94 (5, 4, 2)\n",
      "95 (5, 4, 3)\n",
      "96 (5, 4, 6)\n",
      "97 (5, 6, 1)\n",
      "98 (5, 6, 2)\n",
      "99 (5, 6, 3)\n",
      "100 (5, 6, 4)\n",
      "101 (6, 1, 2)\n",
      "102 (6, 1, 3)\n",
      "103 (6, 1, 4)\n",
      "104 (6, 1, 5)\n",
      "105 (6, 2, 1)\n",
      "106 (6, 2, 3)\n",
      "107 (6, 2, 4)\n",
      "108 (6, 2, 5)\n",
      "109 (6, 3, 1)\n",
      "110 (6, 3, 2)\n",
      "111 (6, 3, 4)\n",
      "112 (6, 3, 5)\n",
      "113 (6, 4, 1)\n",
      "114 (6, 4, 2)\n",
      "115 (6, 4, 3)\n",
      "116 (6, 4, 5)\n",
      "117 (6, 5, 1)\n",
      "118 (6, 5, 2)\n",
      "119 (6, 5, 3)\n",
      "120 (6, 5, 4)\n",
      "total no of permutations 120\n"
     ]
    }
   ],
   "source": [
    "#permutation\n",
    "import itertools\n",
    "\n",
    "permut=itertools.permutations([1,2,3,4,5,6],3)\n",
    "count_permut=[]\n",
    "for i in permut:\n",
    "  count_permut.append(i)\n",
    "  #print all permutations\n",
    "  print(count_permut.index(i)+1,i)\n",
    "\n",
    "print('total no of permutations',len(count_permut))"
   ]
  },
  {
   "cell_type": "code",
   "execution_count": null,
   "metadata": {
    "colab": {
     "base_uri": "https://localhost:8080/"
    },
    "executionInfo": {
     "elapsed": 1397,
     "status": "ok",
     "timestamp": 1618376725899,
     "user": {
      "displayName": "LuckyFish Vlog",
      "photoUrl": "",
      "userId": "12188633397091826884"
     },
     "user_tz": -330
    },
    "id": "44fyJGsokXlR",
    "outputId": "1b4c9ec4-1ae5-4728-9199-a3781af38209"
   },
   "outputs": [
    {
     "name": "stdout",
     "output_type": "stream",
     "text": [
      "1 (1, 2, 3)\n",
      "2 (1, 2, 4)\n",
      "3 (1, 2, 5)\n",
      "4 (1, 2, 6)\n",
      "5 (1, 3, 4)\n",
      "6 (1, 3, 5)\n",
      "7 (1, 3, 6)\n",
      "8 (1, 4, 5)\n",
      "9 (1, 4, 6)\n",
      "10 (1, 5, 6)\n",
      "11 (2, 3, 4)\n",
      "12 (2, 3, 5)\n",
      "13 (2, 3, 6)\n",
      "14 (2, 4, 5)\n",
      "15 (2, 4, 6)\n",
      "16 (2, 5, 6)\n",
      "17 (3, 4, 5)\n",
      "18 (3, 4, 6)\n",
      "19 (3, 5, 6)\n",
      "20 (4, 5, 6)\n",
      "total no of combinations 20\n"
     ]
    }
   ],
   "source": [
    "#combinations\n",
    "combi= itertools.combinations([1,2,3,4,5,6],3)\n",
    "count_combi=[]\n",
    "for i in combi:\n",
    "  count_combi.append(i)\n",
    "  #print all combinations\n",
    "  print(count_combi.index(i)+1,i)\n",
    "\n",
    "print('total no of combinations',len(count_combi))"
   ]
  }
 ],
 "metadata": {
  "anaconda-cloud": {},
  "colab": {
   "name": "pythoninumerique.ipynb",
   "provenance": []
  },
  "kernelspec": {
   "display_name": "Python 3 (ipykernel)",
   "language": "python",
   "name": "python3"
  },
  "language_info": {
   "codemirror_mode": {
    "name": "ipython",
    "version": 3
   },
   "file_extension": ".py",
   "mimetype": "text/x-python",
   "name": "python",
   "nbconvert_exporter": "python",
   "pygments_lexer": "ipython3",
   "version": "3.9.13"
  }
 },
 "nbformat": 4,
 "nbformat_minor": 1
}
