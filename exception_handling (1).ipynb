{
  "nbformat": 4,
  "nbformat_minor": 0,
  "metadata": {
    "colab": {
      "provenance": []
    },
    "kernelspec": {
      "name": "python3",
      "display_name": "Python 3"
    }
  },
  "cells": [
    {
      "cell_type": "code",
      "metadata": {
        "id": "Nneacm6Y3TvP"
      },
      "source": [
        "#try\n",
        "#except\n",
        "#else\n",
        "#finally"
      ],
      "execution_count": null,
      "outputs": []
    },
    {
      "cell_type": "code",
      "source": [
        "try:\n",
        "  pass\n",
        "except Exception:\n",
        "  pass\n",
        "else:\n",
        "  pass\n",
        "finally:\n",
        "  pass"
      ],
      "metadata": {
        "id": "WFtih-CfsSX7"
      },
      "execution_count": null,
      "outputs": []
    },
    {
      "cell_type": "code",
      "source": [
        "try:\n",
        "  f=open('test.txt','r')\n",
        "except Exception:\n",
        "  print('Sorry file not found')"
      ],
      "metadata": {
        "colab": {
          "base_uri": "https://localhost:8080/"
        },
        "id": "KfM5VANns36p",
        "outputId": "a3eea59a-8aa7-4c32-9cda-b5b24b361ce0"
      },
      "execution_count": null,
      "outputs": [
        {
          "output_type": "stream",
          "name": "stdout",
          "text": [
            "Sorry file not found\n"
          ]
        }
      ]
    },
    {
      "cell_type": "code",
      "source": [
        "try:\n",
        "  #f=open('test.txt','r')\n",
        "  var=bad_var\n",
        "except Exception:\n",
        "  print('Sorry file not found')"
      ],
      "metadata": {
        "colab": {
          "base_uri": "https://localhost:8080/"
        },
        "id": "S5-ZvL2ys39e",
        "outputId": "976f0be6-c68c-43c5-c9cc-0c56e126909a"
      },
      "execution_count": null,
      "outputs": [
        {
          "output_type": "stream",
          "name": "stdout",
          "text": [
            "Sorry file not found\n"
          ]
        }
      ]
    },
    {
      "cell_type": "code",
      "source": [
        "try:\n",
        "  #f=open('test.txt','r')\n",
        "  var=bad_var\n",
        "except FileNotFoundError:\n",
        "  print('Sorry file not found')"
      ],
      "metadata": {
        "colab": {
          "base_uri": "https://localhost:8080/",
          "height": 211
        },
        "id": "KXF9l4obs3_-",
        "outputId": "a52adfd4-f79b-4aa3-a152-82d369f5b5ad"
      },
      "execution_count": null,
      "outputs": [
        {
          "output_type": "error",
          "ename": "NameError",
          "evalue": "name 'bad_var' is not defined",
          "traceback": [
            "\u001b[0;31m---------------------------------------------------------------------------\u001b[0m",
            "\u001b[0;31mNameError\u001b[0m                                 Traceback (most recent call last)",
            "\u001b[0;32m<ipython-input-5-5a7451db8d6e>\u001b[0m in \u001b[0;36m<cell line: 0>\u001b[0;34m()\u001b[0m\n\u001b[1;32m      1\u001b[0m \u001b[0;32mtry\u001b[0m\u001b[0;34m:\u001b[0m\u001b[0;34m\u001b[0m\u001b[0;34m\u001b[0m\u001b[0m\n\u001b[1;32m      2\u001b[0m   \u001b[0;31m#f=open('test.txt','r')\u001b[0m\u001b[0;34m\u001b[0m\u001b[0;34m\u001b[0m\u001b[0m\n\u001b[0;32m----> 3\u001b[0;31m   \u001b[0mvar\u001b[0m\u001b[0;34m=\u001b[0m\u001b[0mbad_var\u001b[0m\u001b[0;34m\u001b[0m\u001b[0;34m\u001b[0m\u001b[0m\n\u001b[0m\u001b[1;32m      4\u001b[0m \u001b[0;32mexcept\u001b[0m \u001b[0mFileNotFoundError\u001b[0m\u001b[0;34m:\u001b[0m\u001b[0;34m\u001b[0m\u001b[0;34m\u001b[0m\u001b[0m\n\u001b[1;32m      5\u001b[0m   \u001b[0mprint\u001b[0m\u001b[0;34m(\u001b[0m\u001b[0;34m'Sorry file not found'\u001b[0m\u001b[0;34m)\u001b[0m\u001b[0;34m\u001b[0m\u001b[0;34m\u001b[0m\u001b[0m\n",
            "\u001b[0;31mNameError\u001b[0m: name 'bad_var' is not defined"
          ]
        }
      ]
    },
    {
      "cell_type": "code",
      "source": [
        "#maintain the order of exception\n",
        "# try:\n",
        "#   f=open('test.txt','r')\n",
        "#   #var=bad_var\n",
        "# except Exception:\n",
        "#   print('Sorry something is wrong')\n",
        "# except FileNotFoundError:\n",
        "#   print('Sorry file not found')\n",
        "\n",
        "try:\n",
        "  #f=open('test.txt','r')\n",
        "  var=bad_var\n",
        "except FileNotFoundError:\n",
        "  print('Sorry file not found')\n",
        "except Exception:\n",
        "  print('something went wrong')"
      ],
      "metadata": {
        "colab": {
          "base_uri": "https://localhost:8080/"
        },
        "id": "0Hv1C0aQs4DR",
        "outputId": "5b6a2c2f-99d1-4694-9f45-636fcfcf0369"
      },
      "execution_count": null,
      "outputs": [
        {
          "output_type": "stream",
          "name": "stdout",
          "text": [
            "Sorry something is wrong\n"
          ]
        }
      ]
    },
    {
      "cell_type": "code",
      "source": [
        "try:\n",
        "  #f=open('test.txt','r')\n",
        "  var=bad_var\n",
        "except FileNotFoundError as e:\n",
        "  print(e)\n",
        "except Exception as e:\n",
        "  print(e)"
      ],
      "metadata": {
        "colab": {
          "base_uri": "https://localhost:8080/"
        },
        "id": "KQbN9lRas4Fb",
        "outputId": "4c0d57ec-0d57-40c0-ff08-f6407470668e"
      },
      "execution_count": null,
      "outputs": [
        {
          "output_type": "stream",
          "name": "stdout",
          "text": [
            "name 'bad_var' is not defined\n"
          ]
        }
      ]
    },
    {
      "cell_type": "code",
      "source": [
        "#else only runs when there is no error\n",
        "try:\n",
        "  #f=open('test.txt','r')\n",
        "  a=10\n",
        "  b=2\n",
        "  c=a+b\n",
        "  print(c)\n",
        "except FileNotFoundError:\n",
        "  print('Sorry file not found')\n",
        "except Exception:\n",
        "  print('something went wrong')\n",
        "else:\n",
        "  print('no error')"
      ],
      "metadata": {
        "colab": {
          "base_uri": "https://localhost:8080/"
        },
        "id": "ccBmPMWzs4I8",
        "outputId": "39fbba84-6454-43ef-922c-11b4954c4c62"
      },
      "execution_count": null,
      "outputs": [
        {
          "output_type": "stream",
          "name": "stdout",
          "text": [
            "12\n",
            "no error\n"
          ]
        }
      ]
    },
    {
      "cell_type": "code",
      "source": [
        "try:\n",
        "  f=open('test.txt','r')\n",
        "  f.close()\n",
        "except FileNotFoundError as e:\n",
        "  print(e)\n",
        "except Exception as e:\n",
        "  print(e)\n",
        "else:\n",
        "  print(f.read())\n",
        "  f.close()"
      ],
      "metadata": {
        "colab": {
          "base_uri": "https://localhost:8080/"
        },
        "id": "OfVvSxGkvCHq",
        "outputId": "88b5f1ef-d928-4f07-89ae-27e32e45e1f9"
      },
      "execution_count": null,
      "outputs": [
        {
          "output_type": "stream",
          "name": "stdout",
          "text": [
            "[Errno 2] No such file or directory: 'test.txt'\n"
          ]
        }
      ]
    },
    {
      "cell_type": "code",
      "source": [
        "#finally runs no matter what happens, helps us to close or release the resources\n",
        "try:\n",
        "  f=open('test.txt','r')\n",
        "  f.close()\n",
        "except FileNotFoundError as e:\n",
        "  print(e)\n",
        "except Exception as e:\n",
        "  print(e)\n",
        "else:\n",
        "  print(f.read())\n",
        "finally:\n",
        "  print('finally')"
      ],
      "metadata": {
        "colab": {
          "base_uri": "https://localhost:8080/"
        },
        "id": "48xBBdBBvCK-",
        "outputId": "bbf9a498-d68c-4c76-ca5d-3499b1928fb4"
      },
      "execution_count": null,
      "outputs": [
        {
          "output_type": "stream",
          "name": "stdout",
          "text": [
            "[Errno 2] No such file or directory: 'test.txt'\n",
            "finally\n"
          ]
        }
      ]
    },
    {
      "cell_type": "code",
      "source": [
        "print(10/0)\n",
        "print('hello')"
      ],
      "metadata": {
        "colab": {
          "base_uri": "https://localhost:8080/",
          "height": 159
        },
        "id": "9tzd0RFEvCNZ",
        "outputId": "6c7ccb9d-033c-44a9-944e-fd7ecc9e80a0"
      },
      "execution_count": null,
      "outputs": [
        {
          "output_type": "error",
          "ename": "ZeroDivisionError",
          "evalue": "division by zero",
          "traceback": [
            "\u001b[0;31m---------------------------------------------------------------------------\u001b[0m",
            "\u001b[0;31mZeroDivisionError\u001b[0m                         Traceback (most recent call last)",
            "\u001b[0;32m<ipython-input-15-64e034e2a05c>\u001b[0m in \u001b[0;36m<cell line: 0>\u001b[0;34m()\u001b[0m\n\u001b[0;32m----> 1\u001b[0;31m \u001b[0mprint\u001b[0m\u001b[0;34m(\u001b[0m\u001b[0;36m10\u001b[0m\u001b[0;34m/\u001b[0m\u001b[0;36m0\u001b[0m\u001b[0;34m)\u001b[0m\u001b[0;34m\u001b[0m\u001b[0;34m\u001b[0m\u001b[0m\n\u001b[0m\u001b[1;32m      2\u001b[0m \u001b[0mprint\u001b[0m\u001b[0;34m(\u001b[0m\u001b[0;34m'hello'\u001b[0m\u001b[0;34m)\u001b[0m\u001b[0;34m\u001b[0m\u001b[0;34m\u001b[0m\u001b[0m\n",
            "\u001b[0;31mZeroDivisionError\u001b[0m: division by zero"
          ]
        }
      ]
    },
    {
      "cell_type": "code",
      "source": [
        "try:\n",
        "  print(10/0)\n",
        "except:\n",
        "  print('Error occured')\n",
        "print('hello')"
      ],
      "metadata": {
        "colab": {
          "base_uri": "https://localhost:8080/"
        },
        "id": "TRstg5WqvCQM",
        "outputId": "37b17dc4-44a8-43d6-f9ed-682253f43f3a"
      },
      "execution_count": null,
      "outputs": [
        {
          "output_type": "stream",
          "name": "stdout",
          "text": [
            "Error occured\n",
            "hello\n"
          ]
        }
      ]
    },
    {
      "cell_type": "code",
      "source": [
        "try:\n",
        "  print(10/2)\n",
        "except:\n",
        "  print('Error occured')\n",
        "print('hello')"
      ],
      "metadata": {
        "colab": {
          "base_uri": "https://localhost:8080/"
        },
        "id": "cfG9BhNBzNWb",
        "outputId": "e90af2f8-2305-4eed-9f55-dee585c8cf21"
      },
      "execution_count": null,
      "outputs": [
        {
          "output_type": "stream",
          "name": "stdout",
          "text": [
            "5.0\n",
            "hello\n"
          ]
        }
      ]
    },
    {
      "cell_type": "code",
      "source": [
        "values=[10,5,6,0,9,8,2]\n",
        "\n",
        "for value in values:\n",
        "  try:\n",
        "    print(10/value)\n",
        "  except:\n",
        "    pass"
      ],
      "metadata": {
        "colab": {
          "base_uri": "https://localhost:8080/"
        },
        "id": "c4A9L8I8zNZB",
        "outputId": "7abb56ea-94d1-4746-b2e2-1b775b8b3896"
      },
      "execution_count": null,
      "outputs": [
        {
          "output_type": "stream",
          "name": "stdout",
          "text": [
            "1.0\n",
            "2.0\n",
            "1.6666666666666667\n",
            "1.1111111111111112\n",
            "1.25\n",
            "5.0\n"
          ]
        }
      ]
    },
    {
      "cell_type": "code",
      "source": [
        "values=[10,5,6,0,9,8,2]\n",
        "\n",
        "for value in values:\n",
        "  try:\n",
        "    print(10/value)\n",
        "  except:\n",
        "    continue"
      ],
      "metadata": {
        "colab": {
          "base_uri": "https://localhost:8080/"
        },
        "id": "bDWDRAB9zfoV",
        "outputId": "b0b57ba7-fb65-4122-eaee-e2619e3ad9fb"
      },
      "execution_count": null,
      "outputs": [
        {
          "output_type": "stream",
          "name": "stdout",
          "text": [
            "1.0\n",
            "2.0\n",
            "1.6666666666666667\n",
            "1.1111111111111112\n",
            "1.25\n",
            "5.0\n"
          ]
        }
      ]
    },
    {
      "cell_type": "code",
      "source": [
        "values=[10,5,6,0,9,8,2]\n",
        "\n",
        "for value in values:\n",
        "  try:\n",
        "    print(10/value)\n",
        "  except:\n",
        "    break"
      ],
      "metadata": {
        "colab": {
          "base_uri": "https://localhost:8080/"
        },
        "id": "fwZ-vgnMzNbR",
        "outputId": "2f9bcfe7-0af8-4c27-98df-afb295d0047a"
      },
      "execution_count": null,
      "outputs": [
        {
          "output_type": "stream",
          "name": "stdout",
          "text": [
            "1.0\n",
            "2.0\n",
            "1.6666666666666667\n"
          ]
        }
      ]
    },
    {
      "cell_type": "code",
      "source": [
        "values=[10,5,6,0,9,8,2]\n",
        "\n",
        "for value in values:\n",
        "  try:\n",
        "    #print(10/value)\n",
        "    print(int('hello'))\n",
        "  except ZeroDivisionError as e:\n",
        "    print(e)"
      ],
      "metadata": {
        "colab": {
          "base_uri": "https://localhost:8080/",
          "height": 211
        },
        "id": "lx18fhRazNdu",
        "outputId": "e4778828-dc60-4516-de0e-69e23ec19dd6"
      },
      "execution_count": null,
      "outputs": [
        {
          "output_type": "error",
          "ename": "ValueError",
          "evalue": "invalid literal for int() with base 10: 'hello'",
          "traceback": [
            "\u001b[0;31m---------------------------------------------------------------------------\u001b[0m",
            "\u001b[0;31mValueError\u001b[0m                                Traceback (most recent call last)",
            "\u001b[0;32m<ipython-input-25-99fd86261bcd>\u001b[0m in \u001b[0;36m<cell line: 0>\u001b[0;34m()\u001b[0m\n\u001b[1;32m      4\u001b[0m   \u001b[0;32mtry\u001b[0m\u001b[0;34m:\u001b[0m\u001b[0;34m\u001b[0m\u001b[0;34m\u001b[0m\u001b[0m\n\u001b[1;32m      5\u001b[0m     \u001b[0;31m#print(10/value)\u001b[0m\u001b[0;34m\u001b[0m\u001b[0;34m\u001b[0m\u001b[0m\n\u001b[0;32m----> 6\u001b[0;31m     \u001b[0mprint\u001b[0m\u001b[0;34m(\u001b[0m\u001b[0mint\u001b[0m\u001b[0;34m(\u001b[0m\u001b[0;34m'hello'\u001b[0m\u001b[0;34m)\u001b[0m\u001b[0;34m)\u001b[0m\u001b[0;34m\u001b[0m\u001b[0;34m\u001b[0m\u001b[0m\n\u001b[0m\u001b[1;32m      7\u001b[0m   \u001b[0;32mexcept\u001b[0m \u001b[0mZeroDivisionError\u001b[0m \u001b[0;32mas\u001b[0m \u001b[0me\u001b[0m\u001b[0;34m:\u001b[0m\u001b[0;34m\u001b[0m\u001b[0;34m\u001b[0m\u001b[0m\n\u001b[1;32m      8\u001b[0m     \u001b[0mprint\u001b[0m\u001b[0;34m(\u001b[0m\u001b[0me\u001b[0m\u001b[0;34m)\u001b[0m\u001b[0;34m\u001b[0m\u001b[0;34m\u001b[0m\u001b[0m\n",
            "\u001b[0;31mValueError\u001b[0m: invalid literal for int() with base 10: 'hello'"
          ]
        }
      ]
    },
    {
      "cell_type": "code",
      "source": [
        "values=[10,5,6,0,9,8,2]\n",
        "\n",
        "for value in values:\n",
        "  try:\n",
        "    #print(10/value)\n",
        "    print(int('hello'))\n",
        "  except ValueError as e:\n",
        "    print(e)"
      ],
      "metadata": {
        "colab": {
          "base_uri": "https://localhost:8080/"
        },
        "id": "Ysn9JL_mzNgH",
        "outputId": "6a2f30e4-c842-403c-b511-2f0716ca96c0"
      },
      "execution_count": null,
      "outputs": [
        {
          "output_type": "stream",
          "name": "stdout",
          "text": [
            "invalid literal for int() with base 10: 'hello'\n",
            "invalid literal for int() with base 10: 'hello'\n",
            "invalid literal for int() with base 10: 'hello'\n",
            "invalid literal for int() with base 10: 'hello'\n",
            "invalid literal for int() with base 10: 'hello'\n",
            "invalid literal for int() with base 10: 'hello'\n",
            "invalid literal for int() with base 10: 'hello'\n"
          ]
        }
      ]
    },
    {
      "cell_type": "code",
      "source": [
        "import logging\n",
        "logging.basicConfig(filename='error.log',level=logging.ERROR)\n",
        "values=[10,5,6,0,9,8,2]\n",
        "\n",
        "for value in values:\n",
        "  try:\n",
        "    #print(10/value)\n",
        "    print(int('hello'))\n",
        "  except ValueError as e:\n",
        "    print(e)\n",
        "  except Exception as e: #if we use exception as e the general exception , we need to perform logging\n",
        "    logging.exception(e)"
      ],
      "metadata": {
        "id": "53r5u-iRzNjh"
      },
      "execution_count": null,
      "outputs": []
    },
    {
      "cell_type": "code",
      "source": [
        "values=[10,5,6,0,9,8,'Hello',2]\n",
        "\n",
        "for value in values:\n",
        "  try:\n",
        "    print(10/int(value))\n",
        "\n",
        "  except ValueError as e:\n",
        "    print(\"Value Error\")\n",
        "  except ZeroDivisionError as e:\n",
        "    print(\"Zero Division Error\")\n",
        "  except Exception as e:\n",
        "    print(e)"
      ],
      "metadata": {
        "colab": {
          "base_uri": "https://localhost:8080/"
        },
        "id": "0xv8GJnpvCS1",
        "outputId": "9d1f17f9-6669-42dc-c0dc-a1c07d0c8ce6"
      },
      "execution_count": null,
      "outputs": [
        {
          "output_type": "stream",
          "name": "stdout",
          "text": [
            "1.0\n",
            "2.0\n",
            "1.6666666666666667\n",
            "Zero Division Error\n",
            "1.1111111111111112\n",
            "1.25\n",
            "Value Error\n",
            "5.0\n"
          ]
        }
      ]
    },
    {
      "cell_type": "code",
      "source": [
        "values=[10,5,6,0,9,8,'Hello',2]\n",
        "\n",
        "for value in values:\n",
        "  try:\n",
        "    print(10/int(value))\n",
        "\n",
        "  except (ValueError,ZeroDivisionError) as e:\n",
        "    print(\"Value Error or Zerodivision \")\n",
        "  except Exception as e:\n",
        "    print(e)"
      ],
      "metadata": {
        "colab": {
          "base_uri": "https://localhost:8080/"
        },
        "id": "Utu9_H_MvCWO",
        "outputId": "2433bcbc-c0d2-45b1-9596-42c0202d8d8b"
      },
      "execution_count": null,
      "outputs": [
        {
          "output_type": "stream",
          "name": "stdout",
          "text": [
            "1.0\n",
            "2.0\n",
            "1.6666666666666667\n",
            "Value Error or Zerodivision \n",
            "1.1111111111111112\n",
            "1.25\n",
            "Value Error or Zerodivision \n",
            "5.0\n"
          ]
        }
      ]
    },
    {
      "cell_type": "code",
      "source": [
        "values=[10,5,6,0,9,8,'Hello',2]\n",
        "\n",
        "for value in values:\n",
        "  try:\n",
        "    print(10/int(value))\n",
        "  except ZeroDivisionError as e:\n",
        "    pass\n",
        "  except ValueError as e:\n",
        "    print('hello World')\n",
        "    raise ValueError('Value Error') #reraise-exception\n",
        "  except Exception as e:\n",
        "    print(e)"
      ],
      "metadata": {
        "colab": {
          "base_uri": "https://localhost:8080/",
          "height": 488
        },
        "id": "aUhXanpv1s20",
        "outputId": "46e35787-690f-44ed-d64f-ca4b169848ce"
      },
      "execution_count": null,
      "outputs": [
        {
          "output_type": "stream",
          "name": "stdout",
          "text": [
            "1.0\n",
            "2.0\n",
            "1.6666666666666667\n",
            "1.1111111111111112\n",
            "1.25\n",
            "hello World\n"
          ]
        },
        {
          "output_type": "error",
          "ename": "ValueError",
          "evalue": "Value Error",
          "traceback": [
            "\u001b[0;31m---------------------------------------------------------------------------\u001b[0m",
            "\u001b[0;31mValueError\u001b[0m                                Traceback (most recent call last)",
            "\u001b[0;32m<ipython-input-29-8ec8577e2ba7>\u001b[0m in \u001b[0;36m<cell line: 0>\u001b[0;34m()\u001b[0m\n\u001b[1;32m      4\u001b[0m   \u001b[0;32mtry\u001b[0m\u001b[0;34m:\u001b[0m\u001b[0;34m\u001b[0m\u001b[0;34m\u001b[0m\u001b[0m\n\u001b[0;32m----> 5\u001b[0;31m     \u001b[0mprint\u001b[0m\u001b[0;34m(\u001b[0m\u001b[0;36m10\u001b[0m\u001b[0;34m/\u001b[0m\u001b[0mint\u001b[0m\u001b[0;34m(\u001b[0m\u001b[0mvalue\u001b[0m\u001b[0;34m)\u001b[0m\u001b[0;34m)\u001b[0m\u001b[0;34m\u001b[0m\u001b[0;34m\u001b[0m\u001b[0m\n\u001b[0m\u001b[1;32m      6\u001b[0m   \u001b[0;32mexcept\u001b[0m \u001b[0mZeroDivisionError\u001b[0m \u001b[0;32mas\u001b[0m \u001b[0me\u001b[0m\u001b[0;34m:\u001b[0m\u001b[0;34m\u001b[0m\u001b[0;34m\u001b[0m\u001b[0m\n",
            "\u001b[0;31mValueError\u001b[0m: invalid literal for int() with base 10: 'Hello'",
            "\nDuring handling of the above exception, another exception occurred:\n",
            "\u001b[0;31mValueError\u001b[0m                                Traceback (most recent call last)",
            "\u001b[0;32m<ipython-input-29-8ec8577e2ba7>\u001b[0m in \u001b[0;36m<cell line: 0>\u001b[0;34m()\u001b[0m\n\u001b[1;32m      8\u001b[0m   \u001b[0;32mexcept\u001b[0m \u001b[0mValueError\u001b[0m \u001b[0;32mas\u001b[0m \u001b[0me\u001b[0m\u001b[0;34m:\u001b[0m\u001b[0;34m\u001b[0m\u001b[0;34m\u001b[0m\u001b[0m\n\u001b[1;32m      9\u001b[0m     \u001b[0mprint\u001b[0m\u001b[0;34m(\u001b[0m\u001b[0;34m'hello World'\u001b[0m\u001b[0;34m)\u001b[0m\u001b[0;34m\u001b[0m\u001b[0;34m\u001b[0m\u001b[0m\n\u001b[0;32m---> 10\u001b[0;31m     \u001b[0;32mraise\u001b[0m \u001b[0mValueError\u001b[0m\u001b[0;34m(\u001b[0m\u001b[0;34m'Value Error'\u001b[0m\u001b[0;34m)\u001b[0m\u001b[0;34m\u001b[0m\u001b[0;34m\u001b[0m\u001b[0m\n\u001b[0m\u001b[1;32m     11\u001b[0m   \u001b[0;32mexcept\u001b[0m \u001b[0mException\u001b[0m \u001b[0;32mas\u001b[0m \u001b[0me\u001b[0m\u001b[0;34m:\u001b[0m\u001b[0;34m\u001b[0m\u001b[0;34m\u001b[0m\u001b[0m\n\u001b[1;32m     12\u001b[0m     \u001b[0mprint\u001b[0m\u001b[0;34m(\u001b[0m\u001b[0me\u001b[0m\u001b[0;34m)\u001b[0m\u001b[0;34m\u001b[0m\u001b[0;34m\u001b[0m\u001b[0m\n",
            "\u001b[0;31mValueError\u001b[0m: Value Error"
          ]
        }
      ]
    },
    {
      "cell_type": "code",
      "source": [
        "values=[10,5,6,0,9,8,'Hello',2]\n",
        "\n",
        "for value in values:\n",
        "  try:\n",
        "    print(10/int(value))\n",
        "  except ZeroDivisionError as e:\n",
        "    pass\n",
        "  except ValueError as e:\n",
        "    print('hello World')\n",
        "    #raise ValueError('Value Error')\n",
        "  except Exception as e:\n",
        "    print(e)\n",
        "  else:\n",
        "    print('No Error')\n",
        "  # finally:\n",
        "  #   print('finally')"
      ],
      "metadata": {
        "colab": {
          "base_uri": "https://localhost:8080/"
        },
        "id": "AYWP3SFU1tJW",
        "outputId": "541aa626-2a7a-4625-8fac-5d805cba4870"
      },
      "execution_count": null,
      "outputs": [
        {
          "output_type": "stream",
          "name": "stdout",
          "text": [
            "1.0\n",
            "No Error\n",
            "2.0\n",
            "No Error\n",
            "1.6666666666666667\n",
            "No Error\n",
            "1.1111111111111112\n",
            "No Error\n",
            "1.25\n",
            "No Error\n",
            "hello World\n",
            "5.0\n",
            "No Error\n"
          ]
        }
      ]
    },
    {
      "cell_type": "code",
      "source": [
        "#nested Exception\n",
        "\n",
        "try:\n",
        "  print('Outer Try')\n",
        "  try:\n",
        "    print('Nested Try')\n",
        "  except:\n",
        "    print('Nested Exception')\n",
        "  finally:\n",
        "    print('Nested Finally')\n",
        "except:\n",
        "  print('Outer Exception')\n",
        "finally:\n",
        "  print('Outer Finally')"
      ],
      "metadata": {
        "colab": {
          "base_uri": "https://localhost:8080/"
        },
        "id": "pNSL6Ua42yN1",
        "outputId": "82619523-3752-4925-b688-274d5b41792c"
      },
      "execution_count": null,
      "outputs": [
        {
          "output_type": "stream",
          "name": "stdout",
          "text": [
            "Outer Try\n",
            "Nested Try\n",
            "Nested Finally\n",
            "Outer Finally\n"
          ]
        }
      ]
    },
    {
      "cell_type": "code",
      "source": [
        "try:\n",
        "  print('Outer Try')\n",
        "  print(10/0)  #exception occurs\n",
        "  try:\n",
        "    print('Nested Try')\n",
        "  except ZeroDivisionError:\n",
        "    print('Nested Exception')\n",
        "  finally:\n",
        "    print('Nested Finally')\n",
        "except: #control goes here so nested is ignored\n",
        "  print('Outer Exception')\n",
        "finally:\n",
        "  print('Outer Finally')"
      ],
      "metadata": {
        "colab": {
          "base_uri": "https://localhost:8080/"
        },
        "id": "J2hLIihe2yPw",
        "outputId": "832c52ba-695f-43dc-81ee-cebd1efdbc07"
      },
      "execution_count": null,
      "outputs": [
        {
          "output_type": "stream",
          "name": "stdout",
          "text": [
            "Outer Try\n",
            "Outer Exception\n",
            "Outer Finally\n"
          ]
        }
      ]
    },
    {
      "cell_type": "code",
      "source": [
        "try:\n",
        "  print('Outer Try')\n",
        "  try:\n",
        "    print('Nested Try')\n",
        "    print(10/0)\n",
        "  except ZeroDivisionError:\n",
        "    print('Nested Zero Exception ')\n",
        "  except:\n",
        "    print('Nested Exception')\n",
        "  finally:\n",
        "    print('Nested Finally')\n",
        "except:\n",
        "  print('Outer Exception')\n",
        "finally:\n",
        "  print('Outer Finally')"
      ],
      "metadata": {
        "colab": {
          "base_uri": "https://localhost:8080/"
        },
        "id": "ZBj5qpQV2yRh",
        "outputId": "8d27cedd-cc02-41cd-8631-eeca90b2c727"
      },
      "execution_count": null,
      "outputs": [
        {
          "output_type": "stream",
          "name": "stdout",
          "text": [
            "Outer Try\n",
            "Nested Try\n",
            "Nested Zero Exception \n",
            "Nested Finally\n",
            "Outer Finally\n"
          ]
        }
      ]
    },
    {
      "cell_type": "code",
      "source": [
        "try:\n",
        "  print('Outer Try')\n",
        "  try:\n",
        "    print('Nested Try')\n",
        "    print(10/0)\n",
        "  # except ZeroDivisionError:\n",
        "  #   print('Nested Zero Exception ')\n",
        "  # except:\n",
        "  #   print('Nested Exception') #if the nested exception didnt handle the error\n",
        "  # the outer except block will manage the error\n",
        "  finally:\n",
        "    print('Nested Finally')\n",
        "except:\n",
        "  print('Outer Exception')\n",
        "finally:\n",
        "  print('Outer Finally')"
      ],
      "metadata": {
        "colab": {
          "base_uri": "https://localhost:8080/"
        },
        "id": "w8gMSEPw2yTm",
        "outputId": "aa134d1e-1df2-471b-e49d-68cfb814d05d"
      },
      "execution_count": null,
      "outputs": [
        {
          "output_type": "stream",
          "name": "stdout",
          "text": [
            "Outer Try\n",
            "Nested Try\n",
            "Nested Finally\n",
            "Outer Exception\n",
            "Outer Finally\n"
          ]
        }
      ]
    },
    {
      "cell_type": "code",
      "source": [
        "#user defined exception\n",
        "\n",
        "# Step 1: Define a custom exception by inheriting from Exception\n",
        "class CustomError(Exception):\n",
        "    pass\n",
        "\n",
        "# Step 2: Use it in a function or logic\n",
        "def check_positive(number):\n",
        "    if number < 0:\n",
        "        raise CustomError(\"Number must be positive!\")\n",
        "    else:\n",
        "        print(\"Valid number:\", number)\n",
        "\n",
        "# Step 3: Handle it using try-except\n",
        "try:\n",
        "    num = int(input(\"Enter a number: \"))\n",
        "    check_positive(num)\n",
        "except CustomError as e:\n",
        "    print(\"Caught CustomError:\", e)\n"
      ],
      "metadata": {
        "id": "KWLBz5zF2yXJ"
      },
      "execution_count": null,
      "outputs": []
    },
    {
      "cell_type": "code",
      "source": [
        "try:\n",
        "    10/2\n",
        "except:\n",
        "  print('r')\n",
        "else:\n",
        "  print(True)\n"
      ],
      "metadata": {
        "colab": {
          "base_uri": "https://localhost:8080/"
        },
        "id": "uEhQ-Yn2bH33",
        "outputId": "21fb40c1-eb39-43c9-ae28-a813faff3823"
      },
      "execution_count": null,
      "outputs": [
        {
          "output_type": "stream",
          "name": "stdout",
          "text": [
            "True\n"
          ]
        }
      ]
    },
    {
      "cell_type": "markdown",
      "source": [
        "Python has a wide range of built-in exceptions that can be raised by the interpreter or by code in your program. Here is a list of some of the most common exceptions:\n",
        "\n",
        "BaseException: The base class for all exceptions in Python.\n",
        "\n",
        "Exception: The most common base class for non-system-exiting exceptions.\n",
        "\n",
        "ArithmeticError: The base class for arithmetic-related exceptions, such as ZeroDivisionError and OverflowError.\n",
        "\n",
        "AssertionError: Raised when an assert statement fails.\n",
        "\n",
        "AttributeError: Raised when an object has no attribute (or method) of a given name.\n",
        "\n",
        "EOFError: Raised when there is no input from an input() function or when a file is empty.\n",
        "\n",
        "ImportError: Raised when an imported module cannot be found.\n",
        "\n",
        "IndexError: Raised when an index is out of range.\n",
        "\n",
        "KeyError: Raised when a key is not found in a dictionary.\n",
        "\n",
        "KeyboardInterrupt: Raised when the user interrupts the program execution, usually by pressing Ctrl+C.\n",
        "\n",
        "MemoryError: Raised when a program runs out of memory.\n",
        "\n",
        "NameError: Raised when a name is not found in the local or global namespace.\n",
        "\n",
        "OSError: The base class for operating system-related exceptions.\n",
        "\n",
        "StopIteration: Raised when the next() method of an iterator has no more values.\n",
        "\n",
        "SyntaxError: Raised when there is a syntax error in the program.\n",
        "\n",
        "TypeError: Raised when an operation or function is applied to an object of inappropriate type.\n",
        "\n",
        "ValueError: Raised when an operation or function receives an argument of inappropriate value.\n",
        "\n",
        "ZeroDivisionError: Raised when attempting to divide by zero.\n",
        "\n",
        "These are just a few examples of the many built-in exceptions available in Python. You can also create your own custom exceptions by subclassing one of the built-in exceptions."
      ],
      "metadata": {
        "id": "xXU5bpTBiWJF"
      }
    },
    {
      "cell_type": "code",
      "source": [
        "try:\n",
        "    x = 1 / 0\n",
        "except ArithmeticError:\n",
        "    print(\"Error: an arithmetic error occurred\")\n",
        "\n",
        "# except ZeroDivisionError:\n",
        "#     print(\"Error: division by zero\")"
      ],
      "metadata": {
        "colab": {
          "base_uri": "https://localhost:8080/"
        },
        "id": "fQwYaagEjQMw",
        "outputId": "0bd0c4d8-a728-4c47-87c9-35a1a10b7cf7"
      },
      "execution_count": null,
      "outputs": [
        {
          "output_type": "stream",
          "name": "stdout",
          "text": [
            "Error: an arithmetic error occurred\n"
          ]
        }
      ]
    },
    {
      "cell_type": "code",
      "source": [
        "try:\n",
        "    x = 5\n",
        "    y = 10\n",
        "    assert x > y, \"x should be greater than y\"\n",
        "except AssertionError as error:\n",
        "    print(error)\n"
      ],
      "metadata": {
        "colab": {
          "base_uri": "https://localhost:8080/"
        },
        "id": "vT9kCeATkjHs",
        "outputId": "613e642b-56c9-45ee-b29e-fd359e7c7c33"
      },
      "execution_count": null,
      "outputs": [
        {
          "output_type": "stream",
          "name": "stdout",
          "text": [
            "x should be greater than y\n"
          ]
        }
      ]
    },
    {
      "cell_type": "code",
      "source": [
        "try:\n",
        "    my_str = \"Hello, world!\"\n",
        "    my_str.sort()\n",
        "except AttributeError:\n",
        "    print(\"Error: string object has no attribute 'sort'\")\n"
      ],
      "metadata": {
        "colab": {
          "base_uri": "https://localhost:8080/"
        },
        "id": "y13FhZeckpWU",
        "outputId": "c3d88473-f020-437f-fa05-611a5387d3e7"
      },
      "execution_count": null,
      "outputs": [
        {
          "output_type": "stream",
          "name": "stdout",
          "text": [
            "Error: string object has no attribute 'sort'\n"
          ]
        }
      ]
    },
    {
      "cell_type": "code",
      "source": [
        "try:\n",
        "    my_list = [1, 2, 3]\n",
        "    print(my_list[3])\n",
        "except IndexError:\n",
        "    print(\"Error: index out of range\")\n",
        "print('hello')\n"
      ],
      "metadata": {
        "colab": {
          "base_uri": "https://localhost:8080/"
        },
        "id": "3YqwMB3Rkpfy",
        "outputId": "5d84bf93-34dd-46d4-d982-8fa33218cddb"
      },
      "execution_count": null,
      "outputs": [
        {
          "output_type": "stream",
          "name": "stdout",
          "text": [
            "Error: index out of range\n",
            "hello\n"
          ]
        }
      ]
    },
    {
      "cell_type": "code",
      "source": [
        "my_list = [1, 2, 3]\n",
        "print(my_list[3])\n",
        "print('hello')"
      ],
      "metadata": {
        "colab": {
          "base_uri": "https://localhost:8080/",
          "height": 176
        },
        "id": "rsR51w3qgQKX",
        "outputId": "5d5afbc2-c27f-48be-d57e-4b5ffe76b2d6"
      },
      "execution_count": null,
      "outputs": [
        {
          "output_type": "error",
          "ename": "IndexError",
          "evalue": "list index out of range",
          "traceback": [
            "\u001b[0;31m---------------------------------------------------------------------------\u001b[0m",
            "\u001b[0;31mIndexError\u001b[0m                                Traceback (most recent call last)",
            "\u001b[0;32m<ipython-input-2-3dc7feec9414>\u001b[0m in \u001b[0;36m<cell line: 2>\u001b[0;34m()\u001b[0m\n\u001b[1;32m      1\u001b[0m \u001b[0mmy_list\u001b[0m \u001b[0;34m=\u001b[0m \u001b[0;34m[\u001b[0m\u001b[0;36m1\u001b[0m\u001b[0;34m,\u001b[0m \u001b[0;36m2\u001b[0m\u001b[0;34m,\u001b[0m \u001b[0;36m3\u001b[0m\u001b[0;34m]\u001b[0m\u001b[0;34m\u001b[0m\u001b[0;34m\u001b[0m\u001b[0m\n\u001b[0;32m----> 2\u001b[0;31m \u001b[0mprint\u001b[0m\u001b[0;34m(\u001b[0m\u001b[0mmy_list\u001b[0m\u001b[0;34m[\u001b[0m\u001b[0;36m3\u001b[0m\u001b[0;34m]\u001b[0m\u001b[0;34m)\u001b[0m\u001b[0;34m\u001b[0m\u001b[0;34m\u001b[0m\u001b[0m\n\u001b[0m\u001b[1;32m      3\u001b[0m \u001b[0mprint\u001b[0m\u001b[0;34m(\u001b[0m\u001b[0;34m'hello'\u001b[0m\u001b[0;34m)\u001b[0m\u001b[0;34m\u001b[0m\u001b[0;34m\u001b[0m\u001b[0m\n",
            "\u001b[0;31mIndexError\u001b[0m: list index out of range"
          ]
        }
      ]
    },
    {
      "cell_type": "code",
      "source": [
        "try:\n",
        "    my_dict = {\"name\": \"Alice\", \"age\": 30}\n",
        "    print(my_dict[\"height\"])\n",
        "except KeyError:\n",
        "    print(\"Error: key not found in dictionary\")\n"
      ],
      "metadata": {
        "colab": {
          "base_uri": "https://localhost:8080/"
        },
        "id": "uUf4PwPPkppX",
        "outputId": "c5aa4208-b990-446c-c1fb-b86879c19130"
      },
      "execution_count": null,
      "outputs": [
        {
          "output_type": "stream",
          "name": "stdout",
          "text": [
            "Error: key not found in dictionary\n"
          ]
        }
      ]
    },
    {
      "cell_type": "code",
      "source": [
        "# try:\n",
        "#     my_list = [0] * (10 ** 9)\n",
        "# except MemoryError:\n",
        "#     print(\"Error: not enough memory available\")\n"
      ],
      "metadata": {
        "id": "Jtuzq92fkpxa"
      },
      "execution_count": null,
      "outputs": []
    },
    {
      "cell_type": "code",
      "source": [
        "try:\n",
        "    print(my_var)\n",
        "except NameError:\n",
        "    print(\"Error: variable not defined\")\n"
      ],
      "metadata": {
        "colab": {
          "base_uri": "https://localhost:8080/"
        },
        "id": "c97KKGZOkp7M",
        "outputId": "3fb041b6-b120-4537-8e3e-f20865f7afa8"
      },
      "execution_count": null,
      "outputs": [
        {
          "output_type": "stream",
          "name": "stdout",
          "text": [
            "Error: variable not defined\n"
          ]
        }
      ]
    },
    {
      "cell_type": "code",
      "source": [
        "try:\n",
        "    with open(\"nonexistent_file.txt\") as f:\n",
        "        contents = f.read()\n",
        "except OSError:\n",
        "    print(\"Error: could not open file\")\n"
      ],
      "metadata": {
        "colab": {
          "base_uri": "https://localhost:8080/"
        },
        "id": "7kPBoDKDkqEf",
        "outputId": "4b08d123-79a0-4758-cb70-239b9f4cf0ec"
      },
      "execution_count": null,
      "outputs": [
        {
          "output_type": "stream",
          "name": "stdout",
          "text": [
            "Error: could not open file\n"
          ]
        }
      ]
    },
    {
      "cell_type": "code",
      "source": [
        "try:\n",
        "    exec('print(')\n",
        "except SyntaxError:\n",
        "    print(\"Error: invalid syntax\")\n"
      ],
      "metadata": {
        "colab": {
          "base_uri": "https://localhost:8080/"
        },
        "id": "Z_szQcCDkqM-",
        "outputId": "50d9d2c1-4424-4f00-e381-f494c9c5c2a3"
      },
      "execution_count": null,
      "outputs": [
        {
          "output_type": "stream",
          "name": "stdout",
          "text": [
            "Error: invalid syntax\n"
          ]
        }
      ]
    },
    {
      "cell_type": "code",
      "source": [
        "try:\n",
        "    result = 5 + \"hello\"\n",
        "except TypeError:\n",
        "    print(\"Error: unsupported operand type(s) for +: 'int' and 'str'\")\n"
      ],
      "metadata": {
        "colab": {
          "base_uri": "https://localhost:8080/"
        },
        "id": "D0fUUeqgkqXJ",
        "outputId": "9decf1e3-9132-4326-854e-59264da428fc"
      },
      "execution_count": null,
      "outputs": [
        {
          "output_type": "stream",
          "name": "stdout",
          "text": [
            "Error: unsupported operand type(s) for +: 'int' and 'str'\n"
          ]
        }
      ]
    },
    {
      "cell_type": "code",
      "source": [
        "try:\n",
        "    num = int(\"hello\")\n",
        "except ValueError:\n",
        "    print(\"Error: could not convert string to integer\")\n"
      ],
      "metadata": {
        "colab": {
          "base_uri": "https://localhost:8080/"
        },
        "id": "sVFseS4Mkqf5",
        "outputId": "9f12dae3-6c31-42b0-c3fa-b698b2a1ef8a"
      },
      "execution_count": null,
      "outputs": [
        {
          "output_type": "stream",
          "name": "stdout",
          "text": [
            "Error: could not convert string to integer\n"
          ]
        }
      ]
    },
    {
      "cell_type": "code",
      "source": [
        "import os\n",
        "\n",
        "def divide_by_zero():\n",
        "    return 1/0\n",
        "\n",
        "def get_item_by_index(my_list, index):\n",
        "    return my_list[index]\n",
        "\n",
        "def raise_assertion_error(value):\n",
        "    assert value > 10, \"Value must be greater than 10\"\n",
        "\n",
        "def raise_key_error(my_dict, key):\n",
        "    return my_dict[key]\n",
        "\n",
        "def read_file(file_path):\n",
        "    with open(file_path, \"r\") as f:\n",
        "        return f.read(1000000000)\n",
        "\n",
        "def create_directory(dir_path):\n",
        "    os.mkdir(dir_path)\n",
        "\n",
        "try:\n",
        "    divide_by_zero()\n",
        "except ZeroDivisionError:\n",
        "    print(\"Error: division by zero\")\n",
        "\n",
        "my_list = [1, 2, 3]\n",
        "try:\n",
        "    get_item_by_index(my_list, 5)\n",
        "except IndexError:\n",
        "    print(\"Error: list index out of range\")\n",
        "\n",
        "try:\n",
        "    raise_assertion_error(5)\n",
        "except AssertionError:\n",
        "    print(\"Error: assertion failed\")\n",
        "\n",
        "my_dict = {\"key1\": \"value1\", \"key2\": \"value2\"}\n",
        "try:\n",
        "    raise_key_error(my_dict, \"key3\")\n",
        "except KeyError:\n",
        "    print(\"Error: key not found\")\n",
        "\n",
        "try:\n",
        "    read_file(\"nonexistent_file.txt\")\n",
        "except FileNotFoundError:\n",
        "    print(\"Error: file not found\")\n",
        "\n",
        "try:\n",
        "    create_directory(\"/root/newdir\")\n",
        "except OSError:\n",
        "    print(\"Error: failed to create directory\")\n"
      ],
      "metadata": {
        "colab": {
          "base_uri": "https://localhost:8080/"
        },
        "id": "GPM0VZtAkqo8",
        "outputId": "28e72e91-e7e5-4330-9e74-9a07ffa57d3e"
      },
      "execution_count": null,
      "outputs": [
        {
          "output_type": "stream",
          "name": "stdout",
          "text": [
            "Error: division by zero\n",
            "Error: list index out of range\n",
            "Error: assertion failed\n",
            "Error: key not found\n",
            "Error: file not found\n"
          ]
        }
      ]
    },
    {
      "cell_type": "code",
      "source": [
        "try:\n",
        "    # code that may raise exceptions\n",
        "    x = 1 / 0\n",
        "    num = int(\"hello\")\n",
        "except ZeroDivisionError:\n",
        "    # handle the ZeroDivisionError\n",
        "    print(\"Cannot divide by zero!\")\n",
        "except ValueError:\n",
        "    # handle the ValueError\n",
        "    print(\"Invalid value provided!\")\n",
        "\n"
      ],
      "metadata": {
        "colab": {
          "base_uri": "https://localhost:8080/"
        },
        "id": "lNtGxzPAkqyo",
        "outputId": "25b26dfa-4848-473b-ae20-effa9516e25c"
      },
      "execution_count": null,
      "outputs": [
        {
          "output_type": "stream",
          "name": "stdout",
          "text": [
            "Invalid value provided!\n"
          ]
        }
      ]
    },
    {
      "cell_type": "code",
      "source": [
        "try:\n",
        "    # code that may raise exceptions\n",
        "    #x = 1 / 0\n",
        "    num = int(\"hello\")\n",
        "except Exception as e:\n",
        "  # handle any other exception\n",
        "    print(f\"Unexpected error: {e}\")"
      ],
      "metadata": {
        "colab": {
          "base_uri": "https://localhost:8080/"
        },
        "id": "u0Owt11ay7XZ",
        "outputId": "38aef453-fae3-432c-e589-9616f09d38a3"
      },
      "execution_count": null,
      "outputs": [
        {
          "output_type": "stream",
          "name": "stdout",
          "text": [
            "Unexpected error: invalid literal for int() with base 10: 'hello'\n"
          ]
        }
      ]
    },
    {
      "cell_type": "code",
      "source": [
        "try:\n",
        "    x = int(input(\"Enter a number: \"))\n",
        "    y = 1 / x\n",
        "    lst = [1, 2, 3]\n",
        "    index = int(input(\"Enter an index: \"))\n",
        "    print(f\"The element at index {index} is {lst[index]}\")\n",
        "except ValueError:\n",
        "    print(\"Invalid input. Please enter a valid integer.\")\n",
        "except ZeroDivisionError:\n",
        "    print(\"Cannot divide by zero.\")\n",
        "except IndexError:\n",
        "    print(\"Index out of range. Please enter a valid index.\")\n"
      ],
      "metadata": {
        "colab": {
          "base_uri": "https://localhost:8080/"
        },
        "id": "EDvfidXH06GW",
        "outputId": "d5f6a630-9259-4983-ac64-25e0c1a708a6"
      },
      "execution_count": null,
      "outputs": [
        {
          "output_type": "stream",
          "name": "stdout",
          "text": [
            "Enter a number: 0\n",
            "Cannot divide by zero.\n"
          ]
        }
      ]
    },
    {
      "cell_type": "code",
      "source": [
        "import mysql.connector\n",
        "\n",
        "try:\n",
        "    # create a connection to the database\n",
        "    conn = mysql.connector.connect(\n",
        "        host=\"localhost\",\n",
        "        user=\"myusername\",\n",
        "        password=\"mypassword\",\n",
        "        database=\"mydatabase\"\n",
        "    )\n",
        "\n",
        "    # create a cursor object\n",
        "    cursor = conn.cursor()\n",
        "\n",
        "    # execute a SQL query\n",
        "    cursor.execute(\"SELECT * FROM mytable\")\n",
        "\n",
        "    # fetch the results\n",
        "    results = cursor.fetchall()\n",
        "\n",
        "except mysql.connector.Error as error:\n",
        "    # handle the exception here\n",
        "    # ...\n",
        "    # print an error message\n",
        "    print(\"Error: {}\".format(error))\n",
        "\n",
        "finally:\n",
        "    # close the cursor and connection\n",
        "    cursor.close()\n",
        "    conn.close()\n"
      ],
      "metadata": {
        "id": "qPUeaqGOkq78"
      },
      "execution_count": null,
      "outputs": []
    },
    {
      "cell_type": "code",
      "metadata": {
        "id": "TUel9Pi34tP-",
        "colab": {
          "base_uri": "https://localhost:8080/",
          "height": 200
        },
        "outputId": "82a896a8-609a-47a5-bf60-f82dc97bea7e"
      },
      "source": [
        "print(x)\n",
        "c= 2+6\n",
        "print(c)"
      ],
      "execution_count": null,
      "outputs": [
        {
          "output_type": "error",
          "ename": "NameError",
          "evalue": "ignored",
          "traceback": [
            "\u001b[0;31m---------------------------------------------------------------------------\u001b[0m",
            "\u001b[0;31mNameError\u001b[0m                                 Traceback (most recent call last)",
            "\u001b[0;32m<ipython-input-1-058e95d54731>\u001b[0m in \u001b[0;36m<module>\u001b[0;34m\u001b[0m\n\u001b[0;32m----> 1\u001b[0;31m \u001b[0mprint\u001b[0m\u001b[0;34m(\u001b[0m\u001b[0mx\u001b[0m\u001b[0;34m)\u001b[0m\u001b[0;34m\u001b[0m\u001b[0;34m\u001b[0m\u001b[0m\n\u001b[0m\u001b[1;32m      2\u001b[0m \u001b[0mc\u001b[0m\u001b[0;34m=\u001b[0m \u001b[0;36m2\u001b[0m\u001b[0;34m+\u001b[0m\u001b[0;36m6\u001b[0m\u001b[0;34m\u001b[0m\u001b[0;34m\u001b[0m\u001b[0m\n\u001b[1;32m      3\u001b[0m \u001b[0mprint\u001b[0m\u001b[0;34m(\u001b[0m\u001b[0mc\u001b[0m\u001b[0;34m)\u001b[0m\u001b[0;34m\u001b[0m\u001b[0;34m\u001b[0m\u001b[0m\n",
            "\u001b[0;31mNameError\u001b[0m: name 'x' is not defined"
          ]
        }
      ]
    },
    {
      "cell_type": "code",
      "metadata": {
        "id": "4SWWPkl25EyY",
        "colab": {
          "base_uri": "https://localhost:8080/"
        },
        "outputId": "f2bca489-476d-4582-b6f7-038f57c91ed0"
      },
      "source": [
        "try:\n",
        "  print(x)\n",
        "except:\n",
        "  print('error')\n",
        "\n",
        "finally:\n",
        "  c=2+6\n",
        "  print(c)"
      ],
      "execution_count": null,
      "outputs": [
        {
          "output_type": "stream",
          "name": "stdout",
          "text": [
            "error\n",
            "8\n"
          ]
        }
      ]
    },
    {
      "cell_type": "code",
      "metadata": {
        "id": "sxhDOJfp5eqz",
        "colab": {
          "base_uri": "https://localhost:8080/",
          "height": 51
        },
        "outputId": "affcc094-fa19-4101-d3c5-5988abcb36ff"
      },
      "source": [
        "try:\n",
        "  print(x)\n",
        "\n",
        "except:\n",
        "  print(\"error occurs\")\n",
        "\n",
        "finally:\n",
        "  c=8+9\n",
        "  print(c)"
      ],
      "execution_count": null,
      "outputs": [
        {
          "output_type": "stream",
          "text": [
            "error occurs\n",
            "17\n"
          ],
          "name": "stdout"
        }
      ]
    },
    {
      "cell_type": "code",
      "metadata": {
        "id": "yqQXgSjl7MeB",
        "colab": {
          "base_uri": "https://localhost:8080/",
          "height": 280
        },
        "outputId": "83a22413-b50f-4a14-d85e-b7f4c2de95b2"
      },
      "source": [
        "#example\n",
        "\n",
        "a=[2,4,6,'a',8,0]\n",
        "for i in a:\n",
        "  c=2/i\n",
        "  print(c)"
      ],
      "execution_count": null,
      "outputs": [
        {
          "output_type": "stream",
          "text": [
            "1.0\n",
            "0.5\n",
            "0.3333333333333333\n"
          ],
          "name": "stdout"
        },
        {
          "output_type": "error",
          "ename": "TypeError",
          "evalue": "ignored",
          "traceback": [
            "\u001b[0;31m---------------------------------------------------------------------------\u001b[0m",
            "\u001b[0;31mTypeError\u001b[0m                                 Traceback (most recent call last)",
            "\u001b[0;32m<ipython-input-4-b95fefadd022>\u001b[0m in \u001b[0;36m<module>\u001b[0;34m()\u001b[0m\n\u001b[1;32m      3\u001b[0m \u001b[0ma\u001b[0m\u001b[0;34m=\u001b[0m\u001b[0;34m[\u001b[0m\u001b[0;36m2\u001b[0m\u001b[0;34m,\u001b[0m\u001b[0;36m4\u001b[0m\u001b[0;34m,\u001b[0m\u001b[0;36m6\u001b[0m\u001b[0;34m,\u001b[0m\u001b[0;34m'a'\u001b[0m\u001b[0;34m,\u001b[0m\u001b[0;36m8\u001b[0m\u001b[0;34m,\u001b[0m\u001b[0;36m0\u001b[0m\u001b[0;34m]\u001b[0m\u001b[0;34m\u001b[0m\u001b[0;34m\u001b[0m\u001b[0m\n\u001b[1;32m      4\u001b[0m \u001b[0;32mfor\u001b[0m \u001b[0mi\u001b[0m \u001b[0;32min\u001b[0m \u001b[0ma\u001b[0m\u001b[0;34m:\u001b[0m\u001b[0;34m\u001b[0m\u001b[0;34m\u001b[0m\u001b[0m\n\u001b[0;32m----> 5\u001b[0;31m   \u001b[0mc\u001b[0m\u001b[0;34m=\u001b[0m\u001b[0;36m2\u001b[0m\u001b[0;34m/\u001b[0m\u001b[0mi\u001b[0m\u001b[0;34m\u001b[0m\u001b[0;34m\u001b[0m\u001b[0m\n\u001b[0m\u001b[1;32m      6\u001b[0m   \u001b[0mprint\u001b[0m\u001b[0;34m(\u001b[0m\u001b[0mc\u001b[0m\u001b[0;34m)\u001b[0m\u001b[0;34m\u001b[0m\u001b[0;34m\u001b[0m\u001b[0m\n",
            "\u001b[0;31mTypeError\u001b[0m: unsupported operand type(s) for /: 'int' and 'str'"
          ]
        }
      ]
    },
    {
      "cell_type": "code",
      "source": [
        "import sys\n",
        "a=[2,4,6,'a',8,0]\n",
        "for i in a:\n",
        "  try:\n",
        "    c=2/i\n",
        "    print(c)\n",
        "  except Exception as e:\n",
        "    print(\"error\")"
      ],
      "metadata": {
        "colab": {
          "base_uri": "https://localhost:8080/"
        },
        "id": "IsuO-o14iFvN",
        "outputId": "3ad2adc4-fac0-468f-94c7-612eeee25daf"
      },
      "execution_count": null,
      "outputs": [
        {
          "output_type": "stream",
          "name": "stdout",
          "text": [
            "1.0\n",
            "0.5\n",
            "0.3333333333333333\n",
            "error\n",
            "0.25\n",
            "error\n"
          ]
        }
      ]
    },
    {
      "cell_type": "code",
      "metadata": {
        "id": "JW9wizHE-epr",
        "colab": {
          "base_uri": "https://localhost:8080/"
        },
        "outputId": "07ed2b27-9f7a-4f94-bca5-d81a10e2ebf0"
      },
      "source": [
        "import sys\n",
        "a=[2,4,6,'a',8,0]\n",
        "for i in a:\n",
        "  try:\n",
        "    c=2/i\n",
        "    print(c)\n",
        "  except:\n",
        "    print(\"error\",sys.exc_info())"
      ],
      "execution_count": null,
      "outputs": [
        {
          "output_type": "stream",
          "name": "stdout",
          "text": [
            "1.0\n",
            "0.5\n",
            "0.3333333333333333\n",
            "error (<class 'TypeError'>, TypeError(\"unsupported operand type(s) for /: 'int' and 'str'\"), <traceback object at 0x78e7d1df4e00>)\n",
            "0.25\n",
            "error (<class 'ZeroDivisionError'>, ZeroDivisionError('division by zero'), <traceback object at 0x78e7d1df4e00>)\n"
          ]
        }
      ]
    },
    {
      "cell_type": "code",
      "metadata": {
        "id": "KXJhHO-I_MXE",
        "colab": {
          "base_uri": "https://localhost:8080/",
          "height": 136
        },
        "outputId": "9cca2a0d-4473-4a59-feb7-c96ed36cb5a1"
      },
      "source": [
        "import sys\n",
        "a=[1,2,3,4,'s',9,0]\n",
        "for i in a:\n",
        "  try:\n",
        "    c=2/i\n",
        "    print(c)\n",
        "\n",
        "  except:\n",
        "    print('error',sys.exc_info()[0])"
      ],
      "execution_count": null,
      "outputs": [
        {
          "output_type": "stream",
          "text": [
            "2.0\n",
            "1.0\n",
            "0.6666666666666666\n",
            "0.5\n",
            "error <class 'TypeError'>\n",
            "0.2222222222222222\n",
            "error <class 'ZeroDivisionError'>\n"
          ],
          "name": "stdout"
        }
      ]
    },
    {
      "cell_type": "code",
      "metadata": {
        "colab": {
          "base_uri": "https://localhost:8080/"
        },
        "id": "IZGMhGRnp15P",
        "outputId": "a209fcc0-d247-4898-ee15-7e00bd2ff360"
      },
      "source": [
        "import sys\n",
        "\n",
        "randomList = ['a', 0, '2']\n",
        "\n",
        "for entry in randomList:\n",
        "    try:\n",
        "        print(\"The entry is\", entry)\n",
        "        r = 1/int(entry)\n",
        "\n",
        "    except:\n",
        "        print(\"Oops!\", sys.exc_info()[0], \"occurred.\")\n",
        "        print(\"Next entry.\")\n",
        "        print()\n",
        "print(\"The reciprocal of\", entry, \"is\", r)"
      ],
      "execution_count": null,
      "outputs": [
        {
          "output_type": "stream",
          "name": "stdout",
          "text": [
            "The entry is a\n",
            "Oops! <class 'ValueError'> occurred.\n",
            "Next entry.\n",
            "\n",
            "The entry is 0\n",
            "Oops! <class 'ZeroDivisionError'> occurred.\n",
            "Next entry.\n",
            "\n",
            "The entry is 2\n",
            "The reciprocal of 2 is 0.5\n"
          ]
        }
      ]
    },
    {
      "cell_type": "code",
      "source": [
        "try:\n",
        "    num1 = int(input(\"Enter First Number: \"))\n",
        "    num2 = int(input(\"Enter Second Number: \"))\n",
        "\n",
        "    result = num1 / num2\n",
        "\n",
        "    print(result)\n",
        "except ValueError as e:\n",
        "    print(\"Invalid Input Please Input Integer...\")\n",
        "except ZeroDivisionError as e:\n",
        "    print(e)\n"
      ],
      "metadata": {
        "colab": {
          "base_uri": "https://localhost:8080/"
        },
        "id": "PY1yKPLCBVjr",
        "outputId": "11d48f1d-3a33-4456-e741-e9465be27455"
      },
      "execution_count": null,
      "outputs": [
        {
          "output_type": "stream",
          "name": "stdout",
          "text": [
            "Enter First Number: w\n",
            "Invalid Input Please Input Integer...\n"
          ]
        }
      ]
    },
    {
      "cell_type": "code",
      "metadata": {
        "colab": {
          "base_uri": "https://localhost:8080/"
        },
        "id": "pzZAlkZ2PObR",
        "outputId": "6cb25889-152d-414d-b843-4d9fa0c65de7"
      },
      "source": [
        "# Program to handle multiple errors with one\n",
        "# except statement\n",
        "# Python 3\n",
        "\n",
        "def fun(a):\n",
        "\tif a < 4:\n",
        "\n",
        "\t\t# throws ZeroDivisionError for a = 3\n",
        "\t\tb = a/(a-3)\n",
        "\n",
        "\t# throws NameError if a >= 4\n",
        "\tprint(\"Value of b = \", b)\n",
        "\n",
        "try:\n",
        "\tfun(3)\n",
        "\tfun(5)\n",
        "\n",
        "\n",
        "# note that braces () are necessary here for\n",
        "# multiple exceptions\n",
        "except ZeroDivisionError:\n",
        "\tprint(\"ZeroDivisionError Occurred and Handled\")\n",
        "except NameError:\n",
        "\tprint(\"NameError Occurred and Handled\")\n"
      ],
      "execution_count": null,
      "outputs": [
        {
          "output_type": "stream",
          "name": "stdout",
          "text": [
            "ZeroDivisionError Occurred and Handled\n"
          ]
        }
      ]
    },
    {
      "cell_type": "code",
      "metadata": {
        "id": "fyoD0P2Vbnku"
      },
      "source": [
        "# user defined exception\n",
        "# guess game\n",
        "class Error(Exception):\n",
        "  pass\n",
        "class ToSmallNumber(Error):\n",
        "  pass\n",
        "class ToLargeNumber(Error):\n",
        "  pass\n",
        "num=10\n",
        "while True:\n",
        "  try:\n",
        "    ch=int(input(\"Enter The Number\"))\n",
        "    if ch<10:\n",
        "      raise ToSmallNumber\n",
        "    elif ch>10:\n",
        "      raise ToLargeNumber\n",
        "    break\n",
        "  except ToSmallNumber:\n",
        "    print(\"you have entered an small number,please try again\")\n",
        "  except ToLargeNumber:\n",
        "    print(\"you have entered an large number,please try again\")\n",
        "\n",
        "print(\"you entered the correct number\")\n",
        "\n"
      ],
      "execution_count": null,
      "outputs": []
    },
    {
      "cell_type": "code",
      "metadata": {
        "id": "rLYlc0s9dEXA",
        "colab": {
          "base_uri": "https://localhost:8080/",
          "height": 34
        },
        "outputId": "faac89cc-c702-48e7-c944-cf8365c0cfca"
      },
      "source": [
        "import re\n",
        "string = ' 2102 1111'\n",
        "# Three digit number followed by space followed by two digit number\n",
        "pattern = '(\\d{3}) (\\d{2})'\n",
        "# match variable contains a Match object.\n",
        "match = re.search(pattern, string)\n",
        "if match:\n",
        "  print(match.group())\n",
        "else:\n",
        "  print(\"pattern not found\")"
      ],
      "execution_count": null,
      "outputs": [
        {
          "output_type": "stream",
          "text": [
            "102 11\n"
          ],
          "name": "stdout"
        }
      ]
    },
    {
      "cell_type": "code",
      "source": [
        "try:\n",
        "    open(\"nonexistentfile.txt\")\n",
        "except (FileNotFoundError, IsADirectoryError) as e:\n",
        "    print(type(e).__name__)\n"
      ],
      "metadata": {
        "id": "BMbVTugecNyR",
        "outputId": "d31f5d80-2ef7-4055-fa8f-2b23bcc40557",
        "colab": {
          "base_uri": "https://localhost:8080/"
        }
      },
      "execution_count": null,
      "outputs": [
        {
          "output_type": "stream",
          "name": "stdout",
          "text": [
            "FileNotFoundError\n"
          ]
        }
      ]
    },
    {
      "cell_type": "code",
      "source": [
        "BaseException\n",
        "├── SystemExit\n",
        "├── KeyboardInterrupt\n",
        "├── GeneratorExit\n",
        "└── Exception\n",
        "    ├── ArithmeticError\n",
        "    │   ├── ZeroDivisionError\n",
        "    │   ├── OverflowError\n",
        "    │   └── FloatingPointError\n",
        "    ├── AttributeError\n",
        "    ├── BufferError\n",
        "    ├── EOFError\n",
        "    ├── ImportError\n",
        "    │   └── ModuleNotFoundError\n",
        "    ├── LookupError\n",
        "    │   ├── IndexError\n",
        "    │   └── KeyError\n",
        "    ├── OSError\n",
        "    │   ├── FileNotFoundError\n",
        "    │   ├── PermissionError\n",
        "    │   ├── IsADirectoryError\n",
        "    │   └── NotADirectoryError\n",
        "    ├── RuntimeError\n",
        "    │   └── RecursionError\n",
        "    ├── TypeError\n",
        "    ├── ValueError\n",
        "    │   └── UnicodeError\n",
        "    │       ├── UnicodeEncodeError\n",
        "    │       ├── UnicodeDecodeError\n",
        "    │       └── UnicodeTranslateError\n",
        "    ├── AssertionError\n",
        "    ├── NameError\n",
        "    │   └── UnboundLocalError\n",
        "    └── MemoryError\n"
      ],
      "metadata": {
        "id": "pU0OPjyu2GJp"
      },
      "execution_count": null,
      "outputs": []
    }
  ]
}