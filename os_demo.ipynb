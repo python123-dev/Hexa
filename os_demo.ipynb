{
 "cells": [
  {
   "cell_type": "code",
   "execution_count": 1,
   "id": "94d63133",
   "metadata": {},
   "outputs": [],
   "source": [
    "import os"
   ]
  },
  {
   "cell_type": "code",
   "execution_count": 2,
   "id": "595b44a3",
   "metadata": {},
   "outputs": [
    {
     "name": "stdout",
     "output_type": "stream",
     "text": [
      "C:\\Users\\gauth\\Python notebooks\n"
     ]
    }
   ],
   "source": [
    "print((os.getcwd()))"
   ]
  },
  {
   "cell_type": "code",
   "execution_count": 6,
   "id": "a087b1e0",
   "metadata": {},
   "outputs": [
    {
     "data": {
      "text/plain": [
       "'d:\\\\files'"
      ]
     },
     "execution_count": 6,
     "metadata": {},
     "output_type": "execute_result"
    }
   ],
   "source": [
    "os.chdir('d:/files')\n",
    "os.getcwd()"
   ]
  },
  {
   "cell_type": "code",
   "execution_count": 7,
   "id": "d7b72fbc",
   "metadata": {},
   "outputs": [],
   "source": [
    "os.mkdir('demo')"
   ]
  },
  {
   "cell_type": "code",
   "execution_count": 9,
   "id": "47012845",
   "metadata": {},
   "outputs": [],
   "source": [
    "os.makedirs('python/class/object')"
   ]
  },
  {
   "cell_type": "code",
   "execution_count": 10,
   "id": "87727ec3",
   "metadata": {},
   "outputs": [],
   "source": [
    "os.rmdir('demo')"
   ]
  },
  {
   "cell_type": "code",
   "execution_count": 11,
   "id": "e7506b8e",
   "metadata": {},
   "outputs": [
    {
     "name": "stdout",
     "output_type": "stream",
     "text": [
      "deleted\n"
     ]
    }
   ],
   "source": [
    "os.removedirs('python/class/object')\n",
    "print('deleted')"
   ]
  },
  {
   "cell_type": "code",
   "execution_count": 12,
   "id": "e574cbe5",
   "metadata": {},
   "outputs": [],
   "source": [
    "os.rename('hello','home')"
   ]
  },
  {
   "cell_type": "code",
   "execution_count": 13,
   "id": "33a12527",
   "metadata": {},
   "outputs": [],
   "source": [
    "os.rename('temp.txt','demo.txt')"
   ]
  },
  {
   "cell_type": "code",
   "execution_count": 15,
   "id": "5845bdc5",
   "metadata": {},
   "outputs": [
    {
     "name": "stdout",
     "output_type": "stream",
     "text": [
      "Cirrent Path: d:/files\n",
      "Directories: ['home', 'new_home', 'old_home']\n",
      "files: ['demo.txt']\n",
      "\n",
      "Cirrent Path: d:/files\\home\n",
      "Directories: []\n",
      "files: ['oldhome.txt']\n",
      "\n",
      "Cirrent Path: d:/files\\new_home\n",
      "Directories: ['document_files', 'excel_files', 'powerpoint_filse', 'txt_files']\n",
      "files: []\n",
      "\n",
      "Cirrent Path: d:/files\\new_home\\document_files\n",
      "Directories: []\n",
      "files: ['oldhome.docx']\n",
      "\n",
      "Cirrent Path: d:/files\\new_home\\excel_files\n",
      "Directories: []\n",
      "files: ['oldhome.xlsx']\n",
      "\n",
      "Cirrent Path: d:/files\\new_home\\powerpoint_filse\n",
      "Directories: []\n",
      "files: ['oldhome.pptx']\n",
      "\n",
      "Cirrent Path: d:/files\\new_home\\txt_files\n",
      "Directories: []\n",
      "files: ['oldhome.txt']\n",
      "\n",
      "Cirrent Path: d:/files\\old_home\n",
      "Directories: []\n",
      "files: ['oldhome.docx', 'oldhome.pptx', 'oldhome.txt', 'oldhome.xlsx']\n",
      "\n"
     ]
    }
   ],
   "source": [
    "dir_path=[]\n",
    "\n",
    "\n",
    "for dirpath,dirnames,filenames in os.walk('d:/files'):\n",
    "    print(\"Cirrent Path:\",dirpath)\n",
    "    dir_path.append(dirpath)\n",
    "    print(\"Directories:\",dirnames)\n",
    "    print(\"files:\",filenames)\n",
    "    print()\n",
    "    \n",
    "    \n",
    "    \n",
    "print(dirpath)"
   ]
  },
  {
   "cell_type": "code",
   "execution_count": 17,
   "id": "fe79c744",
   "metadata": {},
   "outputs": [
    {
     "name": "stdout",
     "output_type": "stream",
     "text": [
      "['oldhome.docx', 'oldhome.pptx', 'oldhome.txt', 'oldhome.xlsx']\n"
     ]
    }
   ],
   "source": [
    "print(filenames)"
   ]
  },
  {
   "cell_type": "code",
   "execution_count": 19,
   "id": "9b3bfed1",
   "metadata": {},
   "outputs": [
    {
     "name": "stdout",
     "output_type": "stream",
     "text": [
      "Folder already exists at d:/files/home\n"
     ]
    }
   ],
   "source": [
    "import os\n",
    "\n",
    "# Specify the path of the folder you want to check/create\n",
    "folder_path = 'd:/files/home'\n",
    "\n",
    "# Check if the folder exists\n",
    "if not os.path.exists(folder_path):\n",
    "    # If not, create the folder\n",
    "    os.makedirs(folder_path)\n",
    "    print(f\"Folder created at {folder_path}\")\n",
    "else:\n",
    "    print(f\"Folder already exists at {folder_path}\")\n"
   ]
  },
  {
   "cell_type": "code",
   "execution_count": 20,
   "id": "a53b21f0",
   "metadata": {},
   "outputs": [
    {
     "name": "stdout",
     "output_type": "stream",
     "text": [
      "Renamed 'd:/files/demo' to 'd:/files/new_demo'\n"
     ]
    }
   ],
   "source": [
    "import os\n",
    "\n",
    "# Specify the current name and new name of the file/folder\n",
    "current_name = 'd:/files/demo'\n",
    "new_name = 'd:/files/new_demo'\n",
    "\n",
    "# Rename the file/folder\n",
    "os.rename(current_name, new_name)\n",
    "\n",
    "print(f\"Renamed '{current_name}' to '{new_name}'\")"
   ]
  },
  {
   "cell_type": "code",
   "execution_count": 21,
   "id": "d5fb4508",
   "metadata": {},
   "outputs": [
    {
     "name": "stdout",
     "output_type": "stream",
     "text": [
      "Text file found at: d:/files\\demo.txt\n"
     ]
    }
   ],
   "source": [
    "import os\n",
    "\n",
    "# Specify the root directory to start the search\n",
    "root_dir = 'd:/files'\n",
    "\n",
    "# Function to search for a text file inside a directory\n",
    "\n",
    "def search_for_text_file(directory):\n",
    "    \n",
    "    for dirpath, dirnames, filenames in os.walk(directory):\n",
    "        \n",
    "        for filename in filenames:\n",
    "            if filename.endswith('.txt'):\n",
    "                # If the file ends with '.txt', it's a text file\n",
    "                return os.path.join(dirpath, filename)\n",
    "\n",
    "# Call the function with the root directory to search for the text file\n",
    "text_file_path = search_for_text_file(root_dir)\n",
    "\n",
    "if text_file_path:\n",
    "    print(f\"Text file found at: {text_file_path}\")\n",
    "else:\n",
    "    print(\"Text file not found.\")\n"
   ]
  },
  {
   "cell_type": "code",
   "execution_count": 26,
   "id": "d61163fb",
   "metadata": {},
   "outputs": [
    {
     "name": "stdout",
     "output_type": "stream",
     "text": [
      "File found at: d:/files\\home\\oldhome.txt\n"
     ]
    }
   ],
   "source": [
    "import os\n",
    "\n",
    "# Specify the root directory to start the search\n",
    "root_dir = 'd:/files'\n",
    "target_file_name = 'oldhome.txt'  # specify the name of the target file\n",
    "\n",
    "# Function to search for a file by name inside a directory\n",
    "def search_for_file(directory, file_name):\n",
    "    for dirpath, dirnames, filenames in os.walk(directory):\n",
    "        for filename in filenames:\n",
    "            if filename == file_name:\n",
    "                #os.rename(file_name,'updated_home.txt')\n",
    "                # If the file name matches, return the full path of the file\n",
    "                return os.path.join(dirpath, filename)\n",
    "\n",
    "# Call the function with the root directory and target file name\n",
    "file_path = search_for_file(root_dir, target_file_name)\n",
    "\n",
    "if file_path:\n",
    "    print(f\"File found at: {file_path}\")\n",
    "    os.rename(file_path,'updated_home.txt')\n",
    "else:\n",
    "    print(\"File not found.\")\n",
    "\n",
    "    \n",
    "    "
   ]
  },
  {
   "cell_type": "code",
   "execution_count": 27,
   "id": "e3f7bab0",
   "metadata": {},
   "outputs": [
    {
     "name": "stdout",
     "output_type": "stream",
     "text": [
      "d:\\filestext.txt\n"
     ]
    }
   ],
   "source": [
    "path=os.getcwd()+'text.txt'\n",
    "print(path)"
   ]
  },
  {
   "cell_type": "code",
   "execution_count": 28,
   "id": "d97e4be0",
   "metadata": {},
   "outputs": [
    {
     "name": "stdout",
     "output_type": "stream",
     "text": [
      "d:\\files\\test.txt\n"
     ]
    }
   ],
   "source": [
    "file_path=os.path.join(os.getcwd(),'test.txt')\n",
    "print(file_path)"
   ]
  },
  {
   "cell_type": "code",
   "execution_count": 29,
   "id": "180a8bc9",
   "metadata": {},
   "outputs": [
    {
     "name": "stdout",
     "output_type": "stream",
     "text": [
      "test.txt\n"
     ]
    }
   ],
   "source": [
    "print(os.path.basename('tmp/test.txt'))"
   ]
  },
  {
   "cell_type": "code",
   "execution_count": 30,
   "id": "18dd639c",
   "metadata": {},
   "outputs": [
    {
     "name": "stdout",
     "output_type": "stream",
     "text": [
      "tmp\n"
     ]
    }
   ],
   "source": [
    "print(os.path.dirname('tmp/test.txt'))"
   ]
  },
  {
   "cell_type": "code",
   "execution_count": 31,
   "id": "a88f2381",
   "metadata": {},
   "outputs": [
    {
     "name": "stdout",
     "output_type": "stream",
     "text": [
      "('tmp', 'test.txt')\n"
     ]
    }
   ],
   "source": [
    "print(os.path.split('tmp/test.txt'))"
   ]
  },
  {
   "cell_type": "code",
   "execution_count": 36,
   "id": "e3fc573e",
   "metadata": {},
   "outputs": [
    {
     "name": "stdout",
     "output_type": "stream",
     "text": [
      "False\n"
     ]
    }
   ],
   "source": [
    "print(os.path.exists( 'd:/files/home/oldhome.txt'))"
   ]
  },
  {
   "cell_type": "code",
   "execution_count": 37,
   "id": "79689aad",
   "metadata": {},
   "outputs": [
    {
     "name": "stdout",
     "output_type": "stream",
     "text": [
      "('tmp/test', '.txt')\n"
     ]
    }
   ],
   "source": [
    "print(os.path.splitext('tmp/test.txt'))"
   ]
  },
  {
   "cell_type": "code",
   "execution_count": 42,
   "id": "d3c2932a",
   "metadata": {},
   "outputs": [
    {
     "name": "stdout",
     "output_type": "stream",
     "text": [
      "('d:/files/home/oldhome', '.txt')\n"
     ]
    }
   ],
   "source": [
    "ext=os.path.splitext('d:/files/home/oldhome.txt')\n",
    "print(ext)"
   ]
  },
  {
   "cell_type": "code",
   "execution_count": 44,
   "id": "b2b51d22",
   "metadata": {},
   "outputs": [
    {
     "name": "stdout",
     "output_type": "stream",
     "text": [
      "['demo.txt', 'home', 'new_demo', 'new_home', 'old_home', 'updated_home.txt']\n"
     ]
    }
   ],
   "source": [
    "c=os.getcwd()\n",
    "print(os.listdir(c))"
   ]
  },
  {
   "cell_type": "code",
   "execution_count": 45,
   "id": "63684455",
   "metadata": {},
   "outputs": [
    {
     "name": "stdout",
     "output_type": "stream",
     "text": [
      "files- ['oldhome.docx', 'oldhome.pptx', 'oldhome.txt', 'oldhome.xlsx']\n",
      "File 'oldhome.docx' copied to 'd:/files/new_demo'\n",
      "File 'oldhome.pptx' copied to 'd:/files/new_demo'\n",
      "File 'oldhome.txt' copied to 'd:/files/new_demo'\n",
      "File 'oldhome.xlsx' copied to 'd:/files/new_demo'\n"
     ]
    }
   ],
   "source": [
    "import os\n",
    "import shutil\n",
    "\n",
    "# Specify the source and destination directories\n",
    "source_dir = 'd:/files/old_home'\n",
    "destination_dir = 'd:/files/new_demo'\n",
    "\n",
    "# Get the list of files in the source directory\n",
    "files = os.listdir(source_dir)\n",
    "print('files-',files)\n",
    "# Iterate through the files in the source directory\n",
    "for file in files:\n",
    "    source_path = os.path.join(source_dir, file)\n",
    "    destination_path = os.path.join(destination_dir, file)\n",
    "\n",
    "    # Check if the file is a regular file (not a directory)\n",
    "    if os.path.isfile(source_path):\n",
    "        # Copy the file to the destination directory\n",
    "        shutil.copy2(source_path, destination_path)\n",
    "        print(f\"File '{file}' copied to '{destination_dir}'\")\n"
   ]
  },
  {
   "cell_type": "code",
   "execution_count": 46,
   "id": "3cadcb6b",
   "metadata": {},
   "outputs": [
    {
     "name": "stdout",
     "output_type": "stream",
     "text": [
      "File 'oldhome.txt' copied to 'd:/files/new_demo'\n",
      "File 'updated_home.txt' copied to 'd:/files/new_demo'\n"
     ]
    }
   ],
   "source": [
    "import os\n",
    "import shutil\n",
    "\n",
    "# Specify the source and destination directories\n",
    "source_dir = 'd:/files/old_home'\n",
    "destination_dir = 'd:/files/new_demo'\n",
    "\n",
    "# Specify the file extension of the files you want to copy\n",
    "file_extension = '.txt'  # change to the desired file extension\n",
    "\n",
    "# Get the list of files in the source directory\n",
    "files = os.listdir(source_dir)\n",
    "\n",
    "# Iterate through the files in the source directory\n",
    "for file in files:\n",
    "    source_path = os.path.join(source_dir, file)\n",
    "    destination_path = os.path.join(destination_dir, file)\n",
    "\n",
    "    # Check if the file is a regular file (not a directory)\n",
    "    if os.path.isfile(source_path) and file.endswith(file_extension):\n",
    "        # Copy the file to the destination directory\n",
    "        shutil.copy2(source_path, destination_path)\n",
    "        print(f\"File '{file}' copied to '{destination_dir}'\")\n"
   ]
  },
  {
   "cell_type": "code",
   "execution_count": null,
   "id": "94b10ebd",
   "metadata": {},
   "outputs": [],
   "source": []
  }
 ],
 "metadata": {
  "kernelspec": {
   "display_name": "Python 3 (ipykernel)",
   "language": "python",
   "name": "python3"
  },
  "language_info": {
   "codemirror_mode": {
    "name": "ipython",
    "version": 3
   },
   "file_extension": ".py",
   "mimetype": "text/x-python",
   "name": "python",
   "nbconvert_exporter": "python",
   "pygments_lexer": "ipython3",
   "version": "3.9.13"
  }
 },
 "nbformat": 4,
 "nbformat_minor": 5
}
