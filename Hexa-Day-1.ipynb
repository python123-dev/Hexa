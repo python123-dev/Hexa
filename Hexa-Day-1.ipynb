{
 "cells": [
  {
   "cell_type": "code",
   "execution_count": 1,
   "id": "d77bd396",
   "metadata": {},
   "outputs": [
    {
     "name": "stdout",
     "output_type": "stream",
     "text": [
      "<class 'int'>\n"
     ]
    }
   ],
   "source": [
    "a=12\n",
    "print(type(a))"
   ]
  },
  {
   "cell_type": "code",
   "execution_count": 3,
   "id": "9e13fa56",
   "metadata": {},
   "outputs": [],
   "source": [
    "if 0:\n",
    "    print('-43')"
   ]
  },
  {
   "cell_type": "code",
   "execution_count": 11,
   "id": "da5118e9",
   "metadata": {},
   "outputs": [
    {
     "name": "stdout",
     "output_type": "stream",
     "text": [
      "enter a num: 12\n"
     ]
    }
   ],
   "source": [
    "num=float(input(\"enter a num: \"))"
   ]
  },
  {
   "cell_type": "code",
   "execution_count": 12,
   "id": "d26fbafd",
   "metadata": {},
   "outputs": [
    {
     "name": "stdout",
     "output_type": "stream",
     "text": [
      "<class 'float'>\n"
     ]
    }
   ],
   "source": [
    "print(type(num))"
   ]
  },
  {
   "cell_type": "code",
   "execution_count": 13,
   "id": "fc85610a",
   "metadata": {},
   "outputs": [
    {
     "data": {
      "text/plain": [
       "'12'"
      ]
     },
     "execution_count": 13,
     "metadata": {},
     "output_type": "execute_result"
    }
   ],
   "source": [
    "str(a)"
   ]
  },
  {
   "cell_type": "code",
   "execution_count": 14,
   "id": "a2b5bb4c",
   "metadata": {},
   "outputs": [
    {
     "name": "stdout",
     "output_type": "stream",
     "text": [
      "hello\n"
     ]
    }
   ],
   "source": [
    "print(\"hello\")"
   ]
  },
  {
   "cell_type": "code",
   "execution_count": 20,
   "id": "8c503478",
   "metadata": {},
   "outputs": [
    {
     "name": "stdout",
     "output_type": "stream",
     "text": [
      "hello.\n",
      "1,2,3,4,5\n"
     ]
    }
   ],
   "source": [
    "print(\"hello\",end='.')\n",
    "print()\n",
    "print(1,2,3,4,5,sep=',')"
   ]
  },
  {
   "cell_type": "code",
   "execution_count": 24,
   "id": "cd43c315",
   "metadata": {},
   "outputs": [
    {
     "name": "stdout",
     "output_type": "stream",
     "text": [
      "5\n",
      "hi\n"
     ]
    }
   ],
   "source": [
    "if 5>3:\n",
    "    print('5')\n",
    "print('hi')"
   ]
  },
  {
   "cell_type": "code",
   "execution_count": 25,
   "id": "58cb20d4",
   "metadata": {},
   "outputs": [
    {
     "name": "stdout",
     "output_type": "stream",
     "text": [
      "5\n",
      "hi\n"
     ]
    }
   ],
   "source": [
    "if 5>3:\n",
    "    print('5')\n",
    "print('hi')"
   ]
  },
  {
   "cell_type": "code",
   "execution_count": 28,
   "id": "fbce5c2d",
   "metadata": {},
   "outputs": [
    {
     "name": "stdout",
     "output_type": "stream",
     "text": [
      "hello 0\n",
      "hello 1\n",
      "hello 2\n",
      "hello 3\n",
      "hello 4\n"
     ]
    }
   ],
   "source": [
    "#loops\n",
    "\n",
    "for i in range(5):#stop\n",
    "    print('hello',i)"
   ]
  },
  {
   "cell_type": "code",
   "execution_count": 29,
   "id": "bdd4a251",
   "metadata": {},
   "outputs": [
    {
     "name": "stdout",
     "output_type": "stream",
     "text": [
      "hello 5\n",
      "hello 6\n",
      "hello 7\n",
      "hello 8\n",
      "hello 9\n",
      "hello 10\n",
      "hello 11\n",
      "hello 12\n",
      "hello 13\n",
      "hello 14\n"
     ]
    }
   ],
   "source": [
    "for i in range(5,15): #start,stop\n",
    "    print('hello',i)"
   ]
  },
  {
   "cell_type": "code",
   "execution_count": 30,
   "id": "d602421e",
   "metadata": {},
   "outputs": [
    {
     "name": "stdout",
     "output_type": "stream",
     "text": [
      "hello 5\n",
      "hello 7\n",
      "hello 9\n",
      "hello 11\n",
      "hello 13\n"
     ]
    }
   ],
   "source": [
    "for i in range(5,15,2): #start,stop,step\n",
    "    print('hello',i)"
   ]
  },
  {
   "cell_type": "code",
   "execution_count": 31,
   "id": "bc4a87b7",
   "metadata": {},
   "outputs": [],
   "source": [
    "#1 2 3 4\n",
    "#2 4 6 8\n",
    "#3 6 9 12\n",
    "#4 8 12 16"
   ]
  },
  {
   "cell_type": "code",
   "execution_count": 32,
   "id": "8632b08d",
   "metadata": {},
   "outputs": [
    {
     "name": "stdout",
     "output_type": "stream",
     "text": [
      "0\n",
      "1\n",
      "2\n",
      "end loop\n"
     ]
    }
   ],
   "source": [
    "for i in range(3):\n",
    "    print(i)\n",
    "else:\n",
    "    print('end loop')"
   ]
  },
  {
   "cell_type": "code",
   "execution_count": 33,
   "id": "d1ae7c29",
   "metadata": {},
   "outputs": [
    {
     "name": "stdout",
     "output_type": "stream",
     "text": [
      "a\n",
      "b\n",
      "c\n",
      "d\n"
     ]
    }
   ],
   "source": [
    "for i in 'abcd':\n",
    "    print(i)"
   ]
  },
  {
   "cell_type": "code",
   "execution_count": 34,
   "id": "1642fa9e",
   "metadata": {},
   "outputs": [
    {
     "name": "stdout",
     "output_type": "stream",
     "text": [
      "hello\n",
      "hello\n",
      "hello\n",
      "hello\n",
      "hello\n"
     ]
    }
   ],
   "source": [
    "n=0\n",
    "while n<5:\n",
    "    print('hello')\n",
    "    n+=1 #update counter"
   ]
  },
  {
   "cell_type": "code",
   "execution_count": 35,
   "id": "3523dbaa",
   "metadata": {},
   "outputs": [
    {
     "name": "stdout",
     "output_type": "stream",
     "text": [
      "p\n",
      "y\n"
     ]
    }
   ],
   "source": [
    "#break\n",
    "\n",
    "for i in 'python':\n",
    "    if i=='t':\n",
    "        break\n",
    "    print(i)"
   ]
  },
  {
   "cell_type": "code",
   "execution_count": 36,
   "id": "9c902ab4",
   "metadata": {},
   "outputs": [
    {
     "name": "stdout",
     "output_type": "stream",
     "text": [
      "p\n",
      "y\n",
      "h\n",
      "o\n",
      "n\n"
     ]
    }
   ],
   "source": [
    "#continue #bypass\n",
    "\n",
    "for i in 'python':\n",
    "    if i=='t':\n",
    "        continue\n",
    "    print(i)"
   ]
  },
  {
   "cell_type": "code",
   "execution_count": 37,
   "id": "4f0300ae",
   "metadata": {},
   "outputs": [
    {
     "name": "stdout",
     "output_type": "stream",
     "text": [
      "p\n",
      "y\n",
      "t\n",
      "h\n",
      "o\n",
      "n\n"
     ]
    }
   ],
   "source": [
    "#pass\n",
    "for i in 'python':\n",
    "    if i=='t':\n",
    "        pass\n",
    "    print(i)"
   ]
  },
  {
   "cell_type": "code",
   "execution_count": 39,
   "id": "8fd883c3",
   "metadata": {},
   "outputs": [],
   "source": [
    "#placeholder\n",
    "\n",
    "if True:\n",
    "    pass"
   ]
  },
  {
   "cell_type": "code",
   "execution_count": 40,
   "id": "4d3a615d",
   "metadata": {},
   "outputs": [],
   "source": [
    "def name():\n",
    "    pass"
   ]
  },
  {
   "cell_type": "code",
   "execution_count": 41,
   "id": "5b99c196",
   "metadata": {},
   "outputs": [],
   "source": [
    "#data structures\n",
    "\n",
    "#list-[]\n",
    "#tuple-()\n",
    "#dict-{}\n",
    "#set-{}"
   ]
  },
  {
   "cell_type": "code",
   "execution_count": 44,
   "id": "67c47489",
   "metadata": {},
   "outputs": [
    {
     "data": {
      "text/plain": [
       "[2, 3]"
      ]
     },
     "execution_count": 44,
     "metadata": {},
     "output_type": "execute_result"
    }
   ],
   "source": [
    "l=[1,2,3,4.4,'str',[],(),{}]\n",
    "\n",
    "l[1:3]"
   ]
  },
  {
   "cell_type": "code",
   "execution_count": 45,
   "id": "43a6e06c",
   "metadata": {},
   "outputs": [
    {
     "data": {
      "text/plain": [
       "[{}, (), [], 'str', 4.4, 3, 2, 1]"
      ]
     },
     "execution_count": 45,
     "metadata": {},
     "output_type": "execute_result"
    }
   ],
   "source": [
    "l[::-1]"
   ]
  },
  {
   "cell_type": "code",
   "execution_count": 46,
   "id": "8cd9ed99",
   "metadata": {},
   "outputs": [
    {
     "data": {
      "text/plain": [
       "True"
      ]
     },
     "execution_count": 46,
     "metadata": {},
     "output_type": "execute_result"
    }
   ],
   "source": [
    "1 in l"
   ]
  },
  {
   "cell_type": "code",
   "execution_count": 50,
   "id": "63d5455a",
   "metadata": {},
   "outputs": [],
   "source": [
    "#func in list\n",
    "\n",
    "l=[]\n",
    "for i in range(5):\n",
    "    l.append(1)"
   ]
  },
  {
   "cell_type": "code",
   "execution_count": 51,
   "id": "93918f40",
   "metadata": {},
   "outputs": [
    {
     "data": {
      "text/plain": [
       "[1, 1, 1, 1, 1]"
      ]
     },
     "execution_count": 51,
     "metadata": {},
     "output_type": "execute_result"
    }
   ],
   "source": [
    "l"
   ]
  },
  {
   "cell_type": "code",
   "execution_count": 52,
   "id": "3d019b2c",
   "metadata": {},
   "outputs": [
    {
     "data": {
      "text/plain": [
       "[1, 3, 1, 1, 1, 1]"
      ]
     },
     "execution_count": 52,
     "metadata": {},
     "output_type": "execute_result"
    }
   ],
   "source": [
    "l.insert(1,3)\n",
    "l"
   ]
  },
  {
   "cell_type": "code",
   "execution_count": 53,
   "id": "c8b742b0",
   "metadata": {},
   "outputs": [
    {
     "data": {
      "text/plain": [
       "[1, 1, 1, 1, 1]"
      ]
     },
     "execution_count": 53,
     "metadata": {},
     "output_type": "execute_result"
    }
   ],
   "source": [
    "l.remove(3) #remove(value)\n",
    "l"
   ]
  },
  {
   "cell_type": "code",
   "execution_count": 54,
   "id": "58fad76d",
   "metadata": {},
   "outputs": [
    {
     "data": {
      "text/plain": [
       "[1, 2, 3, 4, 5]"
      ]
     },
     "execution_count": 54,
     "metadata": {},
     "output_type": "execute_result"
    }
   ],
   "source": [
    "l=[1,2,3,4,5,6]\n",
    "l.pop()\n",
    "l"
   ]
  },
  {
   "cell_type": "code",
   "execution_count": 55,
   "id": "61551f9d",
   "metadata": {},
   "outputs": [
    {
     "data": {
      "text/plain": [
       "[1, 2, 4, 5, 6]"
      ]
     },
     "execution_count": 55,
     "metadata": {},
     "output_type": "execute_result"
    }
   ],
   "source": [
    "l=[1,2,3,4,5,6]\n",
    "l.pop(2)\n",
    "l"
   ]
  },
  {
   "cell_type": "code",
   "execution_count": 56,
   "id": "cc837314",
   "metadata": {},
   "outputs": [
    {
     "data": {
      "text/plain": [
       "[99, 2, 4, 5, 6]"
      ]
     },
     "execution_count": 56,
     "metadata": {},
     "output_type": "execute_result"
    }
   ],
   "source": [
    "l[0]=99\n",
    "l"
   ]
  },
  {
   "cell_type": "code",
   "execution_count": 58,
   "id": "932dbb3f",
   "metadata": {},
   "outputs": [
    {
     "data": {
      "text/plain": [
       "[1, 2, 3, 4, 5, 6]"
      ]
     },
     "execution_count": 58,
     "metadata": {},
     "output_type": "execute_result"
    }
   ],
   "source": [
    "l1=[1,2,3]\n",
    "l2=[4,5,6]\n",
    "\n",
    "l1.extend(l2)\n",
    "\n",
    "l1"
   ]
  },
  {
   "cell_type": "code",
   "execution_count": 60,
   "id": "6e4a4bb6",
   "metadata": {},
   "outputs": [
    {
     "data": {
      "text/plain": [
       "[1, 2, 3, 4, 5, 6]"
      ]
     },
     "execution_count": 60,
     "metadata": {},
     "output_type": "execute_result"
    }
   ],
   "source": [
    "l1=[1,2,3]\n",
    "l2=[4,5,6]\n",
    "l3=l1+l2\n",
    "l3"
   ]
  },
  {
   "cell_type": "code",
   "execution_count": 61,
   "id": "723e7009",
   "metadata": {},
   "outputs": [
    {
     "data": {
      "text/plain": [
       "[1, 2, 3, [4, 5, 6]]"
      ]
     },
     "execution_count": 61,
     "metadata": {},
     "output_type": "execute_result"
    }
   ],
   "source": [
    "l1=[1,2,3]\n",
    "l2=[4,5,6]\n",
    "\n",
    "l1.append(l2)\n",
    "\n",
    "l1"
   ]
  },
  {
   "cell_type": "code",
   "execution_count": 62,
   "id": "90ca440d",
   "metadata": {},
   "outputs": [
    {
     "data": {
      "text/plain": [
       "['hello', 'hello', 'hello', 'hello', 'hello']"
      ]
     },
     "execution_count": 62,
     "metadata": {},
     "output_type": "execute_result"
    }
   ],
   "source": [
    "l3=['hello']*5\n",
    "\n",
    "l3"
   ]
  },
  {
   "cell_type": "code",
   "execution_count": 63,
   "id": "bf61bbef",
   "metadata": {},
   "outputs": [],
   "source": [
    "del l3"
   ]
  },
  {
   "cell_type": "code",
   "execution_count": 65,
   "id": "9b60e6e3",
   "metadata": {},
   "outputs": [
    {
     "data": {
      "text/plain": [
       "[]"
      ]
     },
     "execution_count": 65,
     "metadata": {},
     "output_type": "execute_result"
    }
   ],
   "source": [
    "l1.clear()\n",
    "l1"
   ]
  },
  {
   "cell_type": "code",
   "execution_count": 67,
   "id": "d48f10e5",
   "metadata": {},
   "outputs": [
    {
     "name": "stdout",
     "output_type": "stream",
     "text": [
      "[10, 20, 30, 40]\n",
      "[10, 20, 30, 40]\n"
     ]
    }
   ],
   "source": [
    "a=[10,20]\n",
    "b=a\n",
    "b+=[30,40]\n",
    "print(b)\n",
    "print(a)"
   ]
  },
  {
   "cell_type": "code",
   "execution_count": 69,
   "id": "a8b493d8",
   "metadata": {},
   "outputs": [
    {
     "name": "stdout",
     "output_type": "stream",
     "text": [
      "[10, 20, 30, 40]\n",
      "[10, 20]\n"
     ]
    }
   ],
   "source": [
    "a=[10,20]\n",
    "b=a.copy() #shallow copy\n",
    "b+=[30,40]\n",
    "print(b)\n",
    "print(a)"
   ]
  },
  {
   "cell_type": "code",
   "execution_count": 70,
   "id": "a2157276",
   "metadata": {},
   "outputs": [
    {
     "data": {
      "text/plain": [
       "(1, 2, 3, 4, 999)"
      ]
     },
     "execution_count": 70,
     "metadata": {},
     "output_type": "execute_result"
    }
   ],
   "source": [
    "#tuple()\n",
    "\n",
    "t=(1,2,3,4)\n",
    "\n",
    "l=list(t)\n",
    "l.append(999)\n",
    "t=tuple(l)\n",
    "t"
   ]
  },
  {
   "cell_type": "code",
   "execution_count": 71,
   "id": "0dbf918f",
   "metadata": {},
   "outputs": [
    {
     "data": {
      "text/plain": [
       "(1, 2, 3, 4, ['abc', 'qwe'])"
      ]
     },
     "execution_count": 71,
     "metadata": {},
     "output_type": "execute_result"
    }
   ],
   "source": [
    "\n",
    "t=(1,2,3,4,['abc'])\n",
    "\n",
    "\n",
    "t[-1].append('qwe')\n",
    "t"
   ]
  },
  {
   "cell_type": "code",
   "execution_count": 72,
   "id": "8593036d",
   "metadata": {},
   "outputs": [
    {
     "name": "stdout",
     "output_type": "stream",
     "text": [
      "abc\n"
     ]
    }
   ],
   "source": [
    "name,age,dept='abc',30,'eng'\n",
    "\n",
    "print(name)"
   ]
  },
  {
   "cell_type": "code",
   "execution_count": 73,
   "id": "9606ad25",
   "metadata": {},
   "outputs": [
    {
     "data": {
      "text/plain": [
       "('abc', 30, 'eng')"
      ]
     },
     "execution_count": 73,
     "metadata": {},
     "output_type": "execute_result"
    }
   ],
   "source": [
    "data='abc',30,'eng' #packing\n",
    "data"
   ]
  },
  {
   "cell_type": "code",
   "execution_count": 74,
   "id": "2e54d5ff",
   "metadata": {},
   "outputs": [
    {
     "data": {
      "text/plain": [
       "'abc'"
      ]
     },
     "execution_count": 74,
     "metadata": {},
     "output_type": "execute_result"
    }
   ],
   "source": [
    "name,age,dept=data #unpacking\n",
    "\n",
    "name"
   ]
  },
  {
   "cell_type": "code",
   "execution_count": 75,
   "id": "00069e54",
   "metadata": {},
   "outputs": [
    {
     "name": "stdout",
     "output_type": "stream",
     "text": [
      "<class 'dict'>\n"
     ]
    }
   ],
   "source": [
    "s={}\n",
    "print(type(s))"
   ]
  },
  {
   "cell_type": "code",
   "execution_count": 76,
   "id": "da4097f1",
   "metadata": {},
   "outputs": [
    {
     "name": "stdout",
     "output_type": "stream",
     "text": [
      "<class 'set'>\n"
     ]
    }
   ],
   "source": [
    "s=set()\n",
    "print(type(s))"
   ]
  },
  {
   "cell_type": "code",
   "execution_count": 77,
   "id": "8f7627ed",
   "metadata": {},
   "outputs": [
    {
     "data": {
      "text/plain": [
       "{1, 2, 3}"
      ]
     },
     "execution_count": 77,
     "metadata": {},
     "output_type": "execute_result"
    }
   ],
   "source": [
    "s={1,2,3,1,3}\n",
    "s"
   ]
  },
  {
   "cell_type": "code",
   "execution_count": 79,
   "id": "0676eba4",
   "metadata": {},
   "outputs": [
    {
     "data": {
      "text/plain": [
       "[1, 2, 3]"
      ]
     },
     "execution_count": 79,
     "metadata": {},
     "output_type": "execute_result"
    }
   ],
   "source": [
    "l=[1,2,3,1,3]\n",
    "\n",
    "list(set(l))"
   ]
  },
  {
   "cell_type": "code",
   "execution_count": 80,
   "id": "5f9a7d71",
   "metadata": {},
   "outputs": [
    {
     "data": {
      "text/plain": [
       "['my', 'name', 'is', 'abc']"
      ]
     },
     "execution_count": 80,
     "metadata": {},
     "output_type": "execute_result"
    }
   ],
   "source": [
    "s='my name is abc'\n",
    "\n",
    "l=s.split(' ')\n",
    "l"
   ]
  },
  {
   "cell_type": "code",
   "execution_count": 82,
   "id": "9fe939b4",
   "metadata": {},
   "outputs": [
    {
     "name": "stdout",
     "output_type": "stream",
     "text": [
      "my\n",
      "name\n",
      "is\n",
      "abc\n"
     ]
    }
   ],
   "source": [
    "for i in l:\n",
    "    print(i)"
   ]
  },
  {
   "cell_type": "code",
   "execution_count": 83,
   "id": "c758fd07",
   "metadata": {},
   "outputs": [
    {
     "data": {
      "text/plain": [
       "'my name is abc'"
      ]
     },
     "execution_count": 83,
     "metadata": {},
     "output_type": "execute_result"
    }
   ],
   "source": [
    "s=\" \".join(l)\n",
    "s"
   ]
  },
  {
   "cell_type": "code",
   "execution_count": 84,
   "id": "8ad03b42",
   "metadata": {},
   "outputs": [],
   "source": [
    "#functions()\n",
    "\n",
    "#user-defined()\n",
    "\n",
    "#pre-defined()"
   ]
  },
  {
   "cell_type": "code",
   "execution_count": 86,
   "id": "0826fada",
   "metadata": {},
   "outputs": [
    {
     "name": "stdout",
     "output_type": "stream",
     "text": [
      "enter name: abc\n",
      "abc\n"
     ]
    }
   ],
   "source": [
    "#user-defined()\n",
    "\n",
    "def data():\n",
    "    name=input('enter name: ')\n",
    "    print(name)\n",
    "    \n",
    "data()"
   ]
  },
  {
   "cell_type": "code",
   "execution_count": 87,
   "id": "58fc1fe1",
   "metadata": {},
   "outputs": [],
   "source": [
    "#with parameter and without return type\n",
    "#without parameter and wiyhout return\n",
    "#with parameter and with return type\n",
    "##without parameter and with return type"
   ]
  },
  {
   "cell_type": "code",
   "execution_count": 88,
   "id": "72a8b0a6",
   "metadata": {},
   "outputs": [
    {
     "name": "stdout",
     "output_type": "stream",
     "text": [
      "abc\n"
     ]
    }
   ],
   "source": [
    "def data(name): #parameter\n",
    "    print(name)\n",
    "    \n",
    "data('abc')  # arg"
   ]
  },
  {
   "cell_type": "code",
   "execution_count": 89,
   "id": "dfa57e3b",
   "metadata": {},
   "outputs": [
    {
     "data": {
      "text/plain": [
       "'abc'"
      ]
     },
     "execution_count": 89,
     "metadata": {},
     "output_type": "execute_result"
    }
   ],
   "source": [
    "def data(name): #parameter\n",
    "    return name\n",
    "    \n",
    "a=data('abc')  # arg"
   ]
  },
  {
   "cell_type": "code",
   "execution_count": null,
   "id": "e629e6a3",
   "metadata": {},
   "outputs": [],
   "source": []
  }
 ],
 "metadata": {
  "kernelspec": {
   "display_name": "Python 3 (ipykernel)",
   "language": "python",
   "name": "python3"
  },
  "language_info": {
   "codemirror_mode": {
    "name": "ipython",
    "version": 3
   },
   "file_extension": ".py",
   "mimetype": "text/x-python",
   "name": "python",
   "nbconvert_exporter": "python",
   "pygments_lexer": "ipython3",
   "version": "3.9.13"
  }
 },
 "nbformat": 4,
 "nbformat_minor": 5
}
